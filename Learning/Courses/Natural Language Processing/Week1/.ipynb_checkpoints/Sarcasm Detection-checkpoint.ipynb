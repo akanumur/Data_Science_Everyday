{
 "cells": [
  {
   "cell_type": "markdown",
   "metadata": {},
   "source": [
    "Data Source : https://www.kaggle.com/rmisra/news-headlines-dataset-for-sarcasm-detection"
   ]
  },
  {
   "cell_type": "code",
   "execution_count": 1,
   "metadata": {},
   "outputs": [
    {
     "name": "stdout",
     "output_type": "stream",
     "text": [
      "                                        article_link  \\\n",
      "0  https://www.huffingtonpost.com/entry/versace-b...   \n",
      "1  https://www.huffingtonpost.com/entry/roseanne-...   \n",
      "2  https://local.theonion.com/mom-starting-to-fea...   \n",
      "3  https://politics.theonion.com/boehner-just-wan...   \n",
      "4  https://www.huffingtonpost.com/entry/jk-rowlin...   \n",
      "\n",
      "                                            headline  is_sarcastic  \n",
      "0  former versace store clerk sues over secret 'b...             0  \n",
      "1  the 'roseanne' revival catches up to our thorn...             0  \n",
      "2  mom starting to fear son's web series closest ...             1  \n",
      "3  boehner just wants wife to listen, not come up...             1  \n",
      "4  j.k. rowling wishes snape happy birthday in th...             0  \n"
     ]
    }
   ],
   "source": [
    "import pandas as pd\n",
    "\n",
    "  \n",
    "df = pd.read_json(\"Sarcasm_Headlines_Dataset.json\", lines=True)\n",
    "    \n",
    "print(df.head(5))\n"
   ]
  },
  {
   "cell_type": "code",
   "execution_count": 3,
   "metadata": {},
   "outputs": [],
   "source": [
    "from tensorflow.keras.preprocessing.text import Tokenizer\n",
    "from tensorflow.keras.preprocessing.sequence import pad_sequences\n",
    "\n",
    "sentences = df[\"headline\"] # Creating a list of headlines\n",
    "labels = df[\"is_sarcastic\"]"
   ]
  },
  {
   "cell_type": "code",
   "execution_count": 4,
   "metadata": {},
   "outputs": [],
   "source": [
    "#Buliding Classifier\n",
    "vocab_size = 10000\n",
    "embedding_dim = 16\n",
    "max_length = 32\n",
    "trunc_type = 'post'\n",
    "padding_type = 'post'\n",
    "oov_tok = '<OOV>'\n",
    "training_size = 20000\n",
    "\n",
    "#To split the data into training and test set we use the following commands\n",
    "training_sentences = sentences[0:training_size]\n",
    "testing_sentences = sentences[training_size:]\n",
    "training_labels = labels[0:training_size]\n",
    "testing_labels = labels[training_size:]"
   ]
  },
  {
   "cell_type": "code",
   "execution_count": 9,
   "metadata": {},
   "outputs": [],
   "source": [
    "#Tokenizing and padding the dataset\n",
    "tokenizer = Tokenizer(num_words = vocab_size,oov_token = oov_tok)\n",
    "tokenizer.fit_on_texts(training_sentences)\n",
    "word_index = tokenizer.word_index\n",
    "training_sequences = tokenizer.texts_to_sequences(training_sentences)\n",
    "training_padded = pad_sequences(training_sequences,maxlen = max_length,truncating = trunc_type,padding = padding_type)\n",
    "\n",
    "testing_sequences = tokenizer.texts_to_sequences(testing_sentences)\n",
    "testing_padded = pad_sequences(testing_sequences,maxlen = max_length,truncating = trunc_type,padding = padding_type)"
   ]
  },
  {
   "cell_type": "code",
   "execution_count": 10,
   "metadata": {},
   "outputs": [
    {
     "name": "stdout",
     "output_type": "stream",
     "text": [
      "Model: \"sequential_1\"\n",
      "_________________________________________________________________\n",
      "Layer (type)                 Output Shape              Param #   \n",
      "=================================================================\n",
      "embedding_1 (Embedding)      (None, 32, 16)            160000    \n",
      "_________________________________________________________________\n",
      "global_average_pooling1d_1 ( (None, 16)                0         \n",
      "_________________________________________________________________\n",
      "dense_2 (Dense)              (None, 24)                408       \n",
      "_________________________________________________________________\n",
      "dense_3 (Dense)              (None, 1)                 25        \n",
      "=================================================================\n",
      "Total params: 160,433\n",
      "Trainable params: 160,433\n",
      "Non-trainable params: 0\n",
      "_________________________________________________________________\n"
     ]
    }
   ],
   "source": [
    "import tensorflow as tf\n",
    "#Defining the neural network\n",
    "model = tf.keras.Sequential([\n",
    "    tf.keras.layers.Embedding(vocab_size, embedding_dim, input_length = max_length),#key to text sentimental analysis in tensorflow\n",
    "    tf.keras.layers.GlobalAveragePooling1D(),\n",
    "    tf.keras.layers.Dense(24,activation ='relu'),\n",
    "    tf.keras.layers.Dense(1,activation='sigmoid')\n",
    "])\n",
    "model.compile(loss ='binary_crossentropy',optimizer = 'adam',metrics =['accuracy'])\n",
    "model.summary()"
   ]
  },
  {
   "cell_type": "code",
   "execution_count": 22,
   "metadata": {},
   "outputs": [
    {
     "name": "stdout",
     "output_type": "stream",
     "text": [
      "Train on 20000 samples, validate on 6709 samples\n",
      "Epoch 1/40\n",
      "20000/20000 - 3s - loss: 0.0032 - accuracy: 0.9992 - val_loss: 2.4750 - val_accuracy: 0.7994\n",
      "Epoch 2/40\n",
      "20000/20000 - 3s - loss: 0.0026 - accuracy: 0.9992 - val_loss: 2.6347 - val_accuracy: 0.8021\n",
      "Epoch 3/40\n",
      "20000/20000 - 3s - loss: 0.0037 - accuracy: 0.9987 - val_loss: 2.5556 - val_accuracy: 0.7979\n",
      "Epoch 4/40\n",
      "20000/20000 - 4s - loss: 0.0031 - accuracy: 0.9990 - val_loss: 2.6315 - val_accuracy: 0.7989\n",
      "Epoch 5/40\n",
      "20000/20000 - 3s - loss: 0.0036 - accuracy: 0.9987 - val_loss: 2.6246 - val_accuracy: 0.7913\n",
      "Epoch 6/40\n",
      "20000/20000 - 3s - loss: 0.0047 - accuracy: 0.9983 - val_loss: 2.7232 - val_accuracy: 0.7983\n",
      "Epoch 7/40\n",
      "20000/20000 - 3s - loss: 0.0035 - accuracy: 0.9988 - val_loss: 2.6830 - val_accuracy: 0.7973\n",
      "Epoch 8/40\n",
      "20000/20000 - 3s - loss: 0.0036 - accuracy: 0.9987 - val_loss: 2.7839 - val_accuracy: 0.8010\n",
      "Epoch 9/40\n",
      "20000/20000 - 3s - loss: 0.0025 - accuracy: 0.9992 - val_loss: 2.7674 - val_accuracy: 0.7968\n",
      "Epoch 10/40\n",
      "20000/20000 - 3s - loss: 0.0026 - accuracy: 0.9992 - val_loss: 2.8684 - val_accuracy: 0.7973\n",
      "Epoch 11/40\n",
      "20000/20000 - 4s - loss: 0.0020 - accuracy: 0.9994 - val_loss: 2.8082 - val_accuracy: 0.7936\n",
      "Epoch 12/40\n",
      "20000/20000 - 3s - loss: 0.0039 - accuracy: 0.9988 - val_loss: 2.8239 - val_accuracy: 0.7939\n",
      "Epoch 13/40\n",
      "20000/20000 - 3s - loss: 0.0031 - accuracy: 0.9991 - val_loss: 2.9182 - val_accuracy: 0.7982\n",
      "Epoch 14/40\n",
      "20000/20000 - 4s - loss: 0.0021 - accuracy: 0.9993 - val_loss: 3.0567 - val_accuracy: 0.7964\n",
      "Epoch 15/40\n",
      "20000/20000 - 3s - loss: 0.0025 - accuracy: 0.9993 - val_loss: 3.0289 - val_accuracy: 0.7965\n",
      "Epoch 16/40\n",
      "20000/20000 - 3s - loss: 0.0026 - accuracy: 0.9991 - val_loss: 3.0497 - val_accuracy: 0.7967\n",
      "Epoch 17/40\n",
      "20000/20000 - 3s - loss: 0.0034 - accuracy: 0.9990 - val_loss: 2.9872 - val_accuracy: 0.7958\n",
      "Epoch 18/40\n",
      "20000/20000 - 3s - loss: 0.0034 - accuracy: 0.9989 - val_loss: 3.0623 - val_accuracy: 0.7965\n",
      "Epoch 19/40\n",
      "20000/20000 - 3s - loss: 0.0026 - accuracy: 0.9993 - val_loss: 3.0268 - val_accuracy: 0.7973\n",
      "Epoch 20/40\n",
      "20000/20000 - 4s - loss: 0.0030 - accuracy: 0.9990 - val_loss: 3.0415 - val_accuracy: 0.7959\n",
      "Epoch 21/40\n",
      "20000/20000 - 4s - loss: 0.0020 - accuracy: 0.9993 - val_loss: 3.0799 - val_accuracy: 0.7988\n",
      "Epoch 22/40\n",
      "20000/20000 - 2s - loss: 0.0026 - accuracy: 0.9992 - val_loss: 3.1148 - val_accuracy: 0.7973\n",
      "Epoch 23/40\n",
      "20000/20000 - 3s - loss: 0.0021 - accuracy: 0.9994 - val_loss: 3.1134 - val_accuracy: 0.7968\n",
      "Epoch 24/40\n",
      "20000/20000 - 3s - loss: 0.0029 - accuracy: 0.9991 - val_loss: 3.0849 - val_accuracy: 0.7952\n",
      "Epoch 25/40\n",
      "20000/20000 - 3s - loss: 0.0020 - accuracy: 0.9995 - val_loss: 3.1337 - val_accuracy: 0.7971\n",
      "Epoch 26/40\n",
      "20000/20000 - 3s - loss: 0.0023 - accuracy: 0.9994 - val_loss: 3.1469 - val_accuracy: 0.7962\n",
      "Epoch 27/40\n",
      "20000/20000 - 3s - loss: 0.0023 - accuracy: 0.9994 - val_loss: 3.1280 - val_accuracy: 0.7933\n",
      "Epoch 28/40\n",
      "20000/20000 - 3s - loss: 0.0022 - accuracy: 0.9992 - val_loss: 3.1967 - val_accuracy: 0.7951\n",
      "Epoch 29/40\n",
      "20000/20000 - 4s - loss: 0.0023 - accuracy: 0.9992 - val_loss: 3.2220 - val_accuracy: 0.7982\n",
      "Epoch 30/40\n",
      "20000/20000 - 3s - loss: 0.0023 - accuracy: 0.9992 - val_loss: 3.2031 - val_accuracy: 0.7965\n",
      "Epoch 31/40\n",
      "20000/20000 - 3s - loss: 0.0014 - accuracy: 0.9996 - val_loss: 3.2153 - val_accuracy: 0.7922\n",
      "Epoch 32/40\n",
      "20000/20000 - 3s - loss: 0.0021 - accuracy: 0.9993 - val_loss: 3.2818 - val_accuracy: 0.7953\n",
      "Epoch 33/40\n",
      "20000/20000 - 3s - loss: 0.0038 - accuracy: 0.9985 - val_loss: 3.3420 - val_accuracy: 0.7959\n",
      "Epoch 34/40\n",
      "20000/20000 - 4s - loss: 0.0021 - accuracy: 0.9992 - val_loss: 3.3633 - val_accuracy: 0.7986\n",
      "Epoch 35/40\n",
      "20000/20000 - 4s - loss: 0.0026 - accuracy: 0.9992 - val_loss: 3.3611 - val_accuracy: 0.7955\n",
      "Epoch 36/40\n",
      "20000/20000 - 4s - loss: 0.0021 - accuracy: 0.9992 - val_loss: 3.3385 - val_accuracy: 0.7958\n",
      "Epoch 37/40\n",
      "20000/20000 - 4s - loss: 0.0020 - accuracy: 0.9994 - val_loss: 3.3849 - val_accuracy: 0.7956\n",
      "Epoch 38/40\n",
      "20000/20000 - 3s - loss: 0.0017 - accuracy: 0.9995 - val_loss: 3.3722 - val_accuracy: 0.7964\n",
      "Epoch 39/40\n",
      "20000/20000 - 3s - loss: 0.0016 - accuracy: 0.9995 - val_loss: 3.4250 - val_accuracy: 0.7959\n",
      "Epoch 40/40\n",
      "20000/20000 - 3s - loss: 0.0020 - accuracy: 0.9994 - val_loss: 3.4044 - val_accuracy: 0.7931\n"
     ]
    }
   ],
   "source": [
    "#Training the model\n",
    "num_epochs = 40\n",
    "history =model.fit(training_padded, training_labels, epochs = num_epochs, validation_data =(testing_padded, testing_labels),verbose = 2)"
   ]
  },
  {
   "cell_type": "code",
   "execution_count": 23,
   "metadata": {},
   "outputs": [
    {
     "data": {
      "image/png": "[encoded data removed]",
      "text/plain": [
       "<Figure size 432x288 with 2 Axes>"
      ]
     },
     "metadata": {
      "needs_background": "light"
     },
     "output_type": "display_data"
    }
   ],
   "source": [
    "import matplotlib.pyplot as plt\n",
    "\n",
    "def plot_graphs(history,string):\n",
    "    plt.plot(history.history[string])\n",
    "    plt.plot(history.history['val_'+string])\n",
    "    plt.xlabel(\"Epochs\")\n",
    "    plt.ylabel(string)\n",
    "    plt.legend([string,'val_'+string])\n",
    "plt.subplot(1, 2, 1)   \n",
    "plot_graphs(history,\"accuracy\")\n",
    "plt.subplot(1, 2, 2) \n",
    "plot_graphs(history,\"loss\")"
   ]
  },
  {
   "cell_type": "code",
   "execution_count": null,
   "metadata": {},
   "outputs": [],
   "source": []
  },
  {
   "cell_type": "code",
   "execution_count": null,
   "metadata": {},
   "outputs": [],
   "source": []
  },
  {
   "cell_type": "code",
   "execution_count": null,
   "metadata": {},
   "outputs": [],
   "source": []
  },
  {
   "cell_type": "code",
   "execution_count": null,
   "metadata": {},
   "outputs": [],
   "source": []
  },
  {
   "cell_type": "code",
   "execution_count": null,
   "metadata": {},
   "outputs": [],
   "source": []
  },
  {
   "cell_type": "code",
   "execution_count": null,
   "metadata": {},
   "outputs": [],
   "source": []
  },
  {
   "cell_type": "code",
   "execution_count": null,
   "metadata": {},
   "outputs": [],
   "source": []
  },
  {
   "cell_type": "code",
   "execution_count": null,
   "metadata": {},
   "outputs": [],
   "source": []
  },
  {
   "cell_type": "code",
   "execution_count": null,
   "metadata": {},
   "outputs": [],
   "source": []
  },
  {
   "cell_type": "code",
   "execution_count": null,
   "metadata": {},
   "outputs": [],
   "source": []
  },
  {
   "cell_type": "code",
   "execution_count": null,
   "metadata": {},
   "outputs": [],
   "source": []
  },
  {
   "cell_type": "code",
   "execution_count": null,
   "metadata": {},
   "outputs": [],
   "source": []
  }
 ],
 "metadata": {
  "kernelspec": {
   "display_name": "Python 3",
   "language": "python",
   "name": "python3"
  },
  "language_info": {
   "codemirror_mode": {
    "name": "ipython",
    "version": 3
   },
   "file_extension": ".py",
   "mimetype": "text/x-python",
   "name": "python",
   "nbconvert_exporter": "python",
   "pygments_lexer": "ipython3",
   "version": "3.7.4"
  }
 },
 "nbformat": 4,
 "nbformat_minor": 2
}
