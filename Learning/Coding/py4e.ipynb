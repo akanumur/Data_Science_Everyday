{
 "cells": [
  {
   "cell_type": "markdown",
   "metadata": {},
   "source": [
    "## Python for Everybody - Full Course with Dr. Chuck\n",
    "\n",
    "resource: https://www.youtube.com/watch?v=8DvywoWv6fI"
   ]
  },
  {
   "cell_type": "markdown",
   "metadata": {},
   "source": [
    "Day 01:\n",
    "Chapter 01: Why Program?\n",
    "\n",
    "- Dr.Chuck talks about what is the purpose of programming and how computers respond to our commands\n",
    "- Why be a programmer?\n",
    "- How syntax is important in programming\n",
    "- Ease of human work using programming\n",
    "\n",
    "Hardware Architecture\n",
    "- He talks about the structure of Computer ( central processing unit, memory unit and so on )\n",
    "- Change in the hardware from to 90s to present\n",
    "- Computers are not really smart but they are fast\n",
    "- Machine Language\n",
    "\n",
    "Python as Language\n",
    "- Installing in Windows and Mac\n",
    "- Print Hello world using command prompt \n",
    "- Print Hello world using Atom\n",
    "\n",
    "Day 02:\n",
    "\n",
    "- History of Python\n",
    "- Python in cmd check below syntax"
   ]
  },
  {
   "cell_type": "code",
   "execution_count": 1,
   "metadata": {},
   "outputs": [
    {
     "name": "stdout",
     "output_type": "stream",
     "text": [
      "1\n",
      "2\n"
     ]
    },
    {
     "data": {
      "text/plain": [
       "2"
      ]
     },
     "execution_count": 1,
     "metadata": {},
     "output_type": "execute_result"
    }
   ],
   "source": [
    ">>> x=1\n",
    ">>> print(x)\n",
    "1\n",
    ">>> x= x+1\n",
    ">>> print(x)\n",
    "2\n",
    ">>>   "
   ]
  },
  {
   "cell_type": "markdown",
   "metadata": {},
   "source": [
    "## Elements of Python\n",
    "\n",
    "- Vocabulary/ Words - variables and Reserved words (Chapter 2)\n",
    "- Sentence Structure - valid syntax patterns (Chapter 3-5)\n",
    "- Story Structure - constructing a program for a purpose \n",
    "\n",
    "Reserved Words:\n",
    "- you cannot use reserved words as variable names/ identifiers\n",
    "Flase, class, return , is , if , for , lambda ...\n",
    "\n",
    "Sentence or Lines\n",
    " x = 2 --> Assignment statement\n",
    " x = x+2 --> Assignment with expression\n",
    " print(x) --> Print statement\n",
    " \n",
    " Python executes sequential steps, conditional steps (if statement)"
   ]
  },
  {
   "cell_type": "code",
   "execution_count": 2,
   "metadata": {},
   "outputs": [
    {
     "name": "stdout",
     "output_type": "stream",
     "text": [
      "Bigger\n",
      "Finish\n"
     ]
    }
   ],
   "source": [
    "x = 15\n",
    "if x < 10:\n",
    "    print('Smaller')\n",
    "elif x < 20:\n",
    "    print('Bigger')\n",
    "    \n",
    "print('Finish')"
   ]
  },
  {
   "cell_type": "code",
   "execution_count": 3,
   "metadata": {},
   "outputs": [
    {
     "name": "stdout",
     "output_type": "stream",
     "text": [
      "5\n",
      "4\n",
      "3\n",
      "2\n",
      "1\n",
      "End of Code\n"
     ]
    }
   ],
   "source": [
    "#Repeated steps using while loop\n",
    "#Runs in a cyclic loop the value of x changes for each loop\n",
    "\n",
    "x = 5 \n",
    "while x>0:\n",
    "    print(x)\n",
    "    x = x-1\n",
    "print('End of Code')"
   ]
  },
  {
   "cell_type": "markdown",
   "metadata": {},
   "source": [
    "## Chapter 02: Variables, Expressions and Statements\n",
    "\n",
    "Constants : Fixed values such as numbers, letters and strings which do not change overtime\n",
    "Ex: 123, \"apple\"\n",
    "\n",
    "Reserved Words: Special words which are like commands to python Ex: if, else, for ...\n",
    "\n",
    "Variables: A variable is a named place in the memory where a programmer can store data and later retreieve the data using variable \"name\". It's like an assignment operator.\n",
    "\n",
    "When a new value is assigned the previous value is dropped\n",
    "\n",
    "*Variable Names are case sensitive*\n",
    "\n",
    "** Mnemonic Variable Names **\n",
    "\n",
    "Ex: x = 12\n",
    "\n",
    "__Assignment Statements__\n",
    "\n",
    "x = 3.9*x*(1-x) The python command runs from right to left (assignment)\n",
    "\n",
    "__Expressions__\n",
    "\n",
    "We have a limited expressions + (Addition), - (Subtraction), * (Multiplication), / (Division), ** (Power), % (Remainder)\n",
    "\n",
    "__Operator Precedence rules__\n",
    "\n",
    "- Parenthesis\n",
    "- Power\n",
    "- Multiplication, Division and Remainder\n",
    "- Addition and Subtraction\n",
    "- Left to Right\n",
    "\n",
    "__Different Types of Data__\n",
    "\n",
    "- '+' means addition for integer and '+' means concatanate for strings"
   ]
  },
  {
   "cell_type": "code",
   "execution_count": 4,
   "metadata": {},
   "outputs": [
    {
     "data": {
      "text/plain": [
       "'hellothere'"
      ]
     },
     "execution_count": 4,
     "metadata": {},
     "output_type": "execute_result"
    }
   ],
   "source": [
    "eee ='hello'+'there'\n",
    "eee"
   ]
  },
  {
   "cell_type": "code",
   "execution_count": 5,
   "metadata": {},
   "outputs": [],
   "source": [
    "#eee = eee+1"
   ]
  },
  {
   "cell_type": "code",
   "execution_count": 6,
   "metadata": {},
   "outputs": [
    {
     "data": {
      "text/plain": [
       "str"
      ]
     },
     "execution_count": 6,
     "metadata": {},
     "output_type": "execute_result"
    }
   ],
   "source": [
    "type(eee)"
   ]
  },
  {
   "cell_type": "code",
   "execution_count": 7,
   "metadata": {},
   "outputs": [
    {
     "data": {
      "text/plain": [
       "int"
      ]
     },
     "execution_count": 7,
     "metadata": {},
     "output_type": "execute_result"
    }
   ],
   "source": [
    "type(1)"
   ]
  },
  {
   "cell_type": "code",
   "execution_count": 8,
   "metadata": {},
   "outputs": [
    {
     "data": {
      "text/plain": [
       "str"
      ]
     },
     "execution_count": 8,
     "metadata": {},
     "output_type": "execute_result"
    }
   ],
   "source": [
    "type('hello')"
   ]
  },
  {
   "cell_type": "markdown",
   "metadata": {},
   "source": [
    "__Types of Numbers__\n",
    "\n",
    "- Integers: are whole numbers\n",
    "- Floating Point Numbers: are decimal parts\n",
    "\n",
    "__Type of Conversions__\n",
    "\n",
    "- We can use built-in functions int() and float() to convert into different form \n",
    "\n",
    "__String Conversions__\n",
    "\n",
    "- We can use int() and float() to convert between strings to integers\n"
   ]
  },
  {
   "cell_type": "code",
   "execution_count": 9,
   "metadata": {},
   "outputs": [
    {
     "data": {
      "text/plain": [
       "124"
      ]
     },
     "execution_count": 9,
     "metadata": {},
     "output_type": "execute_result"
    }
   ],
   "source": [
    "sval ='123'\n",
    "ival = int(sval)\n",
    "ival = ival +1\n",
    "ival"
   ]
  },
  {
   "cell_type": "code",
   "execution_count": 10,
   "metadata": {},
   "outputs": [
    {
     "name": "stdout",
     "output_type": "stream",
     "text": [
      "Who are you?Akshata\n",
      "Welcome Akshata\n"
     ]
    }
   ],
   "source": [
    "#User Input\n",
    "#We can instruct Python to pause and read data from the user using the input() function\n",
    "name = input(\"Who are you?\")\n",
    "print('Welcome',name)"
   ]
  },
  {
   "cell_type": "code",
   "execution_count": 11,
   "metadata": {},
   "outputs": [
    {
     "name": "stdout",
     "output_type": "stream",
     "text": [
      "Europe Floor? 9\n",
      "US floor 10\n"
     ]
    }
   ],
   "source": [
    "# Converting user input\n",
    "inp = input('Europe Floor? ')\n",
    "uso = int(inp)+1\n",
    "print('US floor',uso)"
   ]
  },
  {
   "cell_type": "markdown",
   "metadata": {},
   "source": [
    "## Chapter 3: Conditional Execution\n",
    "\n",
    "The python conditional statements is like making python do task for us.\n",
    "Example : IF statement\n",
    "\n",
    "--Comparision operators--\n",
    "<, <=, >=, ==, >, !="
   ]
  },
  {
   "cell_type": "code",
   "execution_count": 12,
   "metadata": {},
   "outputs": [
    {
     "name": "stdout",
     "output_type": "stream",
     "text": [
      "Smaller\n",
      "Finish\n"
     ]
    }
   ],
   "source": [
    "x = 5\n",
    "if x < 10:\n",
    "    print(\"Smaller\")\n",
    "elif x>20:\n",
    "    print(\"Bigger\")\n",
    "\n",
    "print(\"Finish\")"
   ]
  },
  {
   "cell_type": "code",
   "execution_count": 13,
   "metadata": {},
   "outputs": [
    {
     "name": "stdout",
     "output_type": "stream",
     "text": [
      "Bigger than 2\n",
      "Still bigger\n",
      "Done with 2\n"
     ]
    }
   ],
   "source": [
    "x = 5\n",
    "if x>2:\n",
    "    print('Bigger than 2')\n",
    "    print('Still bigger')\n",
    "print('Done with 2')   "
   ]
  },
  {
   "cell_type": "code",
   "execution_count": 14,
   "metadata": {},
   "outputs": [
    {
     "name": "stdout",
     "output_type": "stream",
     "text": [
      "0\n",
      "Done with 0\n",
      "1\n",
      "Done with 1\n",
      "2\n",
      "Done with 2\n",
      "3\n",
      "New i 3\n",
      "Bigger than 2\n",
      "Done with 3\n",
      "4\n",
      "New i 4\n",
      "Bigger than 2\n",
      "Done with 4\n",
      "All Done\n"
     ]
    }
   ],
   "source": [
    "for i in range(5):\n",
    "    print(i)\n",
    "    if i> 2:\n",
    "        print('New i',i)\n",
    "        print('Bigger than 2')\n",
    "    print('Done with',i)\n",
    "print('All Done')"
   ]
  },
  {
   "cell_type": "code",
   "execution_count": 15,
   "metadata": {},
   "outputs": [
    {
     "name": "stdout",
     "output_type": "stream",
     "text": [
      "What is your number ?89\n",
      "More than one\n",
      "Less than 100\n",
      "All done\n"
     ]
    }
   ],
   "source": [
    "#Nested Desicions\n",
    "x = int(input('What is your number ?'))\n",
    "if x> 1:\n",
    "    print ('More than one')\n",
    "    if x < 100:\n",
    "        print('Less than 100')\n",
    "print('All done')\n"
   ]
  },
  {
   "cell_type": "code",
   "execution_count": 16,
   "metadata": {},
   "outputs": [
    {
     "name": "stdout",
     "output_type": "stream",
     "text": [
      "Bigger\n",
      "All Done\n"
     ]
    }
   ],
   "source": [
    "#Two way Descisions\n",
    "x = 4\n",
    "if x > 2:\n",
    "    print('Bigger')\n",
    "else:\n",
    "    print('Not Bigger')\n",
    "\n",
    "print ('All Done')"
   ]
  },
  {
   "cell_type": "markdown",
   "metadata": {},
   "source": [
    "__More Conditional Structures__\n",
    "\n",
    "Multi Way: this uses elif"
   ]
  },
  {
   "cell_type": "code",
   "execution_count": 17,
   "metadata": {},
   "outputs": [
    {
     "name": "stdout",
     "output_type": "stream",
     "text": [
      "small\n",
      "Done\n"
     ]
    }
   ],
   "source": [
    "x = -3\n",
    "if x < 2 :\n",
    "    print('small')\n",
    "elif x < 10:\n",
    "    print('medium')\n",
    "else:\n",
    "    print('large')\n",
    "\n",
    "print('Done')"
   ]
  },
  {
   "cell_type": "code",
   "execution_count": 18,
   "metadata": {},
   "outputs": [
    {
     "name": "stdout",
     "output_type": "stream",
     "text": [
      "First -1\n",
      "Second 1234\n"
     ]
    }
   ],
   "source": [
    "#Try and Exception\n",
    "astr = 'Hello world'\n",
    "try:\n",
    "    int_astr = int(astr)\n",
    "except:\n",
    "    int_astr =-1\n",
    "print('First', int_astr)\n",
    "\n",
    "astr = '1234'\n",
    "try:\n",
    "    int_astr = int(astr)\n",
    "except:\n",
    "    int_astr =-1\n",
    "print('Second',int_astr)"
   ]
  },
  {
   "cell_type": "code",
   "execution_count": 19,
   "metadata": {},
   "outputs": [
    {
     "name": "stdout",
     "output_type": "stream",
     "text": [
      "Enter a number: 9\n",
      "Good Job\n"
     ]
    }
   ],
   "source": [
    "#Sample try/except\n",
    "\n",
    "n = input(\"Enter a number: \")\n",
    "try:\n",
    "    ival = int(n)\n",
    "except:\n",
    "    ival = -1\n",
    "ival\n",
    "\n",
    "if ival > 0:\n",
    "    print('Good Job')\n",
    "else:\n",
    "    print('This is not a number')"
   ]
  },
  {
   "cell_type": "markdown",
   "metadata": {},
   "source": [
    "## Chapter 4\n",
    "\n",
    "__Functions:__\n",
    "\n",
    "- The idea is to reduce the number of times we run the same step\n",
    "- We start a function using _def()_\n",
    "- Built-in functions: print(),input(),type(),float(),int()\n",
    "- A function is some reusable code that takes arguments as input, does some computation and then returns  a result\n",
    "- We call/ invoke a function\n",
    "- Other than that we have type conversions and string conversion functions"
   ]
  },
  {
   "cell_type": "code",
   "execution_count": 20,
   "metadata": {},
   "outputs": [
    {
     "name": "stdout",
     "output_type": "stream",
     "text": [
      "Hello\n",
      "HelloHello\n",
      "name\n",
      "Hello\n",
      "HelloHello\n"
     ]
    }
   ],
   "source": [
    "def thing(a):\n",
    "    print(a)\n",
    "    print(a+a)\n",
    "\n",
    "thing('Hello')\n",
    "print('name')\n",
    "thing('Hello')"
   ]
  },
  {
   "cell_type": "code",
   "execution_count": 21,
   "metadata": {},
   "outputs": [
    {
     "name": "stdout",
     "output_type": "stream",
     "text": [
      "w\n",
      "H\n"
     ]
    }
   ],
   "source": [
    "def min_max(word):\n",
    "    print(max(word))\n",
    "    print(min(word))\n",
    "    \n",
    "min_max(\"Helloworld\")"
   ]
  },
  {
   "cell_type": "markdown",
   "metadata": {},
   "source": [
    "Buiding our own functions\n",
    "\n",
    "- We create a new function using def keyword followed by optional parameters in ()\n",
    "- We indent the body of the function\n",
    "- This defines the function but does not executes the body of the function\n",
    "- Example:\n",
    "    def title(name):\n",
    "        print('Mr '+ name)\n",
    "    print('Joe')\n",
    "- We define a function we can call it as many times as we want\n",
    "- __Key Parameters for a function Arguments, Parameters and Results__"
   ]
  },
  {
   "cell_type": "code",
   "execution_count": 22,
   "metadata": {},
   "outputs": [
    {
     "name": "stdout",
     "output_type": "stream",
     "text": [
      "Hello\n",
      "yo\n",
      "I'm gonna by okay\n",
      "8\n"
     ]
    }
   ],
   "source": [
    "x = 5\n",
    "print('Hello')\n",
    "def print_lyrics():\n",
    "    print(\"I'm gonna by okay\")\n",
    "    \n",
    "print('yo')\n",
    "print_lyrics()\n",
    "x = x+3\n",
    "print(x)"
   ]
  },
  {
   "cell_type": "code",
   "execution_count": 23,
   "metadata": {},
   "outputs": [
    {
     "name": "stdout",
     "output_type": "stream",
     "text": [
      "Hello\n",
      "Hola\n",
      "Bonjour\n",
      "Bonjour\n"
     ]
    }
   ],
   "source": [
    "def greet(lang):\n",
    "    if lang =='en':\n",
    "        print(\"Hello\")\n",
    "    elif lang == 'es':\n",
    "        print(\"Hola\")\n",
    "    else:\n",
    "        print('Bonjour')\n",
    "\n",
    "greet('en')\n",
    "greet('es')\n",
    "greet('fr') \n",
    "greet('in')"
   ]
  },
  {
   "cell_type": "code",
   "execution_count": 24,
   "metadata": {},
   "outputs": [
    {
     "name": "stdout",
     "output_type": "stream",
     "text": [
      "Hello Sally\n"
     ]
    }
   ],
   "source": [
    "# Return values\n",
    "#Often a function will take argument and do some computation and returns a value\n",
    "\n",
    "def greet():\n",
    "    return \"Hello\"\n",
    "print(greet(),\"Sally\")"
   ]
  },
  {
   "cell_type": "code",
   "execution_count": 25,
   "metadata": {},
   "outputs": [
    {
     "name": "stdout",
     "output_type": "stream",
     "text": [
      "Hello Aki\n",
      "Hola Aki\n",
      "Bonjour Aki\n",
      "Bonjour Aki\n"
     ]
    }
   ],
   "source": [
    "def greet(lang):\n",
    "    if lang =='en':\n",
    "        return (\"Hello\")\n",
    "    elif lang == 'es':\n",
    "        return (\"Hola\")\n",
    "    else:\n",
    "        return('Bonjour')\n",
    "\n",
    "print(greet('en'),\"Aki\")\n",
    "print(greet('es'),\"Aki\")\n",
    "print(greet('fr'),\"Aki\")\n",
    "print(greet('in'),\"Aki\")"
   ]
  },
  {
   "cell_type": "code",
   "execution_count": 26,
   "metadata": {},
   "outputs": [
    {
     "data": {
      "text/plain": [
       "13"
      ]
     },
     "execution_count": 26,
     "metadata": {},
     "output_type": "execute_result"
    }
   ],
   "source": [
    "def addtwo(a,b):\n",
    "    return a+b\n",
    "addtwo(6,7)    "
   ]
  },
  {
   "cell_type": "markdown",
   "metadata": {},
   "source": [
    "## Chapter 5\n",
    "\n",
    "__Loops and Iterations__"
   ]
  },
  {
   "cell_type": "code",
   "execution_count": 27,
   "metadata": {},
   "outputs": [
    {
     "name": "stdout",
     "output_type": "stream",
     "text": [
      "5\n",
      "4\n",
      "3\n",
      "2\n",
      "1\n",
      "Done with the Loop\n",
      "0\n"
     ]
    }
   ],
   "source": [
    "#While Loop:\n",
    "\n",
    "n = 5 #Iteration Loop\n",
    "while n>0:\n",
    "    print (n)\n",
    "    n = n-1\n",
    "print('Done with the Loop')\n",
    "print(n)"
   ]
  },
  {
   "cell_type": "code",
   "execution_count": 28,
   "metadata": {},
   "outputs": [
    {
     "name": "stdout",
     "output_type": "stream",
     "text": [
      "You are out of the Loop\n"
     ]
    }
   ],
   "source": [
    "#Zero trip Loos - it does not run even once\n",
    "n=0\n",
    "while n>0:\n",
    "    print('You are in the loop')\n",
    "print('You are out of the Loop')"
   ]
  },
  {
   "cell_type": "code",
   "execution_count": 29,
   "metadata": {},
   "outputs": [
    {
     "name": "stdout",
     "output_type": "stream",
     "text": [
      "> Aki\n",
      "Aki\n",
      "> Hello\n",
      "Hello\n",
      "> done\n",
      "Done\n"
     ]
    }
   ],
   "source": [
    "#Breakout of the Loop\n",
    "#The break statement ends the current loop and jumps to the statement immediately following the loop\n",
    "\n",
    "while True:\n",
    "    line = input('> ')\n",
    "    if line == 'done':\n",
    "        break #Once we are done with break it doesn't go back\n",
    "    print(line)\n",
    "print('Done')"
   ]
  },
  {
   "cell_type": "code",
   "execution_count": 30,
   "metadata": {},
   "outputs": [
    {
     "name": "stdout",
     "output_type": "stream",
     "text": [
      "> Akshata\n",
      "Akshata\n",
      "> #Akshata\n",
      "> #ML4LYF\n",
      "> done\n",
      "Done\n"
     ]
    }
   ],
   "source": [
    "#Continue is a different kind of the loop\n",
    "#continue statement ends the current iteration and jumps to the top of the loop and starts the next iteration\n",
    "while True:\n",
    "    line = input('> ')\n",
    "    if line[0] == '#' :\n",
    "        continue\n",
    "    if line == 'done' :\n",
    "        break\n",
    "    print(line)\n",
    "print('Done')"
   ]
  },
  {
   "cell_type": "markdown",
   "metadata": {},
   "source": [
    "### Indefinite Loops\n",
    "- They are called indefinite loops bcoz they keep running until the logic becomes False\n",
    "- Sometimes it is a little harder to be sure if the loops are going to terminate\n",
    "\n",
    "### Definite Loops\n",
    "- Quite often we havea list of items of the lines in a file - effectively a finite set of things"
   ]
  },
  {
   "cell_type": "code",
   "execution_count": 31,
   "metadata": {},
   "outputs": [
    {
     "name": "stdout",
     "output_type": "stream",
     "text": [
      "5\n",
      "4\n",
      "3\n",
      "2\n",
      "1\n",
      "Loop End\n"
     ]
    }
   ],
   "source": [
    "for i in [5,4,3,2,1]:\n",
    "    print (i)\n",
    "print('Loop End')"
   ]
  },
  {
   "cell_type": "code",
   "execution_count": 32,
   "metadata": {},
   "outputs": [
    {
     "name": "stdout",
     "output_type": "stream",
     "text": [
      "My friend is: I\n",
      "My friend is: Me\n",
      "My friend is: Myself\n",
      "All are my friends\n"
     ]
    }
   ],
   "source": [
    "friends = ['I', 'Me','Myself']\n",
    "for friend in friends:\n",
    "    print('My friend is:',friend)\n",
    "print('All are my friends')"
   ]
  },
  {
   "cell_type": "code",
   "execution_count": 33,
   "metadata": {},
   "outputs": [
    {
     "name": "stdout",
     "output_type": "stream",
     "text": [
      "Before the loop: -1\n",
      "3 3\n",
      "41 41\n",
      "41 12\n",
      "41 9\n",
      "74 74\n",
      "74 15\n",
      "After the loop: 74\n"
     ]
    }
   ],
   "source": [
    "largest_so_far = -1\n",
    "print(\"Before the loop:\",largest_so_far)\n",
    "numbers = [3,41,12,9,74,15]\n",
    "for num in numbers:\n",
    "    if num> largest_so_far:\n",
    "        largest_so_far = num\n",
    "    print(largest_so_far, num)\n",
    "    \n",
    "print(\"After the loop:\",largest_so_far)"
   ]
  },
  {
   "cell_type": "code",
   "execution_count": 34,
   "metadata": {},
   "outputs": [
    {
     "name": "stdout",
     "output_type": "stream",
     "text": [
      "Before 0\n",
      "1 9\n",
      "2 12\n",
      "3 13\n",
      "4 18\n",
      "5 30\n",
      "After 5\n"
     ]
    }
   ],
   "source": [
    "#More Loop Patterns\n",
    "#Counting in a loop\n",
    "\n",
    "zork = 0\n",
    "print ('Before',zork)\n",
    "for thing in [9,12,13,18,30]:\n",
    "    zork = zork+ 1\n",
    "    print (zork,thing)\n",
    "print('After',zork)"
   ]
  },
  {
   "cell_type": "code",
   "execution_count": 35,
   "metadata": {},
   "outputs": [
    {
     "name": "stdout",
     "output_type": "stream",
     "text": [
      "Before 0\n",
      "18 18\n",
      "96 114\n",
      "89 203\n",
      "24 227\n",
      "67 294\n",
      "After 294\n"
     ]
    }
   ],
   "source": [
    "#Summing the loop\n",
    "\n",
    "summing = 0\n",
    "print('Before',summing)\n",
    "for new in [18,96,89,24,67]:\n",
    "    summing = new+summing\n",
    "    print(new,summing)\n",
    "print('After',summing)"
   ]
  },
  {
   "cell_type": "code",
   "execution_count": 36,
   "metadata": {},
   "outputs": [
    {
     "name": "stdout",
     "output_type": "stream",
     "text": [
      "Before 0 0\n",
      "4 1 4.0\n",
      "9 2 4.5\n",
      "15 3 5.0\n",
      "29 4 7.25\n",
      "46 5 9.2\n",
      "135 6 22.5\n",
      "After 6 135\n"
     ]
    }
   ],
   "source": [
    "#Average in a Loop\n",
    "\n",
    "count = 0\n",
    "sum = 0\n",
    "print('Before',count,sum)\n",
    "for val in [ 4,5,6,14,17,89]:\n",
    "    count = count +1\n",
    "    sum = sum+val\n",
    "    avg = sum/count\n",
    "    print(sum,count,avg)\n",
    "print('After',count,sum)\n"
   ]
  },
  {
   "cell_type": "code",
   "execution_count": 37,
   "metadata": {},
   "outputs": [
    {
     "name": "stdout",
     "output_type": "stream",
     "text": [
      "Before\n",
      "Value is larger than 20: 89\n",
      "Value is larger than 20: 26\n",
      "Done\n"
     ]
    }
   ],
   "source": [
    "#Filtering in a loop\n",
    "print('Before')\n",
    "for value in [9,12,15,89,17,26]:\n",
    "    if value > 20:\n",
    "        print(\"Value is larger than 20:\", value)\n",
    "print('Done')"
   ]
  },
  {
   "cell_type": "code",
   "execution_count": 38,
   "metadata": {},
   "outputs": [
    {
     "name": "stdout",
     "output_type": "stream",
     "text": [
      "Before False\n",
      "False 9\n",
      "False 41\n",
      "False 12\n",
      "True 3\n",
      "True 74\n",
      "True 15\n",
      "After True\n"
     ]
    }
   ],
   "source": [
    "#Search using a Boolean Variable\n",
    "\n",
    "found = False\n",
    "print('Before',found)\n",
    "for value in [9,41,12,3,74,15]:\n",
    "    if value == 3:\n",
    "        found = True\n",
    "    print(found,value)\n",
    "print('After',found)"
   ]
  },
  {
   "cell_type": "code",
   "execution_count": 39,
   "metadata": {},
   "outputs": [
    {
     "name": "stdout",
     "output_type": "stream",
     "text": [
      "smallest_so_far 7\n",
      "smallest_so_far 7\n",
      "smallest_so_far 7\n",
      "smallest_so_far 7\n",
      "smallest_so_far 7\n",
      "smallest_so_far 7\n",
      "smallest_so_far 0\n",
      "Loop Done\n"
     ]
    }
   ],
   "source": [
    "#Smallest value\n",
    "numbers = [7,15,28,39,75,90,0]\n",
    "smallest = None\n",
    "for number in numbers:\n",
    "    if smallest is None:\n",
    "        smallest = number\n",
    "    elif number < smallest:\n",
    "        smallest = number\n",
    "    print(\"smallest_so_far\",smallest)\n",
    "print('Loop Done')\n",
    "    \n"
   ]
  },
  {
   "cell_type": "code",
   "execution_count": 40,
   "metadata": {},
   "outputs": [
    {
     "name": "stdout",
     "output_type": "stream",
     "text": [
      "OddNumber 5\n",
      "OddNumber 9\n",
      "EvenNumber 10\n",
      "OddNumber 7\n",
      "EvenNumber 18\n",
      "EvenNumber 20\n",
      "Loop End\n"
     ]
    }
   ],
   "source": [
    "#Odd or even\n",
    "values = [5,9,10,7,18,20]\n",
    "for val in values:\n",
    "    if val%2 ==0:\n",
    "        print('EvenNumber',val)\n",
    "    elif val%2 == 1:\n",
    "        print('OddNumber',val)\n",
    "print('Loop End')"
   ]
  },
  {
   "cell_type": "code",
   "execution_count": 41,
   "metadata": {},
   "outputs": [],
   "source": [
    "# \"is\" checks if the data types are the same whereas \"==\" only checks for values"
   ]
  },
  {
   "cell_type": "markdown",
   "metadata": {},
   "source": [
    "## Chapter 6\n",
    "__Strings__\n",
    "\n",
    "- we use '+' to concatanate strings\n",
    "- In this chapter we are going to dive deep into strings\n",
    "- Indexing the strings the values in the strings the list starts with 0\n"
   ]
  },
  {
   "cell_type": "code",
   "execution_count": 46,
   "metadata": {},
   "outputs": [
    {
     "name": "stdout",
     "output_type": "stream",
     "text": [
      "a\n",
      "n\n"
     ]
    }
   ],
   "source": [
    "x = 5\n",
    "fruit = 'banana'\n",
    "letter = fruit[1]\n",
    "print(letter)\n",
    "print(fruit[x-1])"
   ]
  },
  {
   "cell_type": "code",
   "execution_count": 47,
   "metadata": {},
   "outputs": [
    {
     "ename": "IndexError",
     "evalue": "string index out of range",
     "output_type": "error",
     "traceback": [
      "\u001b[1;31m---------------------------------------------------------------------------\u001b[0m",
      "\u001b[1;31mIndexError\u001b[0m                                Traceback (most recent call last)",
      "\u001b[1;32m<ipython-input-47-afde9d46926a>\u001b[0m in \u001b[0;36m<module>\u001b[1;34m\u001b[0m\n\u001b[0;32m      1\u001b[0m \u001b[1;31m#We can index beyond the range\u001b[0m\u001b[1;33m\u001b[0m\u001b[1;33m\u001b[0m\u001b[1;33m\u001b[0m\u001b[0m\n\u001b[0;32m      2\u001b[0m \u001b[0mzot\u001b[0m \u001b[1;33m=\u001b[0m \u001b[1;34m'abc'\u001b[0m\u001b[1;33m\u001b[0m\u001b[1;33m\u001b[0m\u001b[0m\n\u001b[1;32m----> 3\u001b[1;33m \u001b[0mprint\u001b[0m\u001b[1;33m(\u001b[0m\u001b[0mzot\u001b[0m\u001b[1;33m[\u001b[0m\u001b[1;36m5\u001b[0m\u001b[1;33m]\u001b[0m\u001b[1;33m)\u001b[0m\u001b[1;33m\u001b[0m\u001b[1;33m\u001b[0m\u001b[0m\n\u001b[0m",
      "\u001b[1;31mIndexError\u001b[0m: string index out of range"
     ]
    }
   ],
   "source": [
    "#We can index beyond the range\n",
    "#zot = 'abc'\n",
    "#print(zot[5])\n",
    "#IndexError: string index out of range"
   ]
  },
  {
   "cell_type": "code",
   "execution_count": 48,
   "metadata": {},
   "outputs": [
    {
     "data": {
      "text/plain": [
       "6"
      ]
     },
     "execution_count": 48,
     "metadata": {},
     "output_type": "execute_result"
    }
   ],
   "source": [
    "#Len Function\n",
    "#We have a built in function to get the length of the string\n",
    "len(fruit)"
   ]
  },
  {
   "cell_type": "code",
   "execution_count": 50,
   "metadata": {},
   "outputs": [
    {
     "name": "stdout",
     "output_type": "stream",
     "text": [
      "0 p\n",
      "1 i\n",
      "2 n\n",
      "3 e\n",
      "4 a\n",
      "5 p\n",
      "6 p\n",
      "7 l\n",
      "8 e\n",
      "Done\n"
     ]
    }
   ],
   "source": [
    "#Looping Through Strings\n",
    "\n",
    "fruit = 'pineapple'\n",
    "index = 0\n",
    "while index < len(fruit):\n",
    "    letter =fruit[index]\n",
    "    print(index,letter)\n",
    "    index = index+1\n",
    "print('Done')"
   ]
  },
  {
   "cell_type": "code",
   "execution_count": 51,
   "metadata": {},
   "outputs": [
    {
     "name": "stdout",
     "output_type": "stream",
     "text": [
      "p\n",
      "i\n",
      "n\n",
      "e\n",
      "a\n",
      "p\n",
      "p\n",
      "l\n",
      "e\n"
     ]
    }
   ],
   "source": [
    "for letter in fruit:\n",
    "    print(letter)"
   ]
  },
  {
   "cell_type": "code",
   "execution_count": 55,
   "metadata": {},
   "outputs": [
    {
     "name": "stdout",
     "output_type": "stream",
     "text": [
      "9\n",
      "0 p\n",
      "1 i\n",
      "2 n\n",
      "3 e\n",
      "4 a\n",
      "5 p\n",
      "6 p\n",
      "7 l\n",
      "8 e\n",
      "9\n"
     ]
    }
   ],
   "source": [
    "index = 0\n",
    "print(len(fruit))\n",
    "while index < len(fruit):\n",
    "    letter = fruit[index]\n",
    "    print(index,letter)\n",
    "    index = index +1\n",
    "print(index)\n",
    "    "
   ]
  },
  {
   "cell_type": "code",
   "execution_count": 58,
   "metadata": {},
   "outputs": [
    {
     "name": "stdout",
     "output_type": "stream",
     "text": [
      "3\n"
     ]
    }
   ],
   "source": [
    "#Looping and Counting\n",
    "count = 0\n",
    "for letter in fruit: # the iteration variable 'letter' moves through all of the values in fruit\n",
    "    if letter == 'p':\n",
    "        count = count+1\n",
    "print(count)\n"
   ]
  },
  {
   "cell_type": "code",
   "execution_count": 60,
   "metadata": {},
   "outputs": [
    {
     "name": "stdout",
     "output_type": "stream",
     "text": [
      "Aksh\n",
      "a\n",
      "ta Kanumuri\n",
      "Akshata Kanumuri\n"
     ]
    }
   ],
   "source": [
    "#More String Operations\n",
    "#Slicing strings\n",
    "s = 'Akshata Kanumuri'\n",
    "print(s[0:4]) #go upto 4 but not including\n",
    "print(s[6:7]) # just gives one value\n",
    "print(s[5:]) # starts from 5 to last\n",
    "print(s[:])"
   ]
  },
  {
   "cell_type": "code",
   "execution_count": 61,
   "metadata": {},
   "outputs": [
    {
     "name": "stdout",
     "output_type": "stream",
     "text": [
      "Found it!\n"
     ]
    }
   ],
   "source": [
    "if 'apple' in fruit:\n",
    "    print('Found it!')\n",
    "#'in' is a logical operator in case of strings    "
   ]
  },
  {
   "cell_type": "code",
   "execution_count": 63,
   "metadata": {},
   "outputs": [
    {
     "data": {
      "text/plain": [
       "'hola'"
      ]
     },
     "execution_count": 63,
     "metadata": {},
     "output_type": "execute_result"
    }
   ],
   "source": [
    "#String Library\n",
    "#Built in capability to convert strings to lower\n",
    "greet = 'HOLA'\n",
    "zap = greet.lower()\n",
    "zap"
   ]
  },
  {
   "cell_type": "code",
   "execution_count": 64,
   "metadata": {},
   "outputs": [
    {
     "data": {
      "text/plain": [
       "str"
      ]
     },
     "execution_count": 64,
     "metadata": {},
     "output_type": "execute_result"
    }
   ],
   "source": [
    "stuff ='Hello'\n",
    "type(stuff)"
   ]
  },
  {
   "cell_type": "code",
   "execution_count": 65,
   "metadata": {},
   "outputs": [
    {
     "data": {
      "text/plain": [
       "['__add__',\n",
       " '__class__',\n",
       " '__contains__',\n",
       " '__delattr__',\n",
       " '__dir__',\n",
       " '__doc__',\n",
       " '__eq__',\n",
       " '__format__',\n",
       " '__ge__',\n",
       " '__getattribute__',\n",
       " '__getitem__',\n",
       " '__getnewargs__',\n",
       " '__gt__',\n",
       " '__hash__',\n",
       " '__init__',\n",
       " '__init_subclass__',\n",
       " '__iter__',\n",
       " '__le__',\n",
       " '__len__',\n",
       " '__lt__',\n",
       " '__mod__',\n",
       " '__mul__',\n",
       " '__ne__',\n",
       " '__new__',\n",
       " '__reduce__',\n",
       " '__reduce_ex__',\n",
       " '__repr__',\n",
       " '__rmod__',\n",
       " '__rmul__',\n",
       " '__setattr__',\n",
       " '__sizeof__',\n",
       " '__str__',\n",
       " '__subclasshook__',\n",
       " 'capitalize',\n",
       " 'casefold',\n",
       " 'center',\n",
       " 'count',\n",
       " 'encode',\n",
       " 'endswith',\n",
       " 'expandtabs',\n",
       " 'find',\n",
       " 'format',\n",
       " 'format_map',\n",
       " 'index',\n",
       " 'isalnum',\n",
       " 'isalpha',\n",
       " 'isascii',\n",
       " 'isdecimal',\n",
       " 'isdigit',\n",
       " 'isidentifier',\n",
       " 'islower',\n",
       " 'isnumeric',\n",
       " 'isprintable',\n",
       " 'isspace',\n",
       " 'istitle',\n",
       " 'isupper',\n",
       " 'join',\n",
       " 'ljust',\n",
       " 'lower',\n",
       " 'lstrip',\n",
       " 'maketrans',\n",
       " 'partition',\n",
       " 'replace',\n",
       " 'rfind',\n",
       " 'rindex',\n",
       " 'rjust',\n",
       " 'rpartition',\n",
       " 'rsplit',\n",
       " 'rstrip',\n",
       " 'split',\n",
       " 'splitlines',\n",
       " 'startswith',\n",
       " 'strip',\n",
       " 'swapcase',\n",
       " 'title',\n",
       " 'translate',\n",
       " 'upper',\n",
       " 'zfill']"
      ]
     },
     "execution_count": 65,
     "metadata": {},
     "output_type": "execute_result"
    }
   ],
   "source": [
    "dir(stuff)"
   ]
  },
  {
   "cell_type": "code",
   "execution_count": 68,
   "metadata": {},
   "outputs": [
    {
     "data": {
      "text/plain": [
       "-1"
      ]
     },
     "execution_count": 68,
     "metadata": {},
     "output_type": "execute_result"
    }
   ],
   "source": [
    "#Find operation: find a string within a string\n",
    "pos = fruit.find('z')\n",
    "pos #if the value is not present it gives a -1"
   ]
  },
  {
   "cell_type": "code",
   "execution_count": 69,
   "metadata": {},
   "outputs": [
    {
     "data": {
      "text/plain": [
       "'pinebanana'"
      ]
     },
     "execution_count": 69,
     "metadata": {},
     "output_type": "execute_result"
    }
   ],
   "source": [
    "#Search & Replace\n",
    "new_fruit = fruit.replace('apple','banana')\n",
    "new_fruit"
   ]
  },
  {
   "cell_type": "code",
   "execution_count": 72,
   "metadata": {},
   "outputs": [
    {
     "name": "stdout",
     "output_type": "stream",
     "text": [
      "Left Strip: Hello Bob          \n",
      "Right Strip:       Hello Bob\n",
      "Total Strip: Hello Bob\n"
     ]
    }
   ],
   "source": [
    "#Stripping Whitespace\n",
    "greet = '      Hello Bob          '\n",
    "print(\"Left Strip:\",greet.lstrip())\n",
    "print(\"Right Strip:\",greet.rstrip())\n",
    "print(\"Total Strip:\",greet.strip())"
   ]
  },
  {
   "cell_type": "code",
   "execution_count": 74,
   "metadata": {},
   "outputs": [
    {
     "name": "stdout",
     "output_type": "stream",
     "text": [
      "True\n",
      "False\n"
     ]
    }
   ],
   "source": [
    "#Prefixes:\n",
    "welcome = (\"Please have your seat\")\n",
    "print(welcome.startswith(\"Please\"))\n",
    "print(welcome.startswith(\"Hi\"))"
   ]
  },
  {
   "cell_type": "markdown",
   "metadata": {},
   "source": [
    "### Parsing and Extracting\n",
    "data = .......@.............#........\n",
    "\n",
    "atpos = data.find('@')\n",
    "\n",
    "spos = data.find('#')\n",
    "\n",
    "name = data[atpos+1: spos]"
   ]
  },
  {
   "cell_type": "markdown",
   "metadata": {},
   "source": [
    "### Chapter 7: Reading Files\n",
    "\n",
    "- We use open() function to open a file\n",
    "- Example:\n",
    "    - fhand = open('mbox.txt')\n",
    "    - print(fhand)\n",
    "- The newline character '\\n' to indicate we are supposed to create a new line there.\n",
    "- A text file can be considered as sequence of lines"
   ]
  },
  {
   "cell_type": "code",
   "execution_count": 75,
   "metadata": {},
   "outputs": [
    {
     "data": {
      "text/plain": [
       "'Hello\\nWorld'"
      ]
     },
     "execution_count": 75,
     "metadata": {},
     "output_type": "execute_result"
    }
   ],
   "source": [
    "stuff ='Hello\\nWorld'\n",
    "stuff"
   ]
  },
  {
   "cell_type": "code",
   "execution_count": 76,
   "metadata": {},
   "outputs": [
    {
     "name": "stdout",
     "output_type": "stream",
     "text": [
      "Hello\n",
      "World\n"
     ]
    }
   ],
   "source": [
    "print(stuff)"
   ]
  },
  {
   "cell_type": "markdown",
   "metadata": {},
   "source": [
    "## Chapter 8: Lists\n",
    "\n",
    "- Algorithms: A set of rules or steps to solve a problem\n",
    "- Data Structures: A particular way of organizing data in computer\n",
    "- Variable: is more like storing one value\n",
    "- Collection: allows you to put many values in a single variable\n",
    "- List constants are surrounded by square brackets and the elements in the list are separated by commas\n",
    "\n",
    "\n",
    "__List are mutable which means they are changeable\n",
    "Strings are not mutable__"
   ]
  },
  {
   "cell_type": "code",
   "execution_count": 1,
   "metadata": {},
   "outputs": [
    {
     "name": "stdout",
     "output_type": "stream",
     "text": [
      "1\n",
      "2\n",
      "3\n",
      "4\n",
      "5\n",
      "Loop Completed\n"
     ]
    }
   ],
   "source": [
    "for i in [1,2,3,4,5]:\n",
    "    print(i)\n",
    "print('Loop Completed')\n"
   ]
  },
  {
   "cell_type": "code",
   "execution_count": 2,
   "metadata": {},
   "outputs": [
    {
     "name": "stdout",
     "output_type": "stream",
     "text": [
      "Happy New Year: Aki\n",
      "Happy New Year: Sally\n",
      "Happy New Year: Joe\n"
     ]
    }
   ],
   "source": [
    "friends = ['Aki','Sally','Joe']\n",
    "for friend in friends:\n",
    "    print(\"Happy New Year:\", friend)"
   ]
  },
  {
   "cell_type": "code",
   "execution_count": 3,
   "metadata": {},
   "outputs": [
    {
     "data": {
      "text/plain": [
       "'Joe'"
      ]
     },
     "execution_count": 3,
     "metadata": {},
     "output_type": "execute_result"
    }
   ],
   "source": [
    "# We can look within list\n",
    "friends[2]"
   ]
  },
  {
   "cell_type": "code",
   "execution_count": 5,
   "metadata": {},
   "outputs": [
    {
     "name": "stdout",
     "output_type": "stream",
     "text": [
      "['2', '3', '4', '5', '8']\n"
     ]
    },
    {
     "data": {
      "text/plain": [
       "['2', '3', '66', '5', '8']"
      ]
     },
     "execution_count": 5,
     "metadata": {},
     "output_type": "execute_result"
    }
   ],
   "source": [
    "lotto=['2','3','4','5','8']\n",
    "print(lotto)\n",
    "lotto[2]='66'\n",
    "lotto"
   ]
  },
  {
   "cell_type": "code",
   "execution_count": 8,
   "metadata": {},
   "outputs": [
    {
     "name": "stdout",
     "output_type": "stream",
     "text": [
      "range(0, 3)\n"
     ]
    }
   ],
   "source": [
    "##Using the range function\n",
    "print(range(len(friends)))"
   ]
  },
  {
   "cell_type": "code",
   "execution_count": 11,
   "metadata": {},
   "outputs": [
    {
     "name": "stdout",
     "output_type": "stream",
     "text": [
      "Happy New Year: Aki\n",
      "Happy New Year: Sally\n",
      "Happy New Year: Joe\n"
     ]
    }
   ],
   "source": [
    "for i in range(len(friends)):\n",
    "    print(\"Happy New Year:\", friends[i]) #This is based on position of the ith value in list "
   ]
  },
  {
   "cell_type": "code",
   "execution_count": 14,
   "metadata": {},
   "outputs": [
    {
     "name": "stdout",
     "output_type": "stream",
     "text": [
      "[1, 2, 3, 4, 5, 6]\n",
      "[2, 3]\n",
      "[1, 2, 3, 4]\n",
      "[6, 7, 8, 9]\n"
     ]
    }
   ],
   "source": [
    "#Loop Operations\n",
    "#Concatenating lists\n",
    "a = [1,2,3]\n",
    "b = [4,5,6]\n",
    "c = a+b\n",
    "print(c)\n",
    "\n",
    "#Lists can be sliced using\n",
    "t = [1,2,3,4,5,6,7,8,9]\n",
    "print(t[1:3])\n",
    "print(t[:4])\n",
    "print(t[5:])"
   ]
  },
  {
   "cell_type": "code",
   "execution_count": 2,
   "metadata": {},
   "outputs": [
    {
     "name": "stdout",
     "output_type": "stream",
     "text": [
      "<class 'list'>\n"
     ]
    },
    {
     "data": {
      "text/plain": [
       "['__add__',\n",
       " '__class__',\n",
       " '__contains__',\n",
       " '__delattr__',\n",
       " '__delitem__',\n",
       " '__dir__',\n",
       " '__doc__',\n",
       " '__eq__',\n",
       " '__format__',\n",
       " '__ge__',\n",
       " '__getattribute__',\n",
       " '__getitem__',\n",
       " '__gt__',\n",
       " '__hash__',\n",
       " '__iadd__',\n",
       " '__imul__',\n",
       " '__init__',\n",
       " '__init_subclass__',\n",
       " '__iter__',\n",
       " '__le__',\n",
       " '__len__',\n",
       " '__lt__',\n",
       " '__mul__',\n",
       " '__ne__',\n",
       " '__new__',\n",
       " '__reduce__',\n",
       " '__reduce_ex__',\n",
       " '__repr__',\n",
       " '__reversed__',\n",
       " '__rmul__',\n",
       " '__setattr__',\n",
       " '__setitem__',\n",
       " '__sizeof__',\n",
       " '__str__',\n",
       " '__subclasshook__',\n",
       " 'append',\n",
       " 'clear',\n",
       " 'copy',\n",
       " 'count',\n",
       " 'extend',\n",
       " 'index',\n",
       " 'insert',\n",
       " 'pop',\n",
       " 'remove',\n",
       " 'reverse',\n",
       " 'sort']"
      ]
     },
     "execution_count": 2,
     "metadata": {},
     "output_type": "execute_result"
    }
   ],
   "source": [
    "x = list()\n",
    "print(type(x))\n",
    "dir(x)"
   ]
  },
  {
   "cell_type": "code",
   "execution_count": 7,
   "metadata": {},
   "outputs": [
    {
     "data": {
      "text/plain": [
       "['book', 99, 'cookie']"
      ]
     },
     "execution_count": 7,
     "metadata": {},
     "output_type": "execute_result"
    }
   ],
   "source": [
    "stuff = list()\n",
    "stuff.append('book')\n",
    "stuff.append(99)\n",
    "stuff.append('cookie')\n",
    "stuff"
   ]
  },
  {
   "cell_type": "code",
   "execution_count": 8,
   "metadata": {},
   "outputs": [
    {
     "data": {
      "text/plain": [
       "False"
      ]
     },
     "execution_count": 8,
     "metadata": {},
     "output_type": "execute_result"
    }
   ],
   "source": [
    "some = [1,7,90,16,23]\n",
    "9 in some # Checks if the value is in the list"
   ]
  },
  {
   "cell_type": "code",
   "execution_count": 10,
   "metadata": {},
   "outputs": [
    {
     "data": {
      "text/plain": [
       "[1, 7, 16, 23, 90]"
      ]
     },
     "execution_count": 10,
     "metadata": {},
     "output_type": "execute_result"
    }
   ],
   "source": [
    "#Lists are in order and we can sort them\n",
    "some.sort()\n",
    "some"
   ]
  },
  {
   "cell_type": "code",
   "execution_count": 11,
   "metadata": {},
   "outputs": [
    {
     "name": "stdout",
     "output_type": "stream",
     "text": [
      "Length: 5\n",
      "Max: 90\n",
      "Min: 1\n",
      "sum: 137\n",
      "Average: 27.4\n"
     ]
    }
   ],
   "source": [
    "#Several bulit in function\n",
    "print(\"Length:\",len(some))\n",
    "print(\"Max:\",max(some))\n",
    "print(\"Min:\",min(some))\n",
    "print(\"sum:\",sum(some))\n",
    "print(\"Average:\",sum(some)/len(some))"
   ]
  },
  {
   "cell_type": "code",
   "execution_count": 13,
   "metadata": {},
   "outputs": [
    {
     "name": "stdout",
     "output_type": "stream",
     "text": [
      "Enter a number: 9\n",
      "Enter a number: 8\n",
      "Enter a number: 0986\n",
      "Enter a number: 890\n",
      "Enter a number: 7899\n",
      "Enter a number: done\n",
      "average:  1958.4\n"
     ]
    }
   ],
   "source": [
    "#To get average for list of numbers#\n",
    "count = 0\n",
    "total = 0\n",
    "while True:\n",
    "    inp = input(\"Enter a number: \")\n",
    "    if inp == 'done': break\n",
    "    value = float(inp)\n",
    "    count = count + 1\n",
    "    total = total + value\n",
    "print(\"average: \", total/count)"
   ]
  },
  {
   "cell_type": "code",
   "execution_count": 15,
   "metadata": {},
   "outputs": [
    {
     "name": "stdout",
     "output_type": "stream",
     "text": [
      "Enter a number: 9\n",
      "Enter a number: 8\n",
      "Enter a number: 986\n",
      "Enter a number: 890\n",
      "Enter a number: 7899\n",
      "Enter a number: done\n",
      "Average: 1958.4\n"
     ]
    }
   ],
   "source": [
    "#Implementing the above code using lists\n",
    "numlist = list()\n",
    "while True:\n",
    "    inp = input(\"Enter a number: \")\n",
    "    if inp == 'done': break\n",
    "    value = float(inp)\n",
    "    numlist.append(value)\n",
    "print(\"Average:\",sum(numlist)/len(numlist))\n"
   ]
  },
  {
   "cell_type": "code",
   "execution_count": 18,
   "metadata": {},
   "outputs": [
    {
     "name": "stdout",
     "output_type": "stream",
     "text": [
      "['Hi', 'how', 'are', 'you']\n",
      "Hi\n",
      "how\n",
      "are\n",
      "you\n"
     ]
    }
   ],
   "source": [
    "## Strings vs Lists\n",
    "abc = 'Hi how are you'\n",
    "stuff = abc.split()\n",
    "print(stuff)\n",
    "stuff[1]\n",
    "for w in stuff:\n",
    "    print(w)\n",
    "#We can split the sentences based on either spaces or any charcater"
   ]
  },
  {
   "cell_type": "markdown",
   "metadata": {},
   "source": [
    "fhand = open('file_name.txt')\n",
    "\n",
    "    for line in fhand:\n",
    "\n",
    "    line = line.rstrip()\n",
    "\n",
    "    if not line.startswith('From'): continue\n",
    "\n",
    "    words = line.split()\n",
    "\n",
    "    print(words)\n",
    "    \n",
    "### Python Lists - Strings,Files,Lists & the Gaurdian Pattern"
   ]
  },
  {
   "cell_type": "code",
   "execution_count": 24,
   "metadata": {},
   "outputs": [
    {
     "name": "stdout",
     "output_type": "stream",
     "text": [
      "Sat\n",
      "Fri\n",
      "Fri\n",
      "Fri\n",
      "Fri\n",
      "Fri\n",
      "Fri\n",
      "Fri\n",
      "Fri\n",
      "Fri\n",
      "Fri\n",
      "Fri\n",
      "Fri\n",
      "Fri\n",
      "Fri\n",
      "Fri\n",
      "Fri\n",
      "Fri\n",
      "Fri\n",
      "Fri\n",
      "Fri\n",
      "Thu\n",
      "Thu\n",
      "Thu\n",
      "Thu\n",
      "Thu\n",
      "Thu\n"
     ]
    }
   ],
   "source": [
    "han = open('mbox-short.txt')\n",
    "\n",
    "for line in han:\n",
    "    line = line.rstrip() # removing blank spaces from right\n",
    "    wds = line.split()\n",
    "    if len(wds)<1:\n",
    "        continue\n",
    "    if wds[0] != 'From':\n",
    "        continue\n",
    "    print (wds[2])\n",
    "        "
   ]
  },
  {
   "cell_type": "markdown",
   "metadata": {},
   "source": [
    "## Chapter 9: Dictonaries\n",
    "\n",
    "- What is a collection?\n",
    "    - A collection is nice because we can put more than one value in it and carry them all around in one convenient package\n",
    "    - We have a bunch of values in a single \"variable\"\n",
    "    - We do this by having more than one place \"in\" the variable\n",
    "    - Usally the values are overwritten\n",
    "    - List is organized way of data\n",
    "    - Dictionary is a key-value pair\n",
    "    \n",
    "- Dictonaries:\n",
    "    - Associative Arrays\n",
    "    - Properties or Map or Hashmap\n",
    "    - Dictonaries are like bags- no order\n",
    "    - So we index the things we put in the dictonary with a \"lookup tag\"\n",
    "    \n",
    "__Dictonaries are like lists except that they use keys instead of numbers to look up values__"
   ]
  },
  {
   "cell_type": "code",
   "execution_count": 5,
   "metadata": {},
   "outputs": [
    {
     "name": "stdout",
     "output_type": "stream",
     "text": [
      "{'money': 5, 'tissue': 12, 'candy': 16}\n"
     ]
    },
    {
     "data": {
      "text/plain": [
       "{'money': 5, 'tissue': 12, 'candy': 18}"
      ]
     },
     "execution_count": 5,
     "metadata": {},
     "output_type": "execute_result"
    }
   ],
   "source": [
    "purse = dict()\n",
    "purse['money'] = 5\n",
    "purse['tissue'] = 12\n",
    "purse['candy'] = 16\n",
    "\n",
    "print(purse)\n",
    "purse['candy']= purse['candy']+2\n",
    "purse"
   ]
  },
  {
   "cell_type": "code",
   "execution_count": 7,
   "metadata": {},
   "outputs": [
    {
     "name": "stdout",
     "output_type": "stream",
     "text": [
      "{'a': 2, 'b': 2, 'h': 3, 'g': 1}\n"
     ]
    }
   ],
   "source": [
    "#Counting the frequency of things\n",
    "#Most Common Name\n",
    "counts = dict()\n",
    "names = ['a','b','h','h','g','a','h','b']\n",
    "for name in names:\n",
    "    if name not in counts:\n",
    "        counts[name] = 1\n",
    "    else:\n",
    "        counts[name] = counts[name] + 1\n",
    "print(counts)"
   ]
  },
  {
   "cell_type": "code",
   "execution_count": 12,
   "metadata": {},
   "outputs": [
    {
     "name": "stdout",
     "output_type": "stream",
     "text": [
      "{'a': 2, 'b': 2, 'h': 3, 'g': 1}\n"
     ]
    }
   ],
   "source": [
    "#the above code can be written as:\n",
    "counts = dict()\n",
    "for name in names:\n",
    "    counts[name] = counts.get(name,0) +1\n",
    "print(counts)"
   ]
  },
  {
   "cell_type": "code",
   "execution_count": 14,
   "metadata": {},
   "outputs": [
    {
     "name": "stdout",
     "output_type": "stream",
     "text": [
      "Enter a line of text:\n",
      "I am smart and I am blessed and I can do anything\n",
      "Words ['I', 'am', 'smart', 'and', 'I', 'am', 'blessed', 'and', 'I', 'can', 'do', 'anything']\n",
      "Counting\n",
      "{'I': 3, 'am': 2, 'smart': 1, 'and': 2, 'blessed': 1, 'can': 1, 'do': 1, 'anything': 1}\n"
     ]
    }
   ],
   "source": [
    "#Counting words in text\n",
    "counts = dict()\n",
    "print('Enter a line of text:')\n",
    "line = input('')\n",
    "\n",
    "words = line.split()\n",
    "\n",
    "print('Words',words)\n",
    "print('Counting')\n",
    "for word in words:\n",
    "    counts[word]= counts.get(word,0)+ 1\n",
    "print(counts)"
   ]
  },
  {
   "cell_type": "code",
   "execution_count": 20,
   "metadata": {},
   "outputs": [
    {
     "name": "stdout",
     "output_type": "stream",
     "text": [
      "dict_keys(['I', 'am', 'smart', 'and', 'blessed', 'can', 'do', 'anything'])\n",
      "dict_values([3, 2, 1, 2, 1, 1, 1, 1])\n",
      "dict_items([('I', 3), ('am', 2), ('smart', 1), ('and', 2), ('blessed', 1), ('can', 1), ('do', 1), ('anything', 1)])\n"
     ]
    }
   ],
   "source": [
    "print(counts.keys())\n",
    "print(counts.values())\n",
    "print(counts.items())"
   ]
  },
  {
   "cell_type": "code",
   "execution_count": 21,
   "metadata": {},
   "outputs": [
    {
     "name": "stdout",
     "output_type": "stream",
     "text": [
      "I 3\n",
      "am 2\n",
      "smart 1\n",
      "and 2\n",
      "blessed 1\n",
      "can 1\n",
      "do 1\n",
      "anything 1\n"
     ]
    }
   ],
   "source": [
    "for keys,values in counts.items():\n",
    "    print(keys,values)"
   ]
  },
  {
   "cell_type": "code",
   "execution_count": 29,
   "metadata": {},
   "outputs": [
    {
     "name": "stdout",
     "output_type": "stream",
     "text": [
      "Enter the file name: words.txt\n",
      "{'Writing': 1, 'programs': 2, 'or': 1, 'programming': 1, 'is': 2, 'a': 3, 'very': 2, 'creative': 1, 'and': 5, 'rewarding': 1, 'activity': 1, 'You': 1, 'can': 4, 'write': 1, 'for': 1, 'many': 2, 'reasons': 1, 'ranging': 2, 'from': 2, 'making': 1, 'your': 2, 'living': 1, 'to': 16, 'solving': 1, 'difficult': 1, 'data': 1, 'analysis': 1, 'problem': 2, 'having': 1, 'fun': 1, 'helping': 1, 'someone': 1, 'else': 1, 'solve': 1, 'This': 1, 'book': 1, 'assumes': 1, 'that': 4, '{\\\\em': 1, 'everyone}': 1, 'needs': 1, 'know': 2, 'how': 2, 'program': 1, 'once': 1, 'you': 4, 'program,': 1, 'will': 1, 'figure': 1, 'out': 1, 'what': 2, 'want': 1, 'do': 5, 'with': 2, 'newfound': 1, 'skills': 1, 'We': 2, 'are': 3, 'surrounded': 1, 'in': 2, 'our': 5, 'daily': 1, 'lives': 1, 'computers': 5, 'laptops': 1, 'cell': 1, 'phones': 1, 'think': 1, 'of': 5, 'these': 1, 'as': 1, 'personal': 1, 'assistants': 1, 'who': 1, 'take': 1, 'care': 1, 'things': 3, 'on': 2, 'behalf': 2, 'The': 1, 'hardware': 1, 'current-day': 1, 'essentially': 1, 'built': 1, 'continuously': 1, 'ask': 1, 'us': 2, 'the': 6, 'question': 1, 'What': 1, 'would': 2, 'like': 2, 'me': 1, 'next': 2, 'Our': 1, 'fast': 1, 'have': 1, 'vasts': 1, 'amounts': 1, 'memory': 1, 'could': 2, 'be': 1, 'helpful': 1, 'if': 1, 'we': 5, 'only': 1, 'knew': 2, 'language': 2, 'speak': 1, 'explain': 1, 'computer': 2, 'it': 1, 'If': 1, 'this': 1, 'tell': 1, 'tasks': 1, 'were': 1, 'reptitive': 1, 'Interestingly,': 1, 'kinds': 2, 'best': 1, 'often': 1, 'humans': 1, 'find': 1, 'boring': 1, 'mind-numbing': 1}\n",
      "to 16\n"
     ]
    }
   ],
   "source": [
    "#Find the largest word and largest count\n",
    "\n",
    "name = input('Enter the file name: ')\n",
    "fname = open(name)\n",
    "fname\n",
    "#Task 1: Need to create key-value pairs\n",
    "word_pairs = {}\n",
    "for line in fname:\n",
    "    words = line.split()\n",
    "    for word in words:\n",
    "        word_pairs[word] = word_pairs.get(word,0)+1\n",
    "print(word_pairs)\n",
    "\n",
    "#Task 2: To get the bigcount and bigword\n",
    "bigcount = 0\n",
    "bigword = 0\n",
    "for word,count in word_pairs.items():\n",
    "    if bigcount == 0 or count > bigcount:\n",
    "        bigword = word\n",
    "        bigcount = count\n",
    "print(bigword,bigcount)\n"
   ]
  },
  {
   "cell_type": "code",
   "execution_count": null,
   "metadata": {},
   "outputs": [],
   "source": []
  },
  {
   "cell_type": "code",
   "execution_count": null,
   "metadata": {},
   "outputs": [],
   "source": []
  },
  {
   "cell_type": "code",
   "execution_count": null,
   "metadata": {},
   "outputs": [],
   "source": []
  }
 ],
 "metadata": {
  "kernelspec": {
   "display_name": "Python 3",
   "language": "python",
   "name": "python3"
  },
  "language_info": {
   "codemirror_mode": {
    "name": "ipython",
    "version": 3
   },
   "file_extension": ".py",
   "mimetype": "text/x-python",
   "name": "python",
   "nbconvert_exporter": "python",
   "pygments_lexer": "ipython3",
   "version": "3.7.4"
  }
 },
 "nbformat": 4,
 "nbformat_minor": 2
}
