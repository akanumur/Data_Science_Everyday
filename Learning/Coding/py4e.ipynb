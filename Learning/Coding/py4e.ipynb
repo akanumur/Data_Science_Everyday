{
 "cells": [
  {
   "cell_type": "markdown",
   "metadata": {},
   "source": [
    "## Python for Everybody - Full Course with Dr. Chuck\n",
    "\n",
    "resource: https://www.youtube.com/watch?v=8DvywoWv6fI"
   ]
  },
  {
   "cell_type": "markdown",
   "metadata": {},
   "source": [
    "Day 01:\n",
    "Chapter 01: Why Program?\n",
    "\n",
    "- Dr.Chuck talks about what is the purpose of programming and how computers respond to our commands\n",
    "- Why be a programmer?\n",
    "- How syntax is important in programming\n",
    "- Ease of human work using programming\n",
    "\n",
    "Hardware Architecture\n",
    "- He talks about the structure of Computer ( central processing unit, memory unit and so on )\n",
    "- Change in the hardware from to 90s to present\n",
    "- Computers are not really smart but they are fast\n",
    "- Machine Language\n",
    "\n",
    "Python as Language\n",
    "- Installing in Windows and Mac\n",
    "- Print Hello world using command prompt \n",
    "- Print Hello world using Atom\n",
    "\n",
    "Day 02:\n",
    "\n",
    "- History of Python\n",
    "- Python in cmd check below syntax"
   ]
  },
  {
   "cell_type": "code",
   "execution_count": 1,
   "metadata": {},
   "outputs": [
    {
     "name": "stdout",
     "output_type": "stream",
     "text": [
      "1\n",
      "2\n"
     ]
    },
    {
     "data": {
      "text/plain": [
       "2"
      ]
     },
     "execution_count": 1,
     "metadata": {},
     "output_type": "execute_result"
    }
   ],
   "source": [
    ">>> x=1\n",
    ">>> print(x)\n",
    "1\n",
    ">>> x= x+1\n",
    ">>> print(x)\n",
    "2\n",
    ">>>   "
   ]
  },
  {
   "cell_type": "markdown",
   "metadata": {},
   "source": [
    "## Elements of Python\n",
    "\n",
    "- Vocabulary/ Words - variables and Reserved words (Chapter 2)\n",
    "- Sentence Structure - valid syntax patterns (Chapter 3-5)\n",
    "- Story Structure - constructing a program for a purpose \n",
    "\n",
    "Reserved Words:\n",
    "- you cannot use reserved words as variable names/ identifiers\n",
    "Flase, class, return , is , if , for , lambda ...\n",
    "\n",
    "Sentence or Lines\n",
    " x = 2 --> Assignment statement\n",
    " x = x+2 --> Assignment with expression\n",
    " print(x) --> Print statement\n",
    " \n",
    " Python executes sequential steps, conditional steps (if statement)"
   ]
  },
  {
   "cell_type": "code",
   "execution_count": 2,
   "metadata": {},
   "outputs": [
    {
     "name": "stdout",
     "output_type": "stream",
     "text": [
      "Bigger\n",
      "Finish\n"
     ]
    }
   ],
   "source": [
    "x = 15\n",
    "if x < 10:\n",
    "    print('Smaller')\n",
    "elif x < 20:\n",
    "    print('Bigger')\n",
    "    \n",
    "print('Finish')"
   ]
  },
  {
   "cell_type": "code",
   "execution_count": 3,
   "metadata": {},
   "outputs": [
    {
     "name": "stdout",
     "output_type": "stream",
     "text": [
      "5\n",
      "4\n",
      "3\n",
      "2\n",
      "1\n",
      "End of Code\n"
     ]
    }
   ],
   "source": [
    "#Repeated steps using while loop\n",
    "#Runs in a cyclic loop the value of x changes for each loop\n",
    "\n",
    "x = 5 \n",
    "while x>0:\n",
    "    print(x)\n",
    "    x = x-1\n",
    "print('End of Code')"
   ]
  },
  {
   "cell_type": "markdown",
   "metadata": {},
   "source": [
    "## Chapter 02: Variables, Expressions and Statements\n",
    "\n",
    "Constants : Fixed values such as numbers, letters and strings which do not change overtime\n",
    "Ex: 123, \"apple\"\n",
    "\n",
    "Reserved Words: Special words which are like commands to python Ex: if, else, for ...\n",
    "\n",
    "Variables: A variable is a named place in the memory where a programmer can store data and later retreieve the data using variable \"name\". It's like an assignment operator.\n",
    "\n",
    "When a new value is assigned the previous value is dropped\n",
    "\n",
    "*Variable Names are case sensitive*\n",
    "\n",
    "** Mnemonic Variable Names **\n",
    "\n",
    "Ex: x = 12\n",
    "\n",
    "__Assignment Statements__\n",
    "\n",
    "x = 3.9*x*(1-x) The python command runs from right to left (assignment)\n",
    "\n",
    "__Expressions__\n",
    "\n",
    "We have a limited expressions + (Addition), - (Subtraction), * (Multiplication), / (Division), ** (Power), % (Remainder)\n",
    "\n",
    "__Operator Precedence rules__\n",
    "\n",
    "- Parenthesis\n",
    "- Power\n",
    "- Multiplication, Division and Remainder\n",
    "- Addition and Subtraction\n",
    "- Left to Right\n",
    "\n",
    "__Different Types of Data__\n",
    "\n",
    "- '+' means addition for integer and '+' means concatanate for strings"
   ]
  },
  {
   "cell_type": "code",
   "execution_count": 4,
   "metadata": {},
   "outputs": [
    {
     "data": {
      "text/plain": [
       "'hellothere'"
      ]
     },
     "execution_count": 4,
     "metadata": {},
     "output_type": "execute_result"
    }
   ],
   "source": [
    "eee ='hello'+'there'\n",
    "eee"
   ]
  },
  {
   "cell_type": "code",
   "execution_count": 5,
   "metadata": {},
   "outputs": [],
   "source": [
    "#eee = eee+1"
   ]
  },
  {
   "cell_type": "code",
   "execution_count": 6,
   "metadata": {},
   "outputs": [
    {
     "data": {
      "text/plain": [
       "str"
      ]
     },
     "execution_count": 6,
     "metadata": {},
     "output_type": "execute_result"
    }
   ],
   "source": [
    "type(eee)"
   ]
  },
  {
   "cell_type": "code",
   "execution_count": 7,
   "metadata": {},
   "outputs": [
    {
     "data": {
      "text/plain": [
       "int"
      ]
     },
     "execution_count": 7,
     "metadata": {},
     "output_type": "execute_result"
    }
   ],
   "source": [
    "type(1)"
   ]
  },
  {
   "cell_type": "code",
   "execution_count": 8,
   "metadata": {},
   "outputs": [
    {
     "data": {
      "text/plain": [
       "str"
      ]
     },
     "execution_count": 8,
     "metadata": {},
     "output_type": "execute_result"
    }
   ],
   "source": [
    "type('hello')"
   ]
  },
  {
   "cell_type": "markdown",
   "metadata": {},
   "source": [
    "__Types of Numbers__\n",
    "\n",
    "- Integers: are whole numbers\n",
    "- Floating Point Numbers: are decimal parts\n",
    "\n",
    "__Type of Conversions__\n",
    "\n",
    "- We can use built-in functions int() and float() to convert into different form \n",
    "\n",
    "__String Conversions__\n",
    "\n",
    "- We can use int() and float() to convert between strings to integers\n"
   ]
  },
  {
   "cell_type": "code",
   "execution_count": 9,
   "metadata": {},
   "outputs": [
    {
     "data": {
      "text/plain": [
       "124"
      ]
     },
     "execution_count": 9,
     "metadata": {},
     "output_type": "execute_result"
    }
   ],
   "source": [
    "sval ='123'\n",
    "ival = int(sval)\n",
    "ival = ival +1\n",
    "ival"
   ]
  },
  {
   "cell_type": "code",
   "execution_count": 10,
   "metadata": {},
   "outputs": [
    {
     "name": "stdout",
     "output_type": "stream",
     "text": [
      "Who are you?Akshata\n",
      "Welcome Akshata\n"
     ]
    }
   ],
   "source": [
    "#User Input\n",
    "#We can instruct Python to pause and read data from the user using the input() function\n",
    "name = input(\"Who are you?\")\n",
    "print('Welcome',name)"
   ]
  },
  {
   "cell_type": "code",
   "execution_count": 11,
   "metadata": {},
   "outputs": [
    {
     "name": "stdout",
     "output_type": "stream",
     "text": [
      "Europe Floor? 9\n",
      "US floor 10\n"
     ]
    }
   ],
   "source": [
    "# Converting user input\n",
    "inp = input('Europe Floor? ')\n",
    "uso = int(inp)+1\n",
    "print('US floor',uso)"
   ]
  },
  {
   "cell_type": "markdown",
   "metadata": {},
   "source": [
    "## Chapter 3: Conditional Execution\n",
    "\n",
    "The python conditional statements is like making python do task for us.\n",
    "Example : IF statement\n",
    "\n",
    "--Comparision operators--\n",
    "<, <=, >=, ==, >, !="
   ]
  },
  {
   "cell_type": "code",
   "execution_count": 12,
   "metadata": {},
   "outputs": [
    {
     "name": "stdout",
     "output_type": "stream",
     "text": [
      "Smaller\n",
      "Finish\n"
     ]
    }
   ],
   "source": [
    "x = 5\n",
    "if x < 10:\n",
    "    print(\"Smaller\")\n",
    "elif x>20:\n",
    "    print(\"Bigger\")\n",
    "\n",
    "print(\"Finish\")"
   ]
  },
  {
   "cell_type": "code",
   "execution_count": 13,
   "metadata": {},
   "outputs": [
    {
     "name": "stdout",
     "output_type": "stream",
     "text": [
      "Bigger than 2\n",
      "Still bigger\n",
      "Done with 2\n"
     ]
    }
   ],
   "source": [
    "x = 5\n",
    "if x>2:\n",
    "    print('Bigger than 2')\n",
    "    print('Still bigger')\n",
    "print('Done with 2')   "
   ]
  },
  {
   "cell_type": "code",
   "execution_count": 14,
   "metadata": {},
   "outputs": [
    {
     "name": "stdout",
     "output_type": "stream",
     "text": [
      "0\n",
      "Done with 0\n",
      "1\n",
      "Done with 1\n",
      "2\n",
      "Done with 2\n",
      "3\n",
      "New i 3\n",
      "Bigger than 2\n",
      "Done with 3\n",
      "4\n",
      "New i 4\n",
      "Bigger than 2\n",
      "Done with 4\n",
      "All Done\n"
     ]
    }
   ],
   "source": [
    "for i in range(5):\n",
    "    print(i)\n",
    "    if i> 2:\n",
    "        print('New i',i)\n",
    "        print('Bigger than 2')\n",
    "    print('Done with',i)\n",
    "print('All Done')"
   ]
  },
  {
   "cell_type": "code",
   "execution_count": 15,
   "metadata": {},
   "outputs": [
    {
     "name": "stdout",
     "output_type": "stream",
     "text": [
      "What is your number ?89\n",
      "More than one\n",
      "Less than 100\n",
      "All done\n"
     ]
    }
   ],
   "source": [
    "#Nested Desicions\n",
    "x = int(input('What is your number ?'))\n",
    "if x> 1:\n",
    "    print ('More than one')\n",
    "    if x < 100:\n",
    "        print('Less than 100')\n",
    "print('All done')\n"
   ]
  },
  {
   "cell_type": "code",
   "execution_count": 16,
   "metadata": {},
   "outputs": [
    {
     "name": "stdout",
     "output_type": "stream",
     "text": [
      "Bigger\n",
      "All Done\n"
     ]
    }
   ],
   "source": [
    "#Two way Descisions\n",
    "x = 4\n",
    "if x > 2:\n",
    "    print('Bigger')\n",
    "else:\n",
    "    print('Not Bigger')\n",
    "\n",
    "print ('All Done')"
   ]
  },
  {
   "cell_type": "markdown",
   "metadata": {},
   "source": [
    "__More Conditional Structures__\n",
    "\n",
    "Multi Way: this uses elif"
   ]
  },
  {
   "cell_type": "code",
   "execution_count": 17,
   "metadata": {},
   "outputs": [
    {
     "name": "stdout",
     "output_type": "stream",
     "text": [
      "small\n",
      "Done\n"
     ]
    }
   ],
   "source": [
    "x = -3\n",
    "if x < 2 :\n",
    "    print('small')\n",
    "elif x < 10:\n",
    "    print('medium')\n",
    "else:\n",
    "    print('large')\n",
    "\n",
    "print('Done')"
   ]
  },
  {
   "cell_type": "code",
   "execution_count": 18,
   "metadata": {},
   "outputs": [
    {
     "name": "stdout",
     "output_type": "stream",
     "text": [
      "First -1\n",
      "Second 1234\n"
     ]
    }
   ],
   "source": [
    "#Try and Exception\n",
    "astr = 'Hello world'\n",
    "try:\n",
    "    int_astr = int(astr)\n",
    "except:\n",
    "    int_astr =-1\n",
    "print('First', int_astr)\n",
    "\n",
    "astr = '1234'\n",
    "try:\n",
    "    int_astr = int(astr)\n",
    "except:\n",
    "    int_astr =-1\n",
    "print('Second',int_astr)"
   ]
  },
  {
   "cell_type": "code",
   "execution_count": 19,
   "metadata": {},
   "outputs": [
    {
     "name": "stdout",
     "output_type": "stream",
     "text": [
      "Enter a number: 9\n",
      "Good Job\n"
     ]
    }
   ],
   "source": [
    "#Sample try/except\n",
    "\n",
    "n = input(\"Enter a number: \")\n",
    "try:\n",
    "    ival = int(n)\n",
    "except:\n",
    "    ival = -1\n",
    "ival\n",
    "\n",
    "if ival > 0:\n",
    "    print('Good Job')\n",
    "else:\n",
    "    print('This is not a number')"
   ]
  },
  {
   "cell_type": "markdown",
   "metadata": {},
   "source": [
    "## Chapter 4\n",
    "\n",
    "__Functions:__\n",
    "\n",
    "- The idea is to reduce the number of times we run the same step\n",
    "- We start a function using _def()_\n",
    "- Built-in functions: print(),input(),type(),float(),int()\n",
    "- A function is some reusable code that takes arguments as input, does some computation and then returns  a result\n",
    "- We call/ invoke a function\n",
    "- Other than that we have type conversions and string conversion functions"
   ]
  },
  {
   "cell_type": "code",
   "execution_count": 20,
   "metadata": {},
   "outputs": [
    {
     "name": "stdout",
     "output_type": "stream",
     "text": [
      "Hello\n",
      "HelloHello\n",
      "name\n",
      "Hello\n",
      "HelloHello\n"
     ]
    }
   ],
   "source": [
    "def thing(a):\n",
    "    print(a)\n",
    "    print(a+a)\n",
    "\n",
    "thing('Hello')\n",
    "print('name')\n",
    "thing('Hello')"
   ]
  },
  {
   "cell_type": "code",
   "execution_count": 21,
   "metadata": {},
   "outputs": [
    {
     "name": "stdout",
     "output_type": "stream",
     "text": [
      "w\n",
      "H\n"
     ]
    }
   ],
   "source": [
    "def min_max(word):\n",
    "    print(max(word))\n",
    "    print(min(word))\n",
    "    \n",
    "min_max(\"Helloworld\")"
   ]
  },
  {
   "cell_type": "markdown",
   "metadata": {},
   "source": [
    "Buiding our own functions\n",
    "\n",
    "- We create a new function using def keyword followed by optional parameters in ()\n",
    "- We indent the body of the function\n",
    "- This defines the function but does not executes the body of the function\n",
    "- Example:\n",
    "    def title(name):\n",
    "        print('Mr '+ name)\n",
    "    print('Joe')\n",
    "- We define a function we can call it as many times as we want\n",
    "- __Key Parameters for a function Arguments, Parameters and Results__"
   ]
  },
  {
   "cell_type": "code",
   "execution_count": 22,
   "metadata": {},
   "outputs": [
    {
     "name": "stdout",
     "output_type": "stream",
     "text": [
      "Hello\n",
      "yo\n",
      "I'm gonna by okay\n",
      "8\n"
     ]
    }
   ],
   "source": [
    "x = 5\n",
    "print('Hello')\n",
    "def print_lyrics():\n",
    "    print(\"I'm gonna by okay\")\n",
    "    \n",
    "print('yo')\n",
    "print_lyrics()\n",
    "x = x+3\n",
    "print(x)"
   ]
  },
  {
   "cell_type": "code",
   "execution_count": 23,
   "metadata": {},
   "outputs": [
    {
     "name": "stdout",
     "output_type": "stream",
     "text": [
      "Hello\n",
      "Hola\n",
      "Bonjour\n",
      "Bonjour\n"
     ]
    }
   ],
   "source": [
    "def greet(lang):\n",
    "    if lang =='en':\n",
    "        print(\"Hello\")\n",
    "    elif lang == 'es':\n",
    "        print(\"Hola\")\n",
    "    else:\n",
    "        print('Bonjour')\n",
    "\n",
    "greet('en')\n",
    "greet('es')\n",
    "greet('fr') \n",
    "greet('in')"
   ]
  },
  {
   "cell_type": "code",
   "execution_count": 24,
   "metadata": {},
   "outputs": [
    {
     "name": "stdout",
     "output_type": "stream",
     "text": [
      "Hello Sally\n"
     ]
    }
   ],
   "source": [
    "# Return values\n",
    "#Often a function will take argument and do some computation and returns a value\n",
    "\n",
    "def greet():\n",
    "    return \"Hello\"\n",
    "print(greet(),\"Sally\")"
   ]
  },
  {
   "cell_type": "code",
   "execution_count": 25,
   "metadata": {},
   "outputs": [
    {
     "name": "stdout",
     "output_type": "stream",
     "text": [
      "Hello Aki\n",
      "Hola Aki\n",
      "Bonjour Aki\n",
      "Bonjour Aki\n"
     ]
    }
   ],
   "source": [
    "def greet(lang):\n",
    "    if lang =='en':\n",
    "        return (\"Hello\")\n",
    "    elif lang == 'es':\n",
    "        return (\"Hola\")\n",
    "    else:\n",
    "        return('Bonjour')\n",
    "\n",
    "print(greet('en'),\"Aki\")\n",
    "print(greet('es'),\"Aki\")\n",
    "print(greet('fr'),\"Aki\")\n",
    "print(greet('in'),\"Aki\")"
   ]
  },
  {
   "cell_type": "code",
   "execution_count": 26,
   "metadata": {},
   "outputs": [
    {
     "data": {
      "text/plain": [
       "13"
      ]
     },
     "execution_count": 26,
     "metadata": {},
     "output_type": "execute_result"
    }
   ],
   "source": [
    "def addtwo(a,b):\n",
    "    return a+b\n",
    "addtwo(6,7)    "
   ]
  },
  {
   "cell_type": "markdown",
   "metadata": {},
   "source": [
    "## Chapter 5\n",
    "\n",
    "__Loops and Iterations__"
   ]
  },
  {
   "cell_type": "code",
   "execution_count": 27,
   "metadata": {},
   "outputs": [
    {
     "name": "stdout",
     "output_type": "stream",
     "text": [
      "5\n",
      "4\n",
      "3\n",
      "2\n",
      "1\n",
      "Done with the Loop\n",
      "0\n"
     ]
    }
   ],
   "source": [
    "#While Loop:\n",
    "\n",
    "n = 5 #Iteration Loop\n",
    "while n>0:\n",
    "    print (n)\n",
    "    n = n-1\n",
    "print('Done with the Loop')\n",
    "print(n)"
   ]
  },
  {
   "cell_type": "code",
   "execution_count": 28,
   "metadata": {},
   "outputs": [
    {
     "name": "stdout",
     "output_type": "stream",
     "text": [
      "You are out of the Loop\n"
     ]
    }
   ],
   "source": [
    "#Zero trip Loos - it does not run even once\n",
    "n=0\n",
    "while n>0:\n",
    "    print('You are in the loop')\n",
    "print('You are out of the Loop')"
   ]
  },
  {
   "cell_type": "code",
   "execution_count": 29,
   "metadata": {},
   "outputs": [
    {
     "name": "stdout",
     "output_type": "stream",
     "text": [
      "> Aki\n",
      "Aki\n",
      "> Hello\n",
      "Hello\n",
      "> done\n",
      "Done\n"
     ]
    }
   ],
   "source": [
    "#Breakout of the Loop\n",
    "#The break statement ends the current loop and jumps to the statement immediately following the loop\n",
    "\n",
    "while True:\n",
    "    line = input('> ')\n",
    "    if line == 'done':\n",
    "        break #Once we are done with break it doesn't go back\n",
    "    print(line)\n",
    "print('Done')"
   ]
  },
  {
   "cell_type": "code",
   "execution_count": 30,
   "metadata": {},
   "outputs": [
    {
     "name": "stdout",
     "output_type": "stream",
     "text": [
      "> Akshata\n",
      "Akshata\n",
      "> #Akshata\n",
      "> #ML4LYF\n",
      "> done\n",
      "Done\n"
     ]
    }
   ],
   "source": [
    "#Continue is a different kind of the loop\n",
    "#continue statement ends the current iteration and jumps to the top of the loop and starts the next iteration\n",
    "while True:\n",
    "    line = input('> ')\n",
    "    if line[0] == '#' :\n",
    "        continue\n",
    "    if line == 'done' :\n",
    "        break\n",
    "    print(line)\n",
    "print('Done')"
   ]
  },
  {
   "cell_type": "markdown",
   "metadata": {},
   "source": [
    "### Indefinite Loops\n",
    "- They are called indefinite loops bcoz they keep running until the logic becomes False\n",
    "- Sometimes it is a little harder to be sure if the loops are going to terminate\n",
    "\n",
    "### Definite Loops\n",
    "- Quite often we havea list of items of the lines in a file - effectively a finite set of things"
   ]
  },
  {
   "cell_type": "code",
   "execution_count": 31,
   "metadata": {},
   "outputs": [
    {
     "name": "stdout",
     "output_type": "stream",
     "text": [
      "5\n",
      "4\n",
      "3\n",
      "2\n",
      "1\n",
      "Loop End\n"
     ]
    }
   ],
   "source": [
    "for i in [5,4,3,2,1]:\n",
    "    print (i)\n",
    "print('Loop End')"
   ]
  },
  {
   "cell_type": "code",
   "execution_count": 32,
   "metadata": {},
   "outputs": [
    {
     "name": "stdout",
     "output_type": "stream",
     "text": [
      "My friend is: I\n",
      "My friend is: Me\n",
      "My friend is: Myself\n",
      "All are my friends\n"
     ]
    }
   ],
   "source": [
    "friends = ['I', 'Me','Myself']\n",
    "for friend in friends:\n",
    "    print('My friend is:',friend)\n",
    "print('All are my friends')"
   ]
  },
  {
   "cell_type": "code",
   "execution_count": 33,
   "metadata": {},
   "outputs": [
    {
     "name": "stdout",
     "output_type": "stream",
     "text": [
      "Before the loop: -1\n",
      "3 3\n",
      "41 41\n",
      "41 12\n",
      "41 9\n",
      "74 74\n",
      "74 15\n",
      "After the loop: 74\n"
     ]
    }
   ],
   "source": [
    "largest_so_far = -1\n",
    "print(\"Before the loop:\",largest_so_far)\n",
    "numbers = [3,41,12,9,74,15]\n",
    "for num in numbers:\n",
    "    if num> largest_so_far:\n",
    "        largest_so_far = num\n",
    "    print(largest_so_far, num)\n",
    "    \n",
    "print(\"After the loop:\",largest_so_far)"
   ]
  },
  {
   "cell_type": "code",
   "execution_count": 34,
   "metadata": {},
   "outputs": [
    {
     "name": "stdout",
     "output_type": "stream",
     "text": [
      "Before 0\n",
      "1 9\n",
      "2 12\n",
      "3 13\n",
      "4 18\n",
      "5 30\n",
      "After 5\n"
     ]
    }
   ],
   "source": [
    "#More Loop Patterns\n",
    "#Counting in a loop\n",
    "\n",
    "zork = 0\n",
    "print ('Before',zork)\n",
    "for thing in [9,12,13,18,30]:\n",
    "    zork = zork+ 1\n",
    "    print (zork,thing)\n",
    "print('After',zork)"
   ]
  },
  {
   "cell_type": "code",
   "execution_count": 35,
   "metadata": {},
   "outputs": [
    {
     "name": "stdout",
     "output_type": "stream",
     "text": [
      "Before 0\n",
      "18 18\n",
      "96 114\n",
      "89 203\n",
      "24 227\n",
      "67 294\n",
      "After 294\n"
     ]
    }
   ],
   "source": [
    "#Summing the loop\n",
    "\n",
    "summing = 0\n",
    "print('Before',summing)\n",
    "for new in [18,96,89,24,67]:\n",
    "    summing = new+summing\n",
    "    print(new,summing)\n",
    "print('After',summing)"
   ]
  },
  {
   "cell_type": "code",
   "execution_count": 36,
   "metadata": {},
   "outputs": [
    {
     "name": "stdout",
     "output_type": "stream",
     "text": [
      "Before 0 0\n",
      "4 1 4.0\n",
      "9 2 4.5\n",
      "15 3 5.0\n",
      "29 4 7.25\n",
      "46 5 9.2\n",
      "135 6 22.5\n",
      "After 6 135\n"
     ]
    }
   ],
   "source": [
    "#Average in a Loop\n",
    "\n",
    "count = 0\n",
    "sum = 0\n",
    "print('Before',count,sum)\n",
    "for val in [ 4,5,6,14,17,89]:\n",
    "    count = count +1\n",
    "    sum = sum+val\n",
    "    avg = sum/count\n",
    "    print(sum,count,avg)\n",
    "print('After',count,sum)\n"
   ]
  },
  {
   "cell_type": "code",
   "execution_count": 37,
   "metadata": {},
   "outputs": [
    {
     "name": "stdout",
     "output_type": "stream",
     "text": [
      "Before\n",
      "Value is larger than 20: 89\n",
      "Value is larger than 20: 26\n",
      "Done\n"
     ]
    }
   ],
   "source": [
    "#Filtering in a loop\n",
    "print('Before')\n",
    "for value in [9,12,15,89,17,26]:\n",
    "    if value > 20:\n",
    "        print(\"Value is larger than 20:\", value)\n",
    "print('Done')"
   ]
  },
  {
   "cell_type": "code",
   "execution_count": 38,
   "metadata": {},
   "outputs": [
    {
     "name": "stdout",
     "output_type": "stream",
     "text": [
      "Before False\n",
      "False 9\n",
      "False 41\n",
      "False 12\n",
      "True 3\n",
      "True 74\n",
      "True 15\n",
      "After True\n"
     ]
    }
   ],
   "source": [
    "#Search using a Boolean Variable\n",
    "\n",
    "found = False\n",
    "print('Before',found)\n",
    "for value in [9,41,12,3,74,15]:\n",
    "    if value == 3:\n",
    "        found = True\n",
    "    print(found,value)\n",
    "print('After',found)"
   ]
  },
  {
   "cell_type": "code",
   "execution_count": 39,
   "metadata": {},
   "outputs": [
    {
     "name": "stdout",
     "output_type": "stream",
     "text": [
      "smallest_so_far 7\n",
      "smallest_so_far 7\n",
      "smallest_so_far 7\n",
      "smallest_so_far 7\n",
      "smallest_so_far 7\n",
      "smallest_so_far 7\n",
      "smallest_so_far 0\n",
      "Loop Done\n"
     ]
    }
   ],
   "source": [
    "#Smallest value\n",
    "numbers = [7,15,28,39,75,90,0]\n",
    "smallest = None\n",
    "for number in numbers:\n",
    "    if smallest is None:\n",
    "        smallest = number\n",
    "    elif number < smallest:\n",
    "        smallest = number\n",
    "    print(\"smallest_so_far\",smallest)\n",
    "print('Loop Done')\n",
    "    \n"
   ]
  },
  {
   "cell_type": "code",
   "execution_count": 40,
   "metadata": {},
   "outputs": [
    {
     "name": "stdout",
     "output_type": "stream",
     "text": [
      "OddNumber 5\n",
      "OddNumber 9\n",
      "EvenNumber 10\n",
      "OddNumber 7\n",
      "EvenNumber 18\n",
      "EvenNumber 20\n",
      "Loop End\n"
     ]
    }
   ],
   "source": [
    "#Odd or even\n",
    "values = [5,9,10,7,18,20]\n",
    "for val in values:\n",
    "    if val%2 ==0:\n",
    "        print('EvenNumber',val)\n",
    "    elif val%2 == 1:\n",
    "        print('OddNumber',val)\n",
    "print('Loop End')"
   ]
  },
  {
   "cell_type": "code",
   "execution_count": 41,
   "metadata": {},
   "outputs": [],
   "source": [
    "# \"is\" checks if the data types are the same whereas \"==\" only checks for values"
   ]
  },
  {
   "cell_type": "code",
   "execution_count": null,
   "metadata": {},
   "outputs": [],
   "source": []
  }
 ],
 "metadata": {
  "kernelspec": {
   "display_name": "Python 3",
   "language": "python",
   "name": "python3"
  },
  "language_info": {
   "codemirror_mode": {
    "name": "ipython",
    "version": 3
   },
   "file_extension": ".py",
   "mimetype": "text/x-python",
   "name": "python",
   "nbconvert_exporter": "python",
   "pygments_lexer": "ipython3",
   "version": "3.7.4"
  }
 },
 "nbformat": 4,
 "nbformat_minor": 2
}
