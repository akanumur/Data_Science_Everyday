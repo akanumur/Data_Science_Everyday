{
 "cells": [
  {
   "cell_type": "markdown",
   "metadata": {},
   "source": [
    "## Python for Everybody - Full Course with Dr. Chuck\n",
    "\n",
    "resource: https://www.youtube.com/watch?v=8DvywoWv6fI"
   ]
  },
  {
   "cell_type": "markdown",
   "metadata": {},
   "source": [
    "Day 01:\n",
    "Chapter 01: Why Program?\n",
    "\n",
    "- Dr.Chuck talks about what is the purpose of programming and how computers respond to our commands\n",
    "- Why be a programmer?\n",
    "- How syntax is important in programming\n",
    "- Ease of human work using programming\n",
    "\n",
    "Hardware Architecture\n",
    "- He talks about the structure of Computer ( central processing unit, memory unit and so on )\n",
    "- Change in the hardware from to 90s to present\n",
    "- Computers are not really smart but they are fast\n",
    "- Machine Language\n",
    "\n",
    "Python as Language\n",
    "- Installing in Windows and Mac\n",
    "- Print Hello world using command prompt \n",
    "- Print Hello world using Atom\n",
    "\n",
    "Day 02:\n",
    "\n",
    "- History of Python\n",
    "- Python in cmd check below syntax"
   ]
  },
  {
   "cell_type": "code",
   "execution_count": 1,
   "metadata": {},
   "outputs": [
    {
     "name": "stdout",
     "output_type": "stream",
     "text": [
      "1\n",
      "2\n"
     ]
    },
    {
     "data": {
      "text/plain": [
       "2"
      ]
     },
     "execution_count": 1,
     "metadata": {},
     "output_type": "execute_result"
    }
   ],
   "source": [
    ">>> x=1\n",
    ">>> print(x)\n",
    "1\n",
    ">>> x= x+1\n",
    ">>> print(x)\n",
    "2\n",
    ">>>   "
   ]
  },
  {
   "cell_type": "markdown",
   "metadata": {},
   "source": [
    "## Elements of Python\n",
    "\n",
    "- Vocabulary/ Words - variables and Reserved words (Chapter 2)\n",
    "- Sentence Structure - valid syntax patterns (Chapter 3-5)\n",
    "- Story Structure - constructing a program for a purpose \n",
    "\n",
    "Reserved Words:\n",
    "- you cannot use reserved words as variable names/ identifiers\n",
    "Flase, class, return , is , if , for , lambda ...\n",
    "\n",
    "Sentence or Lines\n",
    " x = 2 --> Assignment statement\n",
    " x = x+2 --> Assignment with expression\n",
    " print(x) --> Print statement\n",
    " \n",
    " Python executes sequential steps, conditional steps (if statement)"
   ]
  },
  {
   "cell_type": "code",
   "execution_count": 2,
   "metadata": {},
   "outputs": [
    {
     "name": "stdout",
     "output_type": "stream",
     "text": [
      "Bigger\n",
      "Finish\n"
     ]
    }
   ],
   "source": [
    "x = 15\n",
    "if x < 10:\n",
    "    print('Smaller')\n",
    "elif x < 20:\n",
    "    print('Bigger')\n",
    "    \n",
    "print('Finish')"
   ]
  },
  {
   "cell_type": "code",
   "execution_count": 3,
   "metadata": {},
   "outputs": [
    {
     "name": "stdout",
     "output_type": "stream",
     "text": [
      "5\n",
      "4\n",
      "3\n",
      "2\n",
      "1\n",
      "End of Code\n"
     ]
    }
   ],
   "source": [
    "#Repeated steps using while loop\n",
    "#Runs in a cyclic loop the value of x changes for each loop\n",
    "\n",
    "x = 5 \n",
    "while x>0:\n",
    "    print(x)\n",
    "    x = x-1\n",
    "print('End of Code')"
   ]
  },
  {
   "cell_type": "markdown",
   "metadata": {},
   "source": [
    "## Chapter 02: Variables, Expressions and Statements\n",
    "\n",
    "Constants : Fixed values such as numbers, letters and strings which do not change overtime\n",
    "Ex: 123, \"apple\"\n",
    "\n",
    "Reserved Words: Special words which are like commands to python Ex: if, else, for ...\n",
    "\n",
    "Variables: A variable is a named place in the memory where a programmer can store data and later retreieve the data using variable \"name\". It's like an assignment operator.\n",
    "\n",
    "When a new value is assigned the previous value is dropped\n",
    "\n",
    "*Variable Names are case sensitive*\n",
    "\n",
    "** Mnemonic Variable Names **\n",
    "\n",
    "Ex: x = 12\n",
    "\n",
    "__Assignment Statements__\n",
    "\n",
    "x = 3.9*x*(1-x) The python command runs from right to left (assignment)\n",
    "\n",
    "__Expressions__\n",
    "\n",
    "We have a limited expressions + (Addition), - (Subtraction), * (Multiplication), / (Division), ** (Power), % (Remainder)\n",
    "\n",
    "__Operator Precedence rules__\n",
    "\n",
    "- Parenthesis\n",
    "- Power\n",
    "- Multiplication, Division and Remainder\n",
    "- Addition and Subtraction\n",
    "- Left to Right\n",
    "\n",
    "__Different Types of Data__\n",
    "\n",
    "- '+' means addition for integer and '+' means concatanate for strings"
   ]
  },
  {
   "cell_type": "code",
   "execution_count": 4,
   "metadata": {},
   "outputs": [
    {
     "data": {
      "text/plain": [
       "'hellothere'"
      ]
     },
     "execution_count": 4,
     "metadata": {},
     "output_type": "execute_result"
    }
   ],
   "source": [
    "eee ='hello'+'there'\n",
    "eee"
   ]
  },
  {
   "cell_type": "code",
   "execution_count": 5,
   "metadata": {},
   "outputs": [
    {
     "ename": "TypeError",
     "evalue": "can only concatenate str (not \"int\") to str",
     "output_type": "error",
     "traceback": [
      "\u001b[1;31m---------------------------------------------------------------------------\u001b[0m",
      "\u001b[1;31mTypeError\u001b[0m                                 Traceback (most recent call last)",
      "\u001b[1;32m<ipython-input-5-f67b83b80ba4>\u001b[0m in \u001b[0;36m<module>\u001b[1;34m\u001b[0m\n\u001b[1;32m----> 1\u001b[1;33m \u001b[0meee\u001b[0m \u001b[1;33m=\u001b[0m \u001b[0meee\u001b[0m\u001b[1;33m+\u001b[0m\u001b[1;36m1\u001b[0m\u001b[1;33m\u001b[0m\u001b[1;33m\u001b[0m\u001b[0m\n\u001b[0m",
      "\u001b[1;31mTypeError\u001b[0m: can only concatenate str (not \"int\") to str"
     ]
    }
   ],
   "source": [
    "#eee = eee+1"
   ]
  },
  {
   "cell_type": "code",
   "execution_count": 6,
   "metadata": {},
   "outputs": [
    {
     "data": {
      "text/plain": [
       "str"
      ]
     },
     "execution_count": 6,
     "metadata": {},
     "output_type": "execute_result"
    }
   ],
   "source": [
    "type(eee)"
   ]
  },
  {
   "cell_type": "code",
   "execution_count": 7,
   "metadata": {},
   "outputs": [
    {
     "data": {
      "text/plain": [
       "int"
      ]
     },
     "execution_count": 7,
     "metadata": {},
     "output_type": "execute_result"
    }
   ],
   "source": [
    "type(1)"
   ]
  },
  {
   "cell_type": "code",
   "execution_count": 8,
   "metadata": {},
   "outputs": [
    {
     "data": {
      "text/plain": [
       "str"
      ]
     },
     "execution_count": 8,
     "metadata": {},
     "output_type": "execute_result"
    }
   ],
   "source": [
    "type('hello')"
   ]
  },
  {
   "cell_type": "markdown",
   "metadata": {},
   "source": [
    "__Types of Numbers__\n",
    "\n",
    "- Integers: are whole numbers\n",
    "- Floating Point Numbers: are decimal parts\n",
    "\n",
    "__Type of Conversions__\n",
    "\n",
    "- We can use built-in functions int() and float() to convert into different form \n",
    "\n",
    "__String Conversions__\n",
    "\n",
    "- We can use int() and float() to convert between strings to integers\n"
   ]
  },
  {
   "cell_type": "code",
   "execution_count": 17,
   "metadata": {},
   "outputs": [
    {
     "data": {
      "text/plain": [
       "124"
      ]
     },
     "execution_count": 17,
     "metadata": {},
     "output_type": "execute_result"
    }
   ],
   "source": [
    "sval ='123'\n",
    "ival = int(sval)\n",
    "ival = ival +1\n",
    "ival"
   ]
  },
  {
   "cell_type": "code",
   "execution_count": 18,
   "metadata": {},
   "outputs": [
    {
     "name": "stdout",
     "output_type": "stream",
     "text": [
      "Who are you?Aki\n",
      "Welcome Aki\n"
     ]
    }
   ],
   "source": [
    "#User Input\n",
    "#We can instruct Python to pause and read data from the user using the input() function\n",
    "name = input(\"Who are you?\")\n",
    "print('Welcome',name)"
   ]
  },
  {
   "cell_type": "code",
   "execution_count": 21,
   "metadata": {},
   "outputs": [
    {
     "name": "stdout",
     "output_type": "stream",
     "text": [
      "Europe Floor? 6\n",
      "US floor 7\n"
     ]
    }
   ],
   "source": [
    "# Converting user input\n",
    "inp = input('Europe Floor? ')\n",
    "uso = int(inp)+1\n",
    "print('US floor',uso)"
   ]
  },
  {
   "cell_type": "markdown",
   "metadata": {},
   "source": [
    "## Chapter 3: Conditional Execution"
   ]
  },
  {
   "cell_type": "code",
   "execution_count": null,
   "metadata": {},
   "outputs": [],
   "source": []
  }
 ],
 "metadata": {
  "kernelspec": {
   "display_name": "Python 3",
   "language": "python",
   "name": "python3"
  },
  "language_info": {
   "codemirror_mode": {
    "name": "ipython",
    "version": 3
   },
   "file_extension": ".py",
   "mimetype": "text/x-python",
   "name": "python",
   "nbconvert_exporter": "python",
   "pygments_lexer": "ipython3",
   "version": "3.7.4"
  }
 },
 "nbformat": 4,
 "nbformat_minor": 2
}
