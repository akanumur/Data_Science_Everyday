{
 "cells": [
  {
   "cell_type": "markdown",
   "metadata": {},
   "source": [
    "## Python for Everybody - Full Course with Dr. Chuck\n",
    "\n",
    "resource: https://www.youtube.com/watch?v=8DvywoWv6fI"
   ]
  },
  {
   "cell_type": "markdown",
   "metadata": {},
   "source": [
    "Day 01:\n",
    "Chapter 01: Why Program?\n",
    "\n",
    "- Dr.Chuck talks about what is the purpose of programming and how computers respond to our commands\n",
    "- Why be a programmer?\n",
    "- How syntax is important in programming\n",
    "- Ease of human work using programming\n",
    "\n",
    "Hardware Architecture\n",
    "- He talks about the structure of Computer ( central processing unit, memory unit and so on )\n",
    "- Change in the hardware from to 90s to present\n",
    "- Computers are not really smart but they are fast\n",
    "- Machine Language\n",
    "\n",
    "Python as Language\n",
    "- Installing in Windows and Mac\n",
    "- Print Hello world using command prompt \n",
    "- Print Hello world using Atom\n",
    "\n",
    "Day 02:\n",
    "\n",
    "- History of Python\n",
    "- Python in cmd check below syntax"
   ]
  },
  {
   "cell_type": "code",
   "execution_count": 1,
   "metadata": {},
   "outputs": [
    {
     "name": "stdout",
     "output_type": "stream",
     "text": [
      "1\n",
      "2\n"
     ]
    },
    {
     "data": {
      "text/plain": [
       "2"
      ]
     },
     "execution_count": 1,
     "metadata": {},
     "output_type": "execute_result"
    }
   ],
   "source": [
    ">>> x=1\n",
    ">>> print(x)\n",
    "1\n",
    ">>> x= x+1\n",
    ">>> print(x)\n",
    "2\n",
    ">>>   "
   ]
  },
  {
   "cell_type": "markdown",
   "metadata": {},
   "source": [
    "## Elements of Python\n",
    "\n",
    "- Vocabulary/ Words - variables and Reserved words (Chapter 2)\n",
    "- Sentence Structure - valid syntax patterns (Chapter 3-5)\n",
    "- Story Structure - constructing a program for a purpose \n",
    "\n",
    "Reserved Words:\n",
    "- you cannot use reserved words as variable names/ identifiers\n",
    "Flase, class, return , is , if , for , lambda ...\n",
    "\n",
    "Sentence or Lines\n",
    " x = 2 --> Assignment statement\n",
    " x = x+2 --> Assignment with expression\n",
    " print(x) --> Print statement\n",
    " \n",
    " Python executes sequential steps, conditional steps (if statement)"
   ]
  },
  {
   "cell_type": "code",
   "execution_count": 2,
   "metadata": {},
   "outputs": [
    {
     "name": "stdout",
     "output_type": "stream",
     "text": [
      "Bigger\n",
      "Finish\n"
     ]
    }
   ],
   "source": [
    "x = 15\n",
    "if x < 10:\n",
    "    print('Smaller')\n",
    "elif x < 20:\n",
    "    print('Bigger')\n",
    "    \n",
    "print('Finish')"
   ]
  },
  {
   "cell_type": "code",
   "execution_count": 3,
   "metadata": {},
   "outputs": [
    {
     "name": "stdout",
     "output_type": "stream",
     "text": [
      "5\n",
      "4\n",
      "3\n",
      "2\n",
      "1\n",
      "End of Code\n"
     ]
    }
   ],
   "source": [
    "#Repeated steps using while loop\n",
    "#Runs in a cyclic loop the value of x changes for each loop\n",
    "\n",
    "x = 5 \n",
    "while x>0:\n",
    "    print(x)\n",
    "    x = x-1\n",
    "print('End of Code')"
   ]
  },
  {
   "cell_type": "code",
   "execution_count": null,
   "metadata": {},
   "outputs": [],
   "source": []
  },
  {
   "cell_type": "code",
   "execution_count": null,
   "metadata": {},
   "outputs": [],
   "source": []
  },
  {
   "cell_type": "code",
   "execution_count": null,
   "metadata": {},
   "outputs": [],
   "source": []
  },
  {
   "cell_type": "code",
   "execution_count": null,
   "metadata": {},
   "outputs": [],
   "source": []
  },
  {
   "cell_type": "code",
   "execution_count": null,
   "metadata": {},
   "outputs": [],
   "source": []
  }
 ],
 "metadata": {
  "kernelspec": {
   "display_name": "Python 3",
   "language": "python",
   "name": "python3"
  },
  "language_info": {
   "codemirror_mode": {
    "name": "ipython",
    "version": 3
   },
   "file_extension": ".py",
   "mimetype": "text/x-python",
   "name": "python",
   "nbconvert_exporter": "python",
   "pygments_lexer": "ipython3",
   "version": "3.7.4"
  }
 },
 "nbformat": 4,
 "nbformat_minor": 2
}
