{
 "cells": [
  {
   "cell_type": "markdown",
   "metadata": {},
   "source": [
    "# Question 1:\n",
    "Little Shino loves maths. Today her teacher gave her two integers. Shino is now wondering how many integers can divide both the numbers. She is busy with her assignments. Help her to solve the problem.\n",
    "\n",
    "Input:\n",
    "First line of the input file contains two integers, a and b.\n",
    "\n",
    "Output:\n",
    "Print the number of common factors of a and b.\n",
    "\n",
    "Constraints:\n",
    "1 <= a,b<= 10^12\n",
    "\n",
    "sample input 10,15\n",
    "\n",
    "sample output 2\n",
    "\n",
    "Explanation\n",
    "The common factors of  and  are 1 and 5.\n"
   ]
  },
  {
   "cell_type": "code",
   "execution_count": 44,
   "metadata": {},
   "outputs": [
    {
     "name": "stdout",
     "output_type": "stream",
     "text": [
      "2\n"
     ]
    }
   ],
   "source": [
    "a = 10\n",
    "b = 15\n",
    "n = 0\n",
    "for i in range(1,min(a,b)+1):\n",
    "    if a%i==b%i==0:\n",
    "        n+=1\n",
    "print(n)"
   ]
  },
  {
   "cell_type": "markdown",
   "metadata": {},
   "source": [
    "# Question 2:\n",
    "\n",
    "Fredo is assigned a new task today. He is given an array A containing N integers. His task is to update all elements of array to some minimum value x , that is,A[i] = x  ;1<= N <= i  such that sum of this new array is strictly greater than the sum of the initial array. Note that x should be as minimum as possible such that sum of the new array is greater than the sum of the initial array.\n",
    "\n",
    "Input Format:\n",
    "First line of input consists of an integer N denoting the number of elements in the array A.\n",
    "Second line consists of N space separated integers denoting the array elements.\n",
    "\n",
    "Output Format:\n",
    "The only line of output consists of the value of x.\n",
    "\n",
    "Input Constraints:\n",
    "1<= N <= 10^5\n",
    "1<=A[i]<= 1000\n",
    "\n",
    "Explanation\n",
    "\n",
    "Initial sum of array 15\n",
    "When we update all elements to 4, sum of array 20  which is greater than 15.\n",
    "Note that if we had updated the array elements to 3,  which is not greater than . So, 4 is the minimum value to which array elements need to be updated."
   ]
  },
  {
   "cell_type": "code",
   "execution_count": null,
   "metadata": {},
   "outputs": [],
   "source": [
    "A = [1,2,3,4,5]\n",
    "N= len(A)\n",
    "initial_sum = sum(A)\n",
    "A.sort\n",
    "for i in A:\n",
    "    new_A = [i]*N\n",
    "    updated_sum = sum(new_A)\n",
    "    if initial_sum < updated_sum:\n",
    "        value = i\n",
    "print(value)  "
   ]
  }
 ],
 "metadata": {
  "kernelspec": {
   "display_name": "Python 3",
   "language": "python",
   "name": "python3"
  },
  "language_info": {
   "codemirror_mode": {
    "name": "ipython",
    "version": 3
   },
   "file_extension": ".py",
   "mimetype": "text/x-python",
   "name": "python",
   "nbconvert_exporter": "python",
   "pygments_lexer": "ipython3",
   "version": "3.7.4"
  }
 },
 "nbformat": 4,
 "nbformat_minor": 2
}
