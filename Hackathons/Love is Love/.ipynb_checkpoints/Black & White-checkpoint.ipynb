{
 "cells": [
  {
   "cell_type": "markdown",
   "metadata": {},
   "source": [
    "## Google Vision API\n",
    "\n",
    "Google Cloud’s Vision API offers powerful pre-trained machine learning models through REST and RPC APIs. Assign labels to images and quickly classify them into millions of predefined categories. Detect objects and faces, read printed and handwritten text, and build valuable metadata into your image catalog.\n",
    "\n",
    "### Text\n",
    "\n",
    "__Text Detection__ performs Optical Character Recognition. It detects and extracts text within an image with support for a broad range of languages. It also features automatic language identification."
   ]
  },
  {
   "cell_type": "code",
   "execution_count": 1,
   "metadata": {},
   "outputs": [],
   "source": [
    "#Import the required libraries\n",
    "import os\n",
    "import cv2\n",
    "import numpy as np\n",
    "import pandas as pd\n",
    "\n",
    "#Natural Language Processing libraries\n",
    "from spacy.matcher import PhraseMatcher\n",
    "import nltk\n",
    "import re as re\n",
    "from vaderSentiment.vaderSentiment import SentimentIntensityAnalyzer"
   ]
  },
  {
   "cell_type": "code",
   "execution_count": 2,
   "metadata": {},
   "outputs": [],
   "source": [
    "#Using the client library\n",
    "\n",
    "import io\n",
    "import os\n",
    "\n",
    "# Imports the Google Cloud client library\n",
    "from google.cloud import vision\n",
    "from google.cloud.vision import types\n",
    "os.environ['GOOGLE_APPLICATION_CREDENTIALS']= \"loveislove-283821-212563ace637.json\"\n",
    "def detect_text(path):\n",
    "    \"\"\"Detects text in the file.\"\"\"\n",
    "    "
   ]
  },
  {
   "cell_type": "code",
   "execution_count": 3,
   "metadata": {},
   "outputs": [],
   "source": [
    "#Install Vision API Client Library for Python\n",
    "#!pip install google-cloud-vision"
   ]
  },
  {
   "cell_type": "code",
   "execution_count": 4,
   "metadata": {},
   "outputs": [],
   "source": [
    "from google.cloud import vision"
   ]
  },
  {
   "cell_type": "markdown",
   "metadata": {},
   "source": [
    "Before calling client we need to set environment or else we will get __DefaultCredentialsError__:\n",
    "Could not automatically determine credentials. Please set GOOGLE_APPLICATION_CREDENTIALS or explicitly create credentials and re-run the application. For more information, please see https://cloud.google.com/docs/authentication/getting-started\n",
    "Using the above resource enabling the environment"
   ]
  },
  {
   "cell_type": "code",
   "execution_count": 5,
   "metadata": {},
   "outputs": [],
   "source": [
    "#For example:\n",
    "\n",
    "#$env:GOOGLE_APPLICATION_CREDENTIALS=\"C:\\Users\\username\\Downloads\\my-key.json\"\n",
    "\n",
    "#With command prompt:\n",
    "\n",
    "#set GOOGLE_APPLICATION_CREDENTIALS=[PATH]"
   ]
  },
  {
   "cell_type": "code",
   "execution_count": 6,
   "metadata": {},
   "outputs": [],
   "source": [
    "import os\n",
    "os.environ[\"GOOGLE_APPLICATION_CREDENTIALS\"]=\"loveislove-283821-212563ace637.json\""
   ]
  },
  {
   "cell_type": "code",
   "execution_count": 22,
   "metadata": {},
   "outputs": [],
   "source": [
    "#Creating a function to detect text\n",
    "client = vision.ImageAnnotatorClient()\n",
    "import io\n",
    "def detect_text(byte_im):\n",
    "    image = vision.types.Image(content=byte_im)\n",
    "    response = client.text_detection(image=image)\n",
    "    annotations = response.text_annotations\n",
    "    if len(annotations) > 0:\n",
    "        text = annotations[0].description\n",
    "    else:\n",
    "        text = ''\n",
    "    return (text)\n"
   ]
  },
  {
   "cell_type": "code",
   "execution_count": 23,
   "metadata": {},
   "outputs": [],
   "source": [
    "def img_to_bytes(f1):\n",
    "    im = cv2.imread(f1)\n",
    "    im_resize = cv2.resize(im, (500, 500))\n",
    "    is_success, im_buf_arr = cv2.imencode(\".jpg\", im_resize)\n",
    "    byte_im = im_buf_arr.tobytes()\n",
    "    return byte_im"
   ]
  },
  {
   "cell_type": "code",
   "execution_count": null,
   "metadata": {},
   "outputs": [],
   "source": [
    "#Implementing Google API on entire images\n",
    "#Performing OCR on base image\n",
    "import cv2\n",
    "import os\n",
    "import glob\n",
    "img_dir = 'C:/Users/kanum/Desktop/Data_Science_Everyday/Hackathons/Love is Love/Dataset' # Enter Directory of all images \n",
    "data_path = os.path.join(img_dir,'*g')\n",
    "files = glob.glob(data_path)\n",
    "data = []\n",
    "filename = []\n",
    "for f1 in files:\n",
    "    file = os.path.basename(f1)\n",
    "    filename.append(file)\n",
    "    img = cv2.imread(f1)\n",
    "    byte_im = img_to_bytes(f1)\n",
    "    text = detect_text(byte_im)\n",
    "    data.append(text)"
   ]
  },
  {
   "cell_type": "code",
   "execution_count": null,
   "metadata": {},
   "outputs": [],
   "source": [
    "#img_to_bytes('C:/Users/kanum/Desktop/Data_Science_Everyday/Hackathons/Love is Love/Dataset\\\\Test100.jpg')"
   ]
  },
  {
   "cell_type": "code",
   "execution_count": null,
   "metadata": {},
   "outputs": [],
   "source": [
    "import pandas as pd\n",
    "df = pd.DataFrame()\n",
    "df['Filename'] = filename\n",
    "df['text'] = data\n",
    "#print(df['text'].value_counts())\n",
    "df.head(5)\n"
   ]
  },
  {
   "cell_type": "code",
   "execution_count": null,
   "metadata": {},
   "outputs": [],
   "source": [
    "#Sentiment Analysis\n",
    "from vaderSentiment.vaderSentiment import SentimentIntensityAnalyzer"
   ]
  },
  {
   "cell_type": "code",
   "execution_count": null,
   "metadata": {},
   "outputs": [],
   "source": [
    "analyzer = SentimentIntensityAnalyzer()"
   ]
  },
  {
   "cell_type": "code",
   "execution_count": null,
   "metadata": {},
   "outputs": [],
   "source": [
    "#Applying on a simple text\n",
    "a = df['text'][1]\n",
    "analyzer.polarity_scores(a)"
   ]
  },
  {
   "cell_type": "code",
   "execution_count": null,
   "metadata": {},
   "outputs": [],
   "source": [
    "#Adding scores dictionary to the input data\n",
    "df['sentiment'] = df['text'].apply(lambda text: analyzer.polarity_scores(text))\n",
    "df.head()"
   ]
  },
  {
   "cell_type": "code",
   "execution_count": null,
   "metadata": {},
   "outputs": [],
   "source": [
    "import re as re\n",
    "#Cleaned text\n",
    "def clean_text(text):\n",
    "    return ' '.join(re.sub('(@[A-Za-z0-9]+)|([^0-9A-Za-z \\t])|(\\w+:\\/\\/\\S+)', ' ', text).split())\n",
    "\n",
    "df[\"text\"] = df['text'].apply(lambda x: clean_text(x))\n",
    "\n",
    "def sentiment_scores(text): \n",
    "  \n",
    "    # Create a SentimentIntensityAnalyzer object. \n",
    "    analyzer_obj = SentimentIntensityAnalyzer() \n",
    "  \n",
    "    # polarity_scores method of SentimentIntensityAnalyzer \n",
    "    # oject gives a sentiment dictionary. \n",
    "    # which contains pos, neg, neu, and compound scores. \n",
    "    sentiment_dict = analyzer_obj.polarity_scores(text) \n",
    "      \n",
    "    if sentiment_dict['compound'] > 0:\n",
    "        return 'Positive'\n",
    "    elif sentiment_dict['compound'] < 0:\n",
    "        return 'Negative'\n",
    "    else:\n",
    "        return 'Random'\n",
    "\n",
    "df[\"Category\"] = df[\"text\"].apply(lambda x: sentiment_scores(x))\n",
    "\n",
    "print(df.head(5))\n",
    "  "
   ]
  },
  {
   "cell_type": "code",
   "execution_count": null,
   "metadata": {},
   "outputs": [],
   "source": [
    "df.to_csv(\"df_img_bytes.csv\",index = False)"
   ]
  },
  {
   "cell_type": "code",
   "execution_count": null,
   "metadata": {},
   "outputs": [],
   "source": [
    "submission = df.drop(['text','sentiment'],axis = 1)\n",
    "submission"
   ]
  },
  {
   "cell_type": "code",
   "execution_count": null,
   "metadata": {},
   "outputs": [],
   "source": [
    "submission.to_csv(\"submission_img_bytes.csv\",index = False)"
   ]
  }
 ],
 "metadata": {
  "kernelspec": {
   "display_name": "Python 3",
   "language": "python",
   "name": "python3"
  },
  "language_info": {
   "codemirror_mode": {
    "name": "ipython",
    "version": 3
   },
   "file_extension": ".py",
   "mimetype": "text/x-python",
   "name": "python",
   "nbconvert_exporter": "python",
   "pygments_lexer": "ipython3",
   "version": "3.7.4"
  }
 },
 "nbformat": 4,
 "nbformat_minor": 2
}
