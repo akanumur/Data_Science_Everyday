{
 "cells": [
  {
   "cell_type": "code",
   "execution_count": 1,
   "metadata": {},
   "outputs": [],
   "source": [
    "#Import the required libraries\n",
    "import os\n",
    "import cv2\n",
    "import numpy as np\n",
    "import pandas as pd\n",
    "import pytesseract\n",
    "\n",
    "#Natural Language Processing libraries\n",
    "from spacy.matcher import PhraseMatcher\n",
    "import nltk\n",
    "import re as re\n",
    "from vaderSentiment.vaderSentiment import SentimentIntensityAnalyzer"
   ]
  },
  {
   "cell_type": "code",
   "execution_count": 2,
   "metadata": {},
   "outputs": [],
   "source": [
    "# Importing tesseract from the location\n",
    "pytesseract.pytesseract.tesseract_cmd = r\"C:\\Program Files\\Tesseract-OCR\\tesseract.exe\" "
   ]
  },
  {
   "cell_type": "code",
   "execution_count": 3,
   "metadata": {},
   "outputs": [
    {
     "name": "stdout",
     "output_type": "stream",
     "text": [
      "ened co or wan the cutoome of the perception and stitutes of the suihence toward The\n",
      "mann teheved at pemneayal of he LOST communty w@ Indian ever was ment rpane,\n",
      "eRe Oe Lame © Setres minees ws pmseee an pon me Poem ctaegh che nequawe peteny\n",
      "4 te LOT themes @ tah mms we panes at te empememen fut have heen mute\n",
      "sen nbewtalpe\n",
      "\n",
      " \n",
      "\n",
      "etoming © hee ateace oh gates cf the parmcopunm tes eax threw oh 1s che we of the\n",
      "Bem,\n",
      "\n",
      "Accurate portray aie greene\n",
      "“Generals I wed may they the portray & gud\n",
      "\n",
      "“See me LCT emrtes are gen ord some are fst <tmemos (mgy) mae for me pas, for\n",
      "merriment the ces mae with er aad bt wt ys be goad *\n",
      "\n",
      "“DV a bald meme and wh 0's W's great becouse the mumbber of LGBT memes which really have\n",
      "LGBT theme and claw hae scm salbstame tn thom ane very tes, and oem thems they are\n",
      "ews. lh they are goed\n",
      "\n",
      " \n",
      "\n",
      "‘The coment theme seers te the accunte porwayal of the LOBT community tn movies Some\n",
      "Partcipuans ated thas efforts of muvies to mube Ge actual depiction of the LOBT Ide was\n",
      "FoywE At became try wewe emp wp w Dw ccmmees and posway al\n",
      "\n",
      "Mam curate partes © Ladian me\n",
      "\n",
      "Dm hing ee nam mens they are a a 8 verte Men ae thy ene oe rw\n",
      "whet LGBTQ mee *\n",
      "\n",
      "“tn thes Karma film she W be Big tat oman, tat sary she is that gy Bs tie, me\n",
      "fa the ths that? Whe you've bowing He. that other irk al of wie she goes aay ad\n",
      "ieny mse ike within sects yom the at pay Hw is that eve pete?\n"
     ]
    }
   ],
   "source": [
    "#Testing on one image\n",
    "img = cv2.imread('./Dataset/Test108.jpg')\n",
    "gray = cv2.cvtColor(img, cv2.COLOR_RGB2GRAY) #converting to gray image\n",
    "gray_rm = cv2.medianBlur(gray,3) #removing noise #This should be odd number always\n",
    "text = pytesseract.image_to_string(gray_rm, lang='eng')\n",
    "\n",
    "print(text)"
   ]
  },
  {
   "cell_type": "code",
   "execution_count": 4,
   "metadata": {},
   "outputs": [],
   "source": [
    "#Performing OCR on base image\n",
    "import cv2\n",
    "import os\n",
    "import glob\n",
    "img_dir = 'C:/Users/kanum/Desktop/Data_Science_Everyday/Hackathons/Love is Love/Dataset' # Enter Directory of all images \n",
    "data_path = os.path.join(img_dir,'*g')\n",
    "files = glob.glob(data_path)\n",
    "data = []\n",
    "filename = []\n",
    "for f1 in files:\n",
    "    file = os.path.basename(f1)\n",
    "    filename.append(file)\n",
    "    img = cv2.imread(f1)\n",
    "    gray = cv2.cvtColor(img, cv2.COLOR_RGB2GRAY) #converting to gray image\n",
    "    gray_rm = cv2.medianBlur(gray,3) #removing noise #This should be odd number always\n",
    "    text = pytesseract.image_to_string(gray_rm, lang='eng')\n",
    "    data.append(text)"
   ]
  },
  {
   "cell_type": "code",
   "execution_count": 5,
   "metadata": {},
   "outputs": [
    {
     "name": "stdout",
     "output_type": "stream",
     "text": [
      "                                                                                                                                                                                                                                                                    119\n",
      "Life's a game. Play to win.                                                                                                                                                                                                                                           2\n",
      "Sree eRe Regi\\n\\nand it is not a sin. Stop using\\nGod to justify your prejudice.\\nReligion is about loving one\\nFU mM CUM Cee mee isd\\nsie) ley Cem Cod Ce)\\n\\ntT Being Gay & Proud Quotes\\n< www.geckoandfly.com\\n\\ni | 6OC<-” 62 i mr                               2\n",
      "Being gay is like being\\n\\nleft handed. Some people\\nare, most people aren't\\nFleteeee ares] VE Ces\\nwhy. It’s not right or wrong,\\nit’s just the way things are!\\n\\nct Being Gay & Proud Quotes\\nwww.geckoandfly.com\\n\\nae iS lUC ae h -£ oe.;l wl. lO CC ee Se      2\n",
      "eae ee eis\\nelse’s marriage is against\\nyour religion is like being\\nFANUC ecw eg\\neae ea\\nyou're on a diet.\\n\\nC2 Being Gay & Proud Quotes\\n= www. geckoandfly.com\\n\\n[ain 6 hf ave Wi i}                                                                            1\n",
      "                                                                                                                                                                                                                                                                   ... \n",
      "5 det mappert gay marriage\\n\\narroee beg # Cornervative\\n\\nVlgwert poy marrage\\n‘Cornea oor                                                                                                                                                                           1\n",
      "lesbianvenom:\\n\\nstraighteners aren't worth ur money i've been using one for three\\nweeks and i’m still definitely a lesbian\\n\\nin all my 20 years of living this has been by far my best joke ever                                                                   1\n",
      "A\\nCee ed\\nee)                                                                                                                                                                                                                                                        1\n",
      "Wee ee Le a OEE) tke: ee\\nan alien from outer space.. its funny”                                                                                                                                                                                                      1\n",
      "oer                                                                                                                                                                                                                                                                   1\n",
      "Name: text, Length: 118, dtype: int64\n"
     ]
    },
    {
     "data": {
      "text/html": [
       "<div>\n",
       "<style scoped>\n",
       "    .dataframe tbody tr th:only-of-type {\n",
       "        vertical-align: middle;\n",
       "    }\n",
       "\n",
       "    .dataframe tbody tr th {\n",
       "        vertical-align: top;\n",
       "    }\n",
       "\n",
       "    .dataframe thead th {\n",
       "        text-align: right;\n",
       "    }\n",
       "</style>\n",
       "<table border=\"1\" class=\"dataframe\">\n",
       "  <thead>\n",
       "    <tr style=\"text-align: right;\">\n",
       "      <th></th>\n",
       "      <th>Filename</th>\n",
       "      <th>text</th>\n",
       "    </tr>\n",
       "  </thead>\n",
       "  <tbody>\n",
       "    <tr>\n",
       "      <td>0</td>\n",
       "      <td>Test100.jpg</td>\n",
       "      <td></td>\n",
       "    </tr>\n",
       "    <tr>\n",
       "      <td>1</td>\n",
       "      <td>Test1001.jpg</td>\n",
       "      <td>abe\\n\\ni\\n\\ni\\n\\n3\\n\\niy\\n=a\\ni</td>\n",
       "    </tr>\n",
       "    <tr>\n",
       "      <td>2</td>\n",
       "      <td>Test1012.jpg</td>\n",
       "      <td>ete)\\neek\\nIN THE CL</td>\n",
       "    </tr>\n",
       "    <tr>\n",
       "      <td>3</td>\n",
       "      <td>Test1022.jpg</td>\n",
       "      <td>LOVE\\n©</td>\n",
       "    </tr>\n",
       "    <tr>\n",
       "      <td>4</td>\n",
       "      <td>Test103.jpg</td>\n",
       "      <td>Coad 1\\n[é\\noO</td>\n",
       "    </tr>\n",
       "  </tbody>\n",
       "</table>\n",
       "</div>"
      ],
      "text/plain": [
       "       Filename                             text\n",
       "0   Test100.jpg                                 \n",
       "1  Test1001.jpg  abe\\n\\ni\\n\\ni\\n\\n3\\n\\niy\\n=a\\ni\n",
       "2  Test1012.jpg             ete)\\neek\\nIN THE CL\n",
       "3  Test1022.jpg                          LOVE\\n©\n",
       "4   Test103.jpg                   Coad 1\\n[é\\noO"
      ]
     },
     "execution_count": 5,
     "metadata": {},
     "output_type": "execute_result"
    }
   ],
   "source": [
    "inp = pd.DataFrame()\n",
    "inp['Filename'] = filename\n",
    "inp['text'] = data\n",
    "print(inp['text'].value_counts())\n",
    "inp.head(5)\n"
   ]
  },
  {
   "cell_type": "markdown",
   "metadata": {},
   "source": [
    "I have extracted text from the images, we have performed OCR on images(I didn't preprocess the images yet). Now I can start performing Natural Language Processing on the extracted text.For extracting sentiment from the text I am implementing VADAR (Valence Aware Dictionary and sEntiment Reasoner)\n",
    "\n",
    "VADER ( Valence Aware Dictionary for Sentiment Reasoning) is a model used for text sentiment analysis that is sensitive to both polarity (positive/negative) and intensity (strength) of emotion. It is available in the NLTK package and can be applied directly to unlabeled text data.\n",
    "VADER sentimental analysis relies on a dictionary that maps lexical features to emotion intensities known as sentiment scores. The sentiment score of a text can be obtained by summing up the intensity of each word in the text.\n",
    "For example- Words like ‘love’, ‘enjoy’, ‘happy’, ‘like’ all convey a positive sentiment. Also VADER is intelligent enough to understand the basic context of these words, such as “did not love” as a negative statement. It also understands the emphasis of capitalization and punctuation, such as “ENJOY”\n",
    "\n",
    "__VADER provides a positive, negative, and neutral sentiment scalar, as well as a compound sentiment vector that combines the three__"
   ]
  },
  {
   "cell_type": "code",
   "execution_count": 6,
   "metadata": {},
   "outputs": [],
   "source": [
    "from vaderSentiment.vaderSentiment import SentimentIntensityAnalyzer"
   ]
  },
  {
   "cell_type": "markdown",
   "metadata": {},
   "source": [
    "VADER’s SentimentIntensityAnalyzer() takes in a string and returns a dictionary of scores in each of four categories:\n",
    "- negative\n",
    "- neutral\n",
    "- positive\n",
    "- compound (computed by normalizing the scores above)"
   ]
  },
  {
   "cell_type": "code",
   "execution_count": 7,
   "metadata": {},
   "outputs": [],
   "source": [
    "analyzer = SentimentIntensityAnalyzer()"
   ]
  },
  {
   "cell_type": "code",
   "execution_count": 8,
   "metadata": {},
   "outputs": [
    {
     "data": {
      "text/plain": [
       "{'neg': 0.0, 'neu': 1.0, 'pos': 0.0, 'compound': 0.0}"
      ]
     },
     "execution_count": 8,
     "metadata": {},
     "output_type": "execute_result"
    }
   ],
   "source": [
    "#Applying on a simple text\n",
    "a = inp['text'][1]\n",
    "analyzer.polarity_scores(a)"
   ]
  },
  {
   "cell_type": "code",
   "execution_count": 9,
   "metadata": {},
   "outputs": [
    {
     "data": {
      "text/html": [
       "<div>\n",
       "<style scoped>\n",
       "    .dataframe tbody tr th:only-of-type {\n",
       "        vertical-align: middle;\n",
       "    }\n",
       "\n",
       "    .dataframe tbody tr th {\n",
       "        vertical-align: top;\n",
       "    }\n",
       "\n",
       "    .dataframe thead th {\n",
       "        text-align: right;\n",
       "    }\n",
       "</style>\n",
       "<table border=\"1\" class=\"dataframe\">\n",
       "  <thead>\n",
       "    <tr style=\"text-align: right;\">\n",
       "      <th></th>\n",
       "      <th>Filename</th>\n",
       "      <th>text</th>\n",
       "      <th>scores</th>\n",
       "    </tr>\n",
       "  </thead>\n",
       "  <tbody>\n",
       "    <tr>\n",
       "      <td>0</td>\n",
       "      <td>Test100.jpg</td>\n",
       "      <td></td>\n",
       "      <td>{'neg': 0.0, 'neu': 0.0, 'pos': 0.0, 'compound...</td>\n",
       "    </tr>\n",
       "    <tr>\n",
       "      <td>1</td>\n",
       "      <td>Test1001.jpg</td>\n",
       "      <td>abe\\n\\ni\\n\\ni\\n\\n3\\n\\niy\\n=a\\ni</td>\n",
       "      <td>{'neg': 0.0, 'neu': 1.0, 'pos': 0.0, 'compound...</td>\n",
       "    </tr>\n",
       "    <tr>\n",
       "      <td>2</td>\n",
       "      <td>Test1012.jpg</td>\n",
       "      <td>ete)\\neek\\nIN THE CL</td>\n",
       "      <td>{'neg': 0.0, 'neu': 1.0, 'pos': 0.0, 'compound...</td>\n",
       "    </tr>\n",
       "    <tr>\n",
       "      <td>3</td>\n",
       "      <td>Test1022.jpg</td>\n",
       "      <td>LOVE\\n©</td>\n",
       "      <td>{'neg': 0.0, 'neu': 0.169, 'pos': 0.831, 'comp...</td>\n",
       "    </tr>\n",
       "    <tr>\n",
       "      <td>4</td>\n",
       "      <td>Test103.jpg</td>\n",
       "      <td>Coad 1\\n[é\\noO</td>\n",
       "      <td>{'neg': 0.0, 'neu': 1.0, 'pos': 0.0, 'compound...</td>\n",
       "    </tr>\n",
       "  </tbody>\n",
       "</table>\n",
       "</div>"
      ],
      "text/plain": [
       "       Filename                             text  \\\n",
       "0   Test100.jpg                                    \n",
       "1  Test1001.jpg  abe\\n\\ni\\n\\ni\\n\\n3\\n\\niy\\n=a\\ni   \n",
       "2  Test1012.jpg             ete)\\neek\\nIN THE CL   \n",
       "3  Test1022.jpg                          LOVE\\n©   \n",
       "4   Test103.jpg                   Coad 1\\n[é\\noO   \n",
       "\n",
       "                                              scores  \n",
       "0  {'neg': 0.0, 'neu': 0.0, 'pos': 0.0, 'compound...  \n",
       "1  {'neg': 0.0, 'neu': 1.0, 'pos': 0.0, 'compound...  \n",
       "2  {'neg': 0.0, 'neu': 1.0, 'pos': 0.0, 'compound...  \n",
       "3  {'neg': 0.0, 'neu': 0.169, 'pos': 0.831, 'comp...  \n",
       "4  {'neg': 0.0, 'neu': 1.0, 'pos': 0.0, 'compound...  "
      ]
     },
     "execution_count": 9,
     "metadata": {},
     "output_type": "execute_result"
    }
   ],
   "source": [
    "#Adding scores dictionary to the input data\n",
    "inp['scores'] = inp['text'].apply(lambda text: analyzer.polarity_scores(text))\n",
    "inp.head()"
   ]
  },
  {
   "cell_type": "code",
   "execution_count": 10,
   "metadata": {},
   "outputs": [
    {
     "name": "stdout",
     "output_type": "stream",
     "text": [
      "       Filename                             text  \\\n",
      "0   Test100.jpg                                    \n",
      "1  Test1001.jpg  abe\\n\\ni\\n\\ni\\n\\n3\\n\\niy\\n=a\\ni   \n",
      "2  Test1012.jpg             ete)\\neek\\nIN THE CL   \n",
      "3  Test1022.jpg                          LOVE\\n©   \n",
      "4   Test103.jpg                   Coad 1\\n[é\\noO   \n",
      "\n",
      "                                              scores  Category  \n",
      "0  {'neg': 0.0, 'neu': 0.0, 'pos': 0.0, 'compound...    Random  \n",
      "1  {'neg': 0.0, 'neu': 1.0, 'pos': 0.0, 'compound...    Random  \n",
      "2  {'neg': 0.0, 'neu': 1.0, 'pos': 0.0, 'compound...    Random  \n",
      "3  {'neg': 0.0, 'neu': 0.169, 'pos': 0.831, 'comp...  Positive  \n",
      "4  {'neg': 0.0, 'neu': 1.0, 'pos': 0.0, 'compound...    Random  \n"
     ]
    }
   ],
   "source": [
    "def sentiment_scores(text): \n",
    "  \n",
    "    # Create a SentimentIntensityAnalyzer object. \n",
    "    analyzer_obj = SentimentIntensityAnalyzer() \n",
    "  \n",
    "    # polarity_scores method of SentimentIntensityAnalyzer \n",
    "    # oject gives a sentiment dictionary. \n",
    "    # which contains pos, neg, neu, and compound scores. \n",
    "    sentiment_dict = analyzer_obj.polarity_scores(text) \n",
    "      \n",
    "    if sentiment_dict['compound'] > 0:\n",
    "        return 'Positive'\n",
    "    elif sentiment_dict['compound'] < 0:\n",
    "        return 'Negative'\n",
    "    else:\n",
    "        return 'Random'\n",
    "\n",
    "inp[\"Category\"] = inp[\"text\"].apply(lambda x: sentiment_scores(x))\n",
    "\n",
    "print(inp.head(5))\n",
    "  "
   ]
  },
  {
   "cell_type": "code",
   "execution_count": 11,
   "metadata": {},
   "outputs": [],
   "source": [
    "inp.to_csv(\"inp.csv\",index = False)"
   ]
  },
  {
   "cell_type": "code",
   "execution_count": 12,
   "metadata": {},
   "outputs": [
    {
     "data": {
      "text/html": [
       "<div>\n",
       "<style scoped>\n",
       "    .dataframe tbody tr th:only-of-type {\n",
       "        vertical-align: middle;\n",
       "    }\n",
       "\n",
       "    .dataframe tbody tr th {\n",
       "        vertical-align: top;\n",
       "    }\n",
       "\n",
       "    .dataframe thead th {\n",
       "        text-align: right;\n",
       "    }\n",
       "</style>\n",
       "<table border=\"1\" class=\"dataframe\">\n",
       "  <thead>\n",
       "    <tr style=\"text-align: right;\">\n",
       "      <th></th>\n",
       "      <th>Filename</th>\n",
       "      <th>Category</th>\n",
       "    </tr>\n",
       "  </thead>\n",
       "  <tbody>\n",
       "    <tr>\n",
       "      <td>0</td>\n",
       "      <td>Test100.jpg</td>\n",
       "      <td>Random</td>\n",
       "    </tr>\n",
       "    <tr>\n",
       "      <td>1</td>\n",
       "      <td>Test1001.jpg</td>\n",
       "      <td>Random</td>\n",
       "    </tr>\n",
       "    <tr>\n",
       "      <td>2</td>\n",
       "      <td>Test1012.jpg</td>\n",
       "      <td>Random</td>\n",
       "    </tr>\n",
       "    <tr>\n",
       "      <td>3</td>\n",
       "      <td>Test1022.jpg</td>\n",
       "      <td>Positive</td>\n",
       "    </tr>\n",
       "    <tr>\n",
       "      <td>4</td>\n",
       "      <td>Test103.jpg</td>\n",
       "      <td>Random</td>\n",
       "    </tr>\n",
       "    <tr>\n",
       "      <td>...</td>\n",
       "      <td>...</td>\n",
       "      <td>...</td>\n",
       "    </tr>\n",
       "    <tr>\n",
       "      <td>234</td>\n",
       "      <td>Test945.jpg</td>\n",
       "      <td>Negative</td>\n",
       "    </tr>\n",
       "    <tr>\n",
       "      <td>235</td>\n",
       "      <td>Test946.jpg</td>\n",
       "      <td>Negative</td>\n",
       "    </tr>\n",
       "    <tr>\n",
       "      <td>236</td>\n",
       "      <td>Test957.jpg</td>\n",
       "      <td>Random</td>\n",
       "    </tr>\n",
       "    <tr>\n",
       "      <td>237</td>\n",
       "      <td>Test979.jpg</td>\n",
       "      <td>Random</td>\n",
       "    </tr>\n",
       "    <tr>\n",
       "      <td>238</td>\n",
       "      <td>Test993.jpg</td>\n",
       "      <td>Positive</td>\n",
       "    </tr>\n",
       "  </tbody>\n",
       "</table>\n",
       "<p>239 rows × 2 columns</p>\n",
       "</div>"
      ],
      "text/plain": [
       "         Filename  Category\n",
       "0     Test100.jpg    Random\n",
       "1    Test1001.jpg    Random\n",
       "2    Test1012.jpg    Random\n",
       "3    Test1022.jpg  Positive\n",
       "4     Test103.jpg    Random\n",
       "..            ...       ...\n",
       "234   Test945.jpg  Negative\n",
       "235   Test946.jpg  Negative\n",
       "236   Test957.jpg    Random\n",
       "237   Test979.jpg    Random\n",
       "238   Test993.jpg  Positive\n",
       "\n",
       "[239 rows x 2 columns]"
      ]
     },
     "execution_count": 12,
     "metadata": {},
     "output_type": "execute_result"
    }
   ],
   "source": [
    "submission = inp.drop(['text','scores'],axis = 1)\n",
    "submission"
   ]
  },
  {
   "cell_type": "code",
   "execution_count": 13,
   "metadata": {},
   "outputs": [],
   "source": [
    "submission.to_csv(\"submission_g_nr.csv\",index = False)"
   ]
  }
 ],
 "metadata": {
  "kernelspec": {
   "display_name": "Python 3",
   "language": "python",
   "name": "python3"
  },
  "language_info": {
   "codemirror_mode": {
    "name": "ipython",
    "version": 3
   },
   "file_extension": ".py",
   "mimetype": "text/x-python",
   "name": "python",
   "nbconvert_exporter": "python",
   "pygments_lexer": "ipython3",
   "version": "3.7.4"
  }
 },
 "nbformat": 4,
 "nbformat_minor": 2
}
