{
 "cells": [
  {
   "cell_type": "markdown",
   "metadata": {},
   "source": [
    "## Google Vision API\n",
    "\n",
    "Google Cloud’s Vision API offers powerful pre-trained machine learning models through REST and RPC APIs. Assign labels to images and quickly classify them into millions of predefined categories. Detect objects and faces, read printed and handwritten text, and build valuable metadata into your image catalog.\n",
    "\n",
    "### Text\n",
    "\n",
    "__Text Detection__ performs Optical Character Recognition. It detects and extracts text within an image with support for a broad range of languages. It also features automatic language identification."
   ]
  },
  {
   "cell_type": "code",
   "execution_count": 1,
   "metadata": {},
   "outputs": [],
   "source": [
    "#Setting up google API Resource: https://cloud.google.com/vision/docs/libraries#windows\n",
    "#https://cloud.google.com/vision/docs/ocr"
   ]
  },
  {
   "cell_type": "code",
   "execution_count": 2,
   "metadata": {},
   "outputs": [],
   "source": [
    "#Import the required libraries\n",
    "import os\n",
    "import cv2\n",
    "import numpy as np\n",
    "import pandas as pd\n",
    "\n",
    "#Natural Language Processing libraries\n",
    "from spacy.matcher import PhraseMatcher\n",
    "import nltk\n",
    "import re as re\n",
    "from vaderSentiment.vaderSentiment import SentimentIntensityAnalyzer"
   ]
  },
  {
   "cell_type": "code",
   "execution_count": 3,
   "metadata": {},
   "outputs": [],
   "source": [
    "#Provide authentication credentials to your application code by setting the environment variable GOOGLE_APPLICATION_CREDENTIALS. \n",
    "#Replace [PATH] with the file path of the JSON file that contains your service account key.\n"
   ]
  },
  {
   "cell_type": "code",
   "execution_count": 4,
   "metadata": {},
   "outputs": [],
   "source": [
    "#Using the client library\n",
    "\n",
    "import io\n",
    "import os\n",
    "\n",
    "# Imports the Google Cloud client library\n",
    "from google.cloud import vision\n",
    "from google.cloud.vision import types\n",
    "os.environ['GOOGLE_APPLICATION_CREDENTIALS']= \"JSON FILE NAME\"\n",
    "def detect_text(path):\n",
    "    \"\"\"Detects text in the file.\"\"\"\n",
    "    "
   ]
  },
  {
   "cell_type": "code",
   "execution_count": 5,
   "metadata": {},
   "outputs": [
    {
     "name": "stdout",
     "output_type": "stream",
     "text": [
      "Requirement already satisfied: google-cloud-vision in c:\\users\\kanum\\anaconda3\\lib\\site-packages (1.0.0)\n",
      "Requirement already satisfied: google-api-core[grpc]<2.0.0dev,>=1.14.0 in c:\\users\\kanum\\anaconda3\\lib\\site-packages (from google-cloud-vision) (1.21.0)\n",
      "Requirement already satisfied: requests<3.0.0dev,>=2.18.0 in c:\\users\\kanum\\anaconda3\\lib\\site-packages (from google-api-core[grpc]<2.0.0dev,>=1.14.0->google-cloud-vision) (2.22.0)\n",
      "Requirement already satisfied: protobuf>=3.12.0 in c:\\users\\kanum\\anaconda3\\lib\\site-packages (from google-api-core[grpc]<2.0.0dev,>=1.14.0->google-cloud-vision) (3.12.2)\n",
      "Requirement already satisfied: pytz in c:\\users\\kanum\\anaconda3\\lib\\site-packages (from google-api-core[grpc]<2.0.0dev,>=1.14.0->google-cloud-vision) (2019.3)\n",
      "Requirement already satisfied: setuptools>=34.0.0 in c:\\users\\kanum\\anaconda3\\lib\\site-packages (from google-api-core[grpc]<2.0.0dev,>=1.14.0->google-cloud-vision) (41.4.0)\n",
      "Requirement already satisfied: googleapis-common-protos<2.0dev,>=1.6.0 in c:\\users\\kanum\\anaconda3\\lib\\site-packages (from google-api-core[grpc]<2.0.0dev,>=1.14.0->google-cloud-vision) (1.51.0)\n",
      "Requirement already satisfied: google-auth<2.0dev,>=1.18.0 in c:\\users\\kanum\\anaconda3\\lib\\site-packages (from google-api-core[grpc]<2.0.0dev,>=1.14.0->google-cloud-vision) (1.19.2)\n",
      "Requirement already satisfied: six>=1.10.0 in c:\\users\\kanum\\anaconda3\\lib\\site-packages (from google-api-core[grpc]<2.0.0dev,>=1.14.0->google-cloud-vision) (1.12.0)\n",
      "Requirement already satisfied: grpcio<2.0dev,>=1.29.0; extra == \"grpc\" in c:\\users\\kanum\\anaconda3\\lib\\site-packages (from google-api-core[grpc]<2.0.0dev,>=1.14.0->google-cloud-vision) (1.30.0)\n",
      "Requirement already satisfied: certifi>=2017.4.17 in c:\\users\\kanum\\anaconda3\\lib\\site-packages (from requests<3.0.0dev,>=2.18.0->google-api-core[grpc]<2.0.0dev,>=1.14.0->google-cloud-vision) (2019.9.11)\n",
      "Requirement already satisfied: urllib3!=1.25.0,!=1.25.1,<1.26,>=1.21.1 in c:\\users\\kanum\\anaconda3\\lib\\site-packages (from requests<3.0.0dev,>=2.18.0->google-api-core[grpc]<2.0.0dev,>=1.14.0->google-cloud-vision) (1.24.2)\n",
      "Requirement already satisfied: chardet<3.1.0,>=3.0.2 in c:\\users\\kanum\\anaconda3\\lib\\site-packages (from requests<3.0.0dev,>=2.18.0->google-api-core[grpc]<2.0.0dev,>=1.14.0->google-cloud-vision) (3.0.4)\n",
      "Requirement already satisfied: idna<2.9,>=2.5 in c:\\users\\kanum\\anaconda3\\lib\\site-packages (from requests<3.0.0dev,>=2.18.0->google-api-core[grpc]<2.0.0dev,>=1.14.0->google-cloud-vision) (2.8)\n",
      "Requirement already satisfied: cachetools<5.0,>=2.0.0 in c:\\users\\kanum\\anaconda3\\lib\\site-packages (from google-auth<2.0dev,>=1.18.0->google-api-core[grpc]<2.0.0dev,>=1.14.0->google-cloud-vision) (4.0.0)\n",
      "Requirement already satisfied: rsa<5,>=3.1.4; python_version >= \"3\" in c:\\users\\kanum\\anaconda3\\lib\\site-packages (from google-auth<2.0dev,>=1.18.0->google-api-core[grpc]<2.0.0dev,>=1.14.0->google-cloud-vision) (4.0)\n",
      "Requirement already satisfied: pyasn1-modules>=0.2.1 in c:\\users\\kanum\\anaconda3\\lib\\site-packages (from google-auth<2.0dev,>=1.18.0->google-api-core[grpc]<2.0.0dev,>=1.14.0->google-cloud-vision) (0.2.8)\n",
      "Requirement already satisfied: pyasn1>=0.1.3 in c:\\users\\kanum\\anaconda3\\lib\\site-packages (from rsa<5,>=3.1.4; python_version >= \"3\"->google-auth<2.0dev,>=1.18.0->google-api-core[grpc]<2.0.0dev,>=1.14.0->google-cloud-vision) (0.4.8)\n"
     ]
    }
   ],
   "source": [
    "#Install Vision API Client Library for Python\n",
    "!pip install google-cloud-vision"
   ]
  },
  {
   "cell_type": "code",
   "execution_count": 6,
   "metadata": {},
   "outputs": [],
   "source": [
    "from google.cloud import vision"
   ]
  },
  {
   "cell_type": "markdown",
   "metadata": {},
   "source": [
    "Before calling client we need to set environment or else we will get __DefaultCredentialsError__:\n",
    "Could not automatically determine credentials. Please set GOOGLE_APPLICATION_CREDENTIALS or explicitly create credentials and re-run the application. For more information, please see https://cloud.google.com/docs/authentication/getting-started\n",
    "Using the above resource enabling the environment"
   ]
  },
  {
   "cell_type": "code",
   "execution_count": 7,
   "metadata": {},
   "outputs": [],
   "source": [
    "#For example:\n",
    "\n",
    "#$env:GOOGLE_APPLICATION_CREDENTIALS=\"C:\\Users\\username\\Downloads\\my-key.json\"\n",
    "\n",
    "#With command prompt:\n",
    "\n",
    "#set GOOGLE_APPLICATION_CREDENTIALS=[PATH]"
   ]
  },
  {
   "cell_type": "code",
   "execution_count": 8,
   "metadata": {},
   "outputs": [],
   "source": [
    "import os\n",
    "os.environ[\"GOOGLE_APPLICATION_CREDENTIALS\"]=\"JSON FILE NAME\""
   ]
  },
  {
   "cell_type": "code",
   "execution_count": 9,
   "metadata": {},
   "outputs": [],
   "source": [
    "#The next step is to call ImageAnnotatorClient() which contains the utilities for extracting image properties.\n",
    "client = vision.ImageAnnotatorClient()"
   ]
  },
  {
   "cell_type": "code",
   "execution_count": 10,
   "metadata": {},
   "outputs": [],
   "source": [
    "import io\n",
    "\n",
    "path = \"Test108.jpg\"\n",
    "with io.open(path, 'rb') as image_file:\n",
    "        content = image_file.read()"
   ]
  },
  {
   "cell_type": "code",
   "execution_count": 11,
   "metadata": {},
   "outputs": [],
   "source": [
    "#In the above step I have successfully loaded the image into the workspace\n",
    "image = vision.types.Image(content=content)"
   ]
  },
  {
   "cell_type": "code",
   "execution_count": 12,
   "metadata": {},
   "outputs": [],
   "source": [
    "response = client.text_detection(image=image)"
   ]
  },
  {
   "cell_type": "code",
   "execution_count": 13,
   "metadata": {},
   "outputs": [],
   "source": [
    "annotations = response.text_annotations\n",
    "annotations   \n",
    "if len(annotations) > 0:\n",
    "    text = annotations[0].description\n",
    "else:\n",
    "    text = ''\n",
    "#print('Extracted text {} from image ({} chars).'.format(text, len(text)))\n",
    "text =format(text)"
   ]
  },
  {
   "cell_type": "code",
   "execution_count": 14,
   "metadata": {},
   "outputs": [
    {
     "name": "stdout",
     "output_type": "stream",
     "text": [
      "hased on or was the outcome of the perception and atitudes of the audience toward it. The\n",
      "majority believed that portrayal of the LGBT community in Indian movies was mostly negative.\n",
      "while the same in westem movies was positive and precise. Even though the negative potrayal\n",
      "of the LGBT themes in Indian cinema was pointed out, the improvements that have been made\n",
      "were acknowladged.\n",
      "Folkowing is the evidence of quotes of the participants for cach theme which is the source of the\n",
      "discussion\n",
      "Accurate portrayal in general\n",
      "\"Generally I wonld say.they the portmayal is gond.\"\n",
      "\"See. ome LGBT mois are good, and some are jast chumma (simply) male for time pass, for\n",
      "entertainument. Bat the cones made with effort and all will always be good\"\n",
      "\"h'sa bold move and uh.. t's it's grout because the mumber of LGBT movies which realy have\n",
      "LGBT theme and abso have some substance in them are ve\n",
      "very les, and even thowgh they are\n",
      "les. uh they are good.\"\n",
      "The current theme refers to the accutate portrayal of the LGBT community in movies. Some\n",
      "participunts tated tha efforts of movies to make the actual depiction of the LGBT lide was\n",
      "paying off hecause they were improving in both content and portrayal.\n",
      "Inaccurate portray al in Indian movies\n",
      "Wyou're speaking about Indian movies, they are not at all accurate bacanse they have no ideu\n",
      "what LGBTQ means\"\n",
      "\"In this Kannada film she l be liking that womanm, but suddenty she likes that gey. It's like, how\n",
      "can she do that? Whem you're kwving like. that other girl, all of a sudden she goes away and\n",
      "suddenly you l be like wishin seconds you ll lhe that guy. How is that even possible?\"\n",
      "35\n",
      "\n"
     ]
    }
   ],
   "source": [
    "print(text)"
   ]
  },
  {
   "cell_type": "code",
   "execution_count": 15,
   "metadata": {},
   "outputs": [],
   "source": [
    "#Creating a function to detect text\n",
    "client = vision.ImageAnnotatorClient()\n",
    "import io\n",
    "def detect_text(path):\n",
    "    with io.open(path, 'rb') as image_file:\n",
    "        content = image_file.read()\n",
    "    image = vision.types.Image(content=content)\n",
    "    response = client.text_detection(image=image)\n",
    "    annotations = response.text_annotations\n",
    "    if len(annotations) > 0:\n",
    "        text = annotations[0].description\n",
    "    else:\n",
    "        text = ''\n",
    "    return (text)\n"
   ]
  },
  {
   "cell_type": "code",
   "execution_count": 16,
   "metadata": {},
   "outputs": [
    {
     "name": "stdout",
     "output_type": "stream",
     "text": [
      "y\n",
      "\n"
     ]
    }
   ],
   "source": [
    "print(detect_text('C:/Users/kanum/Desktop/Data_Science_Everyday/Hackathons/Love is Love/Dataset/Test240.jpg'))"
   ]
  },
  {
   "cell_type": "code",
   "execution_count": 17,
   "metadata": {},
   "outputs": [],
   "source": [
    "#Implementing Google API on entire images\n",
    "#Performing OCR on base image\n",
    "import cv2\n",
    "import os\n",
    "import glob\n",
    "img_dir = 'C:/Users/kanum/Desktop/Data_Science_Everyday/Hackathons/Love is Love/Dataset' # Enter Directory of all images \n",
    "data_path = os.path.join(img_dir,'*g')\n",
    "files = glob.glob(data_path)\n",
    "data = []\n",
    "filename = []\n",
    "for f1 in files:\n",
    "    file = os.path.basename(f1)\n",
    "    filename.append(file)\n",
    "    img = cv2.imread(f1)\n",
    "    text = detect_text(f1)\n",
    "    data.append(text)"
   ]
  },
  {
   "cell_type": "code",
   "execution_count": 18,
   "metadata": {},
   "outputs": [
    {
     "data": {
      "text/html": [
       "<div>\n",
       "<style scoped>\n",
       "    .dataframe tbody tr th:only-of-type {\n",
       "        vertical-align: middle;\n",
       "    }\n",
       "\n",
       "    .dataframe tbody tr th {\n",
       "        vertical-align: top;\n",
       "    }\n",
       "\n",
       "    .dataframe thead th {\n",
       "        text-align: right;\n",
       "    }\n",
       "</style>\n",
       "<table border=\"1\" class=\"dataframe\">\n",
       "  <thead>\n",
       "    <tr style=\"text-align: right;\">\n",
       "      <th></th>\n",
       "      <th>Filename</th>\n",
       "      <th>text</th>\n",
       "    </tr>\n",
       "  </thead>\n",
       "  <tbody>\n",
       "    <tr>\n",
       "      <td>0</td>\n",
       "      <td>Test100.jpg</td>\n",
       "      <td>Married\\nwith\\nPRIDF\\n</td>\n",
       "    </tr>\n",
       "    <tr>\n",
       "      <td>1</td>\n",
       "      <td>Test1001.jpg</td>\n",
       "      <td>When people ask\\nwhat I see in you,\\nI just sm...</td>\n",
       "    </tr>\n",
       "    <tr>\n",
       "      <td>2</td>\n",
       "      <td>Test1012.jpg</td>\n",
       "      <td>LOVE\\nIS TOO BEAUTIFUL\\nTO BE HIDDEN\\nIN THE C...</td>\n",
       "    </tr>\n",
       "    <tr>\n",
       "      <td>3</td>\n",
       "      <td>Test1022.jpg</td>\n",
       "      <td>LOVE\\nlov\\netty\\nis\\nQ123RF\\ndreaRF®\\n@123RF\\n...</td>\n",
       "    </tr>\n",
       "    <tr>\n",
       "      <td>4</td>\n",
       "      <td>Test103.jpg</td>\n",
       "      <td>160 YEARS OF ATLANTIC STORIES\\n</td>\n",
       "    </tr>\n",
       "  </tbody>\n",
       "</table>\n",
       "</div>"
      ],
      "text/plain": [
       "       Filename                                               text\n",
       "0   Test100.jpg                             Married\\nwith\\nPRIDF\\n\n",
       "1  Test1001.jpg  When people ask\\nwhat I see in you,\\nI just sm...\n",
       "2  Test1012.jpg  LOVE\\nIS TOO BEAUTIFUL\\nTO BE HIDDEN\\nIN THE C...\n",
       "3  Test1022.jpg  LOVE\\nlov\\netty\\nis\\nQ123RF\\ndreaRF®\\n@123RF\\n...\n",
       "4   Test103.jpg                    160 YEARS OF ATLANTIC STORIES\\n"
      ]
     },
     "execution_count": 18,
     "metadata": {},
     "output_type": "execute_result"
    }
   ],
   "source": [
    "import pandas as pd\n",
    "df = pd.DataFrame()\n",
    "df['Filename'] = filename\n",
    "df['text'] = data\n",
    "#print(df['text'].value_counts())\n",
    "df.head(5)\n"
   ]
  },
  {
   "cell_type": "code",
   "execution_count": 19,
   "metadata": {},
   "outputs": [],
   "source": [
    "#Sentiment Analysis\n",
    "from vaderSentiment.vaderSentiment import SentimentIntensityAnalyzer"
   ]
  },
  {
   "cell_type": "code",
   "execution_count": 20,
   "metadata": {},
   "outputs": [],
   "source": [
    "analyzer = SentimentIntensityAnalyzer()"
   ]
  },
  {
   "cell_type": "code",
   "execution_count": 21,
   "metadata": {},
   "outputs": [
    {
     "data": {
      "text/plain": [
       "{'neg': 0.0, 'neu': 0.789, 'pos': 0.211, 'compound': 0.7717}"
      ]
     },
     "execution_count": 21,
     "metadata": {},
     "output_type": "execute_result"
    }
   ],
   "source": [
    "#Applying on a simple text\n",
    "a = df['text'][1]\n",
    "analyzer.polarity_scores(a)"
   ]
  },
  {
   "cell_type": "code",
   "execution_count": 22,
   "metadata": {},
   "outputs": [
    {
     "data": {
      "text/html": [
       "<div>\n",
       "<style scoped>\n",
       "    .dataframe tbody tr th:only-of-type {\n",
       "        vertical-align: middle;\n",
       "    }\n",
       "\n",
       "    .dataframe tbody tr th {\n",
       "        vertical-align: top;\n",
       "    }\n",
       "\n",
       "    .dataframe thead th {\n",
       "        text-align: right;\n",
       "    }\n",
       "</style>\n",
       "<table border=\"1\" class=\"dataframe\">\n",
       "  <thead>\n",
       "    <tr style=\"text-align: right;\">\n",
       "      <th></th>\n",
       "      <th>Filename</th>\n",
       "      <th>text</th>\n",
       "      <th>sentiment</th>\n",
       "    </tr>\n",
       "  </thead>\n",
       "  <tbody>\n",
       "    <tr>\n",
       "      <td>0</td>\n",
       "      <td>Test100.jpg</td>\n",
       "      <td>Married\\nwith\\nPRIDF\\n</td>\n",
       "      <td>{'neg': 0.0, 'neu': 1.0, 'pos': 0.0, 'compound...</td>\n",
       "    </tr>\n",
       "    <tr>\n",
       "      <td>1</td>\n",
       "      <td>Test1001.jpg</td>\n",
       "      <td>When people ask\\nwhat I see in you,\\nI just sm...</td>\n",
       "      <td>{'neg': 0.0, 'neu': 0.789, 'pos': 0.211, 'comp...</td>\n",
       "    </tr>\n",
       "    <tr>\n",
       "      <td>2</td>\n",
       "      <td>Test1012.jpg</td>\n",
       "      <td>LOVE\\nIS TOO BEAUTIFUL\\nTO BE HIDDEN\\nIN THE C...</td>\n",
       "      <td>{'neg': 0.0, 'neu': 0.497, 'pos': 0.503, 'comp...</td>\n",
       "    </tr>\n",
       "    <tr>\n",
       "      <td>3</td>\n",
       "      <td>Test1022.jpg</td>\n",
       "      <td>LOVE\\nlov\\netty\\nis\\nQ123RF\\ndreaRF®\\n@123RF\\n...</td>\n",
       "      <td>{'neg': 0.0, 'neu': 0.67, 'pos': 0.33, 'compou...</td>\n",
       "    </tr>\n",
       "    <tr>\n",
       "      <td>4</td>\n",
       "      <td>Test103.jpg</td>\n",
       "      <td>160 YEARS OF ATLANTIC STORIES\\n</td>\n",
       "      <td>{'neg': 0.0, 'neu': 1.0, 'pos': 0.0, 'compound...</td>\n",
       "    </tr>\n",
       "  </tbody>\n",
       "</table>\n",
       "</div>"
      ],
      "text/plain": [
       "       Filename                                               text  \\\n",
       "0   Test100.jpg                             Married\\nwith\\nPRIDF\\n   \n",
       "1  Test1001.jpg  When people ask\\nwhat I see in you,\\nI just sm...   \n",
       "2  Test1012.jpg  LOVE\\nIS TOO BEAUTIFUL\\nTO BE HIDDEN\\nIN THE C...   \n",
       "3  Test1022.jpg  LOVE\\nlov\\netty\\nis\\nQ123RF\\ndreaRF®\\n@123RF\\n...   \n",
       "4   Test103.jpg                    160 YEARS OF ATLANTIC STORIES\\n   \n",
       "\n",
       "                                           sentiment  \n",
       "0  {'neg': 0.0, 'neu': 1.0, 'pos': 0.0, 'compound...  \n",
       "1  {'neg': 0.0, 'neu': 0.789, 'pos': 0.211, 'comp...  \n",
       "2  {'neg': 0.0, 'neu': 0.497, 'pos': 0.503, 'comp...  \n",
       "3  {'neg': 0.0, 'neu': 0.67, 'pos': 0.33, 'compou...  \n",
       "4  {'neg': 0.0, 'neu': 1.0, 'pos': 0.0, 'compound...  "
      ]
     },
     "execution_count": 22,
     "metadata": {},
     "output_type": "execute_result"
    }
   ],
   "source": [
    "#Adding scores dictionary to the input data\n",
    "df['sentiment'] = df['text'].apply(lambda text: analyzer.polarity_scores(text))\n",
    "df.head()"
   ]
  },
  {
   "cell_type": "code",
   "execution_count": 23,
   "metadata": {},
   "outputs": [
    {
     "name": "stdout",
     "output_type": "stream",
     "text": [
      "       Filename                                               text  \\\n",
      "0   Test100.jpg                                 Married with PRIDF   \n",
      "1  Test1001.jpg  When people ask what I see in you I just smile...   \n",
      "2  Test1012.jpg   LOVE IS TOO BEAUTIFUL TO BE HIDDEN IN THE CLOSET   \n",
      "3  Test1022.jpg              LOVE lov etty is Q123RF dreaRF O123RF   \n",
      "4   Test103.jpg                      160 YEARS OF ATLANTIC STORIES   \n",
      "\n",
      "                                           sentiment  Category  \n",
      "0  {'neg': 0.0, 'neu': 1.0, 'pos': 0.0, 'compound...    Random  \n",
      "1  {'neg': 0.0, 'neu': 0.789, 'pos': 0.211, 'comp...  Positive  \n",
      "2  {'neg': 0.0, 'neu': 0.497, 'pos': 0.503, 'comp...  Positive  \n",
      "3  {'neg': 0.0, 'neu': 0.67, 'pos': 0.33, 'compou...  Positive  \n",
      "4  {'neg': 0.0, 'neu': 1.0, 'pos': 0.0, 'compound...    Random  \n"
     ]
    }
   ],
   "source": [
    "import re as re\n",
    "#Cleaned text\n",
    "def clean_text(text):\n",
    "    return ' '.join(re.sub('(@[A-Za-z0-9]+)|([^0-9A-Za-z \\t])|(\\w+:\\/\\/\\S+)', ' ', text).split())\n",
    "\n",
    "df[\"text\"] = df['text'].apply(lambda x: clean_text(x))\n",
    "\n",
    "def sentiment_scores(text): \n",
    "  \n",
    "    # Create a SentimentIntensityAnalyzer object. \n",
    "    analyzer_obj = SentimentIntensityAnalyzer() \n",
    "  \n",
    "    # polarity_scores method of SentimentIntensityAnalyzer \n",
    "    # oject gives a sentiment dictionary. \n",
    "    # which contains pos, neg, neu, and compound scores. \n",
    "    sentiment_dict = analyzer_obj.polarity_scores(text) \n",
    "      \n",
    "    if sentiment_dict['compound'] > 0:\n",
    "        return 'Positive'\n",
    "    elif sentiment_dict['compound'] < 0:\n",
    "        return 'Negative'\n",
    "    else:\n",
    "        return 'Random'\n",
    "\n",
    "df[\"Category\"] = df[\"text\"].apply(lambda x: sentiment_scores(x))\n",
    "\n",
    "print(df.head(5))\n",
    "  "
   ]
  },
  {
   "cell_type": "code",
   "execution_count": 24,
   "metadata": {},
   "outputs": [],
   "source": [
    "df.to_csv(\"df1.csv\",index = False)"
   ]
  },
  {
   "cell_type": "code",
   "execution_count": 25,
   "metadata": {},
   "outputs": [
    {
     "data": {
      "text/html": [
       "<div>\n",
       "<style scoped>\n",
       "    .dataframe tbody tr th:only-of-type {\n",
       "        vertical-align: middle;\n",
       "    }\n",
       "\n",
       "    .dataframe tbody tr th {\n",
       "        vertical-align: top;\n",
       "    }\n",
       "\n",
       "    .dataframe thead th {\n",
       "        text-align: right;\n",
       "    }\n",
       "</style>\n",
       "<table border=\"1\" class=\"dataframe\">\n",
       "  <thead>\n",
       "    <tr style=\"text-align: right;\">\n",
       "      <th></th>\n",
       "      <th>Filename</th>\n",
       "      <th>Category</th>\n",
       "    </tr>\n",
       "  </thead>\n",
       "  <tbody>\n",
       "    <tr>\n",
       "      <td>0</td>\n",
       "      <td>Test100.jpg</td>\n",
       "      <td>Random</td>\n",
       "    </tr>\n",
       "    <tr>\n",
       "      <td>1</td>\n",
       "      <td>Test1001.jpg</td>\n",
       "      <td>Positive</td>\n",
       "    </tr>\n",
       "    <tr>\n",
       "      <td>2</td>\n",
       "      <td>Test1012.jpg</td>\n",
       "      <td>Positive</td>\n",
       "    </tr>\n",
       "    <tr>\n",
       "      <td>3</td>\n",
       "      <td>Test1022.jpg</td>\n",
       "      <td>Positive</td>\n",
       "    </tr>\n",
       "    <tr>\n",
       "      <td>4</td>\n",
       "      <td>Test103.jpg</td>\n",
       "      <td>Random</td>\n",
       "    </tr>\n",
       "    <tr>\n",
       "      <td>...</td>\n",
       "      <td>...</td>\n",
       "      <td>...</td>\n",
       "    </tr>\n",
       "    <tr>\n",
       "      <td>234</td>\n",
       "      <td>Test945.jpg</td>\n",
       "      <td>Negative</td>\n",
       "    </tr>\n",
       "    <tr>\n",
       "      <td>235</td>\n",
       "      <td>Test946.jpg</td>\n",
       "      <td>Negative</td>\n",
       "    </tr>\n",
       "    <tr>\n",
       "      <td>236</td>\n",
       "      <td>Test957.jpg</td>\n",
       "      <td>Positive</td>\n",
       "    </tr>\n",
       "    <tr>\n",
       "      <td>237</td>\n",
       "      <td>Test979.jpg</td>\n",
       "      <td>Positive</td>\n",
       "    </tr>\n",
       "    <tr>\n",
       "      <td>238</td>\n",
       "      <td>Test993.jpg</td>\n",
       "      <td>Positive</td>\n",
       "    </tr>\n",
       "  </tbody>\n",
       "</table>\n",
       "<p>239 rows × 2 columns</p>\n",
       "</div>"
      ],
      "text/plain": [
       "         Filename  Category\n",
       "0     Test100.jpg    Random\n",
       "1    Test1001.jpg  Positive\n",
       "2    Test1012.jpg  Positive\n",
       "3    Test1022.jpg  Positive\n",
       "4     Test103.jpg    Random\n",
       "..            ...       ...\n",
       "234   Test945.jpg  Negative\n",
       "235   Test946.jpg  Negative\n",
       "236   Test957.jpg  Positive\n",
       "237   Test979.jpg  Positive\n",
       "238   Test993.jpg  Positive\n",
       "\n",
       "[239 rows x 2 columns]"
      ]
     },
     "execution_count": 25,
     "metadata": {},
     "output_type": "execute_result"
    }
   ],
   "source": [
    "submission = df.drop(['text','sentiment'],axis = 1)\n",
    "submission"
   ]
  },
  {
   "cell_type": "code",
   "execution_count": 26,
   "metadata": {},
   "outputs": [],
   "source": [
    "submission.to_csv(\"submission_g_api.csv\",index = False)"
   ]
  }
 ],
 "metadata": {
  "kernelspec": {
   "display_name": "Python 3",
   "language": "python",
   "name": "python3"
  },
  "language_info": {
   "codemirror_mode": {
    "name": "ipython",
    "version": 3
   },
   "file_extension": ".py",
   "mimetype": "text/x-python",
   "name": "python",
   "nbconvert_exporter": "python",
   "pygments_lexer": "ipython3",
   "version": "3.7.4"
  }
 },
 "nbformat": 4,
 "nbformat_minor": 2
}
