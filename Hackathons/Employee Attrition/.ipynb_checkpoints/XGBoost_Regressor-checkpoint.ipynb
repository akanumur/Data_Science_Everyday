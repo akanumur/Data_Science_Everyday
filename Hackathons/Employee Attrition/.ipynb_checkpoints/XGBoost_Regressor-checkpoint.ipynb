{
 "cells": [
  {
   "cell_type": "markdown",
   "metadata": {},
   "source": [
    "## Predict the employee attrition rate in organizations\n",
    "\n",
    "### ABOUT CHALLENGE\n",
    "\n",
    "### Problem statement\n",
    "\n",
    "Employees certainly are the most important asset of an organization. They are the ones working behind the scenes to ensure that your business functions seamlessly like a well-oiled machine. Hiring the best fit for an organization and ensuring that they stick with the company are two sides of the same coin. Employee attrition not only may lead to a minor hitch in the system, but it is also a major cost to the organization.\n",
    "\n",
    "The Human Resources department of your organization is determined to predict the employee attrition rate in advance and put a corrective plan of action in place. As a Machine Learning Specialist, the HR team has requested you to build a sophisticated model that predicts the organization’s attrition rate.\n",
    "\n",
    "### Dataset\n",
    "\n",
    "The dataset consists of various details such as gender and age of the employee, education and relationship status, pay scale, and other factors that may influence the attrition rate.\n",
    "\n",
    "The benefits of practicing this problem by using Machine Learning techniques are as follows:\n",
    "\n",
    "- This challenge will encourage you to apply your Machine Learning skills to build models that can predict employee attrition rates.\n",
    "- This challenge will help you enhance your knowledge of regression. Regression is one of the basic building blocks of Machine Learning.\n",
    "We challenge you to build a model that computes the attrition rate for an employee working in an organization.\n",
    "\n",
    "- Train.csv\n",
    "- Test.csv\n",
    "- sample_submission.csv\n",
    "\n",
    "### Data Description\n",
    "\n",
    "- __Employee_ID__:\tUnique ID of each employee\n",
    "- __Age__:\tAge of each employee\n",
    "- __Unit__:\tDepartment under which the employee work\n",
    "- __Education__:\tRating of Qualification of an employee (1-5)\n",
    "- __Gender__\tMale-0 or Female-1\n",
    "- __Decision_skill_possess__\tDecision skill that an employee possesses\n",
    "- __Post_Level__\tLevel of the post in an organization (1-5)\n",
    "- __Relationship_Status__\tCategorical Married or Single \n",
    "- __Pay_Scale__\tRate in between 1 to 10\n",
    "- __Time_of_service__\tYears in the organization\n",
    "- __growth_rate__\tGrowth rate in percentage of an employee\n",
    "- __Time_since_promotion__\tTime in years since the last promotion\n",
    "- __Work_Life_balance__\tRating for work-life balance given by an employee.\n",
    "- __Travel_Rate__\tRating based on travel history(1-3)\n",
    "- __Hometown__\tName of the city\n",
    "- __Compensation_and_Benefits__\tCategorical Variabe\n",
    "- __VAR1 - VAR5__\tAnominised variables\n",
    "- __Attrition_rate(TARGET VARIABLE)__\tAttrition rate of each employee\n",
    "\n",
    "### Submission format\n",
    "You are required to write your predictions in a .csv file that contain the following columns:\n",
    "\n",
    "Employee_ID\n",
    "\n",
    "Attrition_rate\n",
    "\n",
    "### Evaluation criteria\n",
    "The evaluation metric that is used for this problem is the root mean squared error. The formula is as follows:\n",
    " \n",
    " score = 100 * max(0,1 - root_mean_squared_error(actual_values,predicted_values))"
   ]
  },
  {
   "cell_type": "code",
   "execution_count": 1,
   "metadata": {},
   "outputs": [],
   "source": [
    "#Importing basic libraries\n",
    "import pandas as pd\n",
    "import numpy as np\n",
    "#Import visualization libraries\n",
    "import seaborn as sns\n",
    "from matplotlib import pyplot\n",
    "import matplotlib.pyplot as plt\n"
   ]
  },
  {
   "cell_type": "code",
   "execution_count": 2,
   "metadata": {},
   "outputs": [],
   "source": [
    "# sklearn modules for preprocessing\n",
    "from sklearn.preprocessing import OneHotEncoder, LabelEncoder\n",
    "# from imblearn.over_sampling import SMOTE  # SMOTE\n",
    "# sklearn modules for ML model selection\n",
    "from sklearn.model_selection import train_test_split  # import 'train_test_split'\n",
    "from sklearn.model_selection import GridSearchCV\n",
    "from sklearn.model_selection import RandomizedSearchCV\n",
    "from sklearn.model_selection import ShuffleSplit\n",
    "from sklearn.model_selection import KFold\n",
    "from sklearn.model_selection import cross_val_score\n",
    "\n",
    "# Libraries for data modelling\n",
    "from sklearn import svm, tree, linear_model, neighbors\n",
    "from sklearn import naive_bayes, ensemble, discriminant_analysis, gaussian_process\n",
    "from sklearn.linear_model import LogisticRegression\n",
    "from sklearn.tree import DecisionTreeClassifier\n",
    "from sklearn.neighbors import KNeighborsClassifier\n",
    "from sklearn.discriminant_analysis import LinearDiscriminantAnalysis\n",
    "from sklearn.naive_bayes import GaussianNB\n",
    "from sklearn.svm import SVC\n",
    "from sklearn.neighbors import KNeighborsClassifier\n",
    "from xgboost import XGBClassifier\n",
    "from sklearn.ensemble import RandomForestClassifier\n",
    "\n",
    "# Common sklearn Model Helpers\n",
    "from sklearn import feature_selection\n",
    "from sklearn import model_selection\n",
    "from sklearn import metrics"
   ]
  },
  {
   "cell_type": "code",
   "execution_count": 3,
   "metadata": {},
   "outputs": [
    {
     "name": "stdout",
     "output_type": "stream",
     "text": [
      "Index(['Employee_ID', 'Gender', 'Age', 'Education_Level',\n",
      "       'Relationship_Status', 'Hometown', 'Unit', 'Decision_skill_possess',\n",
      "       'Time_of_service', 'Time_since_promotion', 'growth_rate', 'Travel_Rate',\n",
      "       'Post_Level', 'Pay_Scale', 'Compensation_and_Benefits',\n",
      "       'Work_Life_balance', 'VAR1', 'VAR2', 'VAR3', 'VAR4', 'VAR5', 'VAR6',\n",
      "       'VAR7', 'Attrition_rate'],\n",
      "      dtype='object')\n",
      "  Employee_ID Gender   Age  Education_Level Relationship_Status     Hometown  \\\n",
      "0   EID_23371      F  42.0                4             Married     Franklin   \n",
      "1   EID_18000      M  24.0                3              Single  Springfield   \n",
      "2    EID_3891      F  58.0                3             Married      Clinton   \n",
      "3   EID_17492      F  26.0                3              Single      Lebanon   \n",
      "4   EID_22534      F  31.0                1             Married  Springfield   \n",
      "\n",
      "                        Unit Decision_skill_possess  Time_of_service  \\\n",
      "0                         IT             Conceptual              4.0   \n",
      "1                  Logistics             Analytical              5.0   \n",
      "2                    Quality             Conceptual             27.0   \n",
      "3  Human Resource Management             Behavioral              4.0   \n",
      "4                  Logistics             Conceptual              5.0   \n",
      "\n",
      "   Time_since_promotion  growth_rate  Travel_Rate  Post_Level  Pay_Scale  \\\n",
      "0                     4           33            1           1        7.0   \n",
      "1                     4           36            0           3        6.0   \n",
      "2                     3           51            0           2        8.0   \n",
      "3                     3           56            1           3        8.0   \n",
      "4                     4           62            1           3        2.0   \n",
      "\n",
      "  Compensation_and_Benefits  Work_Life_balance  VAR1    VAR2    VAR3  VAR4  \\\n",
      "0                     type2                3.0     4  0.7516  1.8688   2.0   \n",
      "1                     type2                4.0     3 -0.9612 -0.4537   2.0   \n",
      "2                     type2                1.0     4 -0.9612 -0.4537   3.0   \n",
      "3                     type2                1.0     3 -1.8176 -0.4537   NaN   \n",
      "4                     type3                3.0     1  0.7516 -0.4537   2.0   \n",
      "\n",
      "   VAR5  VAR6  VAR7  Attrition_rate  \n",
      "0     4     5     3          0.1841  \n",
      "1     3     5     3          0.0670  \n",
      "2     3     8     3          0.0851  \n",
      "3     3     7     3          0.0668  \n",
      "4     2     8     2          0.1827  \n"
     ]
    },
    {
     "data": {
      "text/plain": [
       "(7000, 24)"
      ]
     },
     "execution_count": 3,
     "metadata": {},
     "output_type": "execute_result"
    }
   ],
   "source": [
    "train = pd.read_csv('./Dataset/Train.csv')\n",
    "pd.set_option('display.max_columns', None)\n",
    "print(train.columns)\n",
    "print(train.head())\n",
    "train_data = train\n",
    "train_data.shape"
   ]
  },
  {
   "cell_type": "code",
   "execution_count": 4,
   "metadata": {},
   "outputs": [
    {
     "name": "stdout",
     "output_type": "stream",
     "text": [
      "Index(['Employee_ID', 'Gender', 'Age', 'Education_Level',\n",
      "       'Relationship_Status', 'Hometown', 'Unit', 'Decision_skill_possess',\n",
      "       'Time_of_service', 'Time_since_promotion', 'growth_rate', 'Travel_Rate',\n",
      "       'Post_Level', 'Pay_Scale', 'Compensation_and_Benefits',\n",
      "       'Work_Life_balance', 'VAR1', 'VAR2', 'VAR3', 'VAR4', 'VAR5', 'VAR6',\n",
      "       'VAR7'],\n",
      "      dtype='object')\n",
      "  Employee_ID Gender   Age  Education_Level Relationship_Status     Hometown  \\\n",
      "0   EID_22713      F  32.0                5              Single  Springfield   \n",
      "1    EID_9658      M  65.0                2              Single      Lebanon   \n",
      "2   EID_22203      M  52.0                3             Married  Springfield   \n",
      "3    EID_7652      M  50.0                5              Single   Washington   \n",
      "4    EID_6516      F  44.0                3             Married     Franklin   \n",
      "\n",
      "        Unit Decision_skill_possess  Time_of_service  Time_since_promotion  \\\n",
      "0        R&D             Conceptual              7.0                     4   \n",
      "1         IT              Directive             41.0                     2   \n",
      "2      Sales              Directive             21.0                     3   \n",
      "3  Marketing             Analytical             11.0                     4   \n",
      "4        R&D             Conceptual             12.0                     4   \n",
      "\n",
      "   growth_rate  Travel_Rate  Post_Level  Pay_Scale Compensation_and_Benefits  \\\n",
      "0           30            1           5        4.0                     type2   \n",
      "1           72            1           1        1.0                     type2   \n",
      "2           25            0           1        8.0                     type3   \n",
      "3           28            1           1        2.0                     type0   \n",
      "4           47            1           3        2.0                     type2   \n",
      "\n",
      "   Work_Life_balance  VAR1    VAR2    VAR3  VAR4  VAR5  VAR6  VAR7  \n",
      "0                1.0     3 -0.9612 -0.4537   2.0     1     8     4  \n",
      "1                1.0     4 -0.9612  0.7075   1.0     2     8     2  \n",
      "2                1.0     4 -0.1048  0.7075   2.0     1     9     3  \n",
      "3                4.0     3 -0.1048  0.7075   2.0     2     8     3  \n",
      "4                4.0     4  1.6081  0.7075   2.0     2     7     4  \n"
     ]
    },
    {
     "data": {
      "text/plain": [
       "(3000, 23)"
      ]
     },
     "execution_count": 4,
     "metadata": {},
     "output_type": "execute_result"
    }
   ],
   "source": [
    "#Read the test datasets\n",
    "test = pd.read_csv('./Dataset/Test.csv')\n",
    "pd.set_option('display.max_columns', None)\n",
    "print(test.columns)\n",
    "print(test.head())\n",
    "test_data = test\n",
    "test_data.shape"
   ]
  },
  {
   "cell_type": "code",
   "execution_count": 5,
   "metadata": {},
   "outputs": [],
   "source": [
    "#We have 7000 train set and 3000 test set\n",
    "# Exploratory data Analysis on Train data\n",
    "#'Employee_ID'\n",
    "# We can drop this column as it is an id column and does not add value to our model\n",
    "train_data = train_data.drop('Employee_ID',1)"
   ]
  },
  {
   "cell_type": "code",
   "execution_count": 6,
   "metadata": {},
   "outputs": [
    {
     "name": "stdout",
     "output_type": "stream",
     "text": [
      "Distribution of Gender: F    4114\n",
      "M    2886\n",
      "Name: Gender, dtype: int64\n",
      "Missing values: 0\n"
     ]
    }
   ],
   "source": [
    "# 'Gender' \n",
    "print('Distribution of Gender:',train_data['Gender'].value_counts()) #Distribution of the cateogorical variable\n",
    "print('Missing values:',train_data['Gender'].isnull().sum()) #Check for missing value\n",
    "#There are no missing values we need not treat missing values\n",
    "# As we are trying to implement Linear model we can one-hot encode the variable\n",
    "train_data = pd.get_dummies(train_data,columns = ['Gender'],prefix =['Gender'])"
   ]
  },
  {
   "cell_type": "code",
   "execution_count": 7,
   "metadata": {},
   "outputs": [
    {
     "name": "stdout",
     "output_type": "stream",
     "text": [
      "Missing values: 412\n",
      "Average Age in company: 39.62279902853673\n",
      "                         Unit        Age\n",
      "0      Accounting and Finance  39.051724\n",
      "1   Human Resource Management  39.574534\n",
      "2                          IT  39.816171\n",
      "3                   Logistics  39.680870\n",
      "4                   Marketing  41.492386\n",
      "5                  Operarions  39.466063\n",
      "6                  Production  38.275000\n",
      "7                  Purchasing  39.486430\n",
      "8                     Quality  38.803279\n",
      "9                         R&D  39.681890\n",
      "10                      Sales  39.985442\n",
      "11                   Security  38.333333\n"
     ]
    }
   ],
   "source": [
    "# 'Age' : Age of each employee in years\n",
    "print('Missing values:',train_data['Age'].isnull().sum()) #Check for missing value\n",
    "# Checking if Age differes with Unit\n",
    "print('Average Age in company:',train_data['Age'].mean())\n",
    "print(train_data.groupby('Unit', as_index=False)['Age'].mean())\n",
    "#Looks like the Average Age in the company is close to the Unit Averages so replacing the missing values with average age of the company\n",
    "train_data['Age'].fillna((train_data['Age'].mean()), inplace=True)"
   ]
  },
  {
   "cell_type": "code",
   "execution_count": 8,
   "metadata": {},
   "outputs": [
    {
     "name": "stdout",
     "output_type": "stream",
     "text": [
      "Missing values: 144\n",
      "Average Time_of_service in company: 13.385064177362894\n",
      "                         Unit  Time_of_service\n",
      "0      Accounting and Finance        13.057026\n",
      "1   Human Resource Management        12.816568\n",
      "2                          IT        13.430972\n",
      "3                   Logistics        13.597893\n",
      "4                   Marketing        14.278049\n",
      "5                  Operarions        13.230329\n",
      "6                  Production        13.351220\n",
      "7                  Purchasing        13.449393\n",
      "8                     Quality        13.391534\n",
      "9                         R&D        13.475188\n",
      "10                      Sales        13.458963\n",
      "11                   Security        12.051471\n"
     ]
    }
   ],
   "source": [
    "# 'Time_of_service' : Time_of_service of each employee in years\n",
    "print('Missing values:',train_data['Time_of_service'].isnull().sum()) #Check for missing value\n",
    "# Checking if Time_of_service differes with Unit\n",
    "print('Average Time_of_service in company:',train_data['Time_of_service'].mean())\n",
    "print(train_data.groupby('Unit', as_index=False)['Time_of_service'].mean())\n",
    "#Looks like the Average Time_of_service in the company is close to the Unit Averages so replacing the missing values with average Time_of_service of the company\n",
    "train_data['Time_of_service'].fillna((train_data['Time_of_service'].mean()), inplace=True)"
   ]
  },
  {
   "cell_type": "code",
   "execution_count": 9,
   "metadata": {},
   "outputs": [
    {
     "name": "stdout",
     "output_type": "stream",
     "text": [
      "Missing values: 0\n"
     ]
    },
    {
     "data": {
      "text/plain": [
       "(array([ 162.,    0., 1819.,    0.,    0., 1811.,    0., 1703.,    0.,\n",
       "        1505.]),\n",
       " array([0. , 0.4, 0.8, 1.2, 1.6, 2. , 2.4, 2.8, 3.2, 3.6, 4. ]),\n",
       " <a list of 10 Patch objects>)"
      ]
     },
     "execution_count": 9,
     "metadata": {},
     "output_type": "execute_result"
    },
    {
     "data": {
      "image/png": "[encoded data removed]",
      "text/plain": [
       "<Figure size 432x288 with 1 Axes>"
      ]
     },
     "metadata": {
      "needs_background": "light"
     },
     "output_type": "display_data"
    }
   ],
   "source": [
    "# 'Time_since_promotion' : Time in years since the last promotion\n",
    "print('Missing values:',train_data['Time_since_promotion'].isnull().sum()) #Check for missing value\n",
    "plt.hist(train_data['Time_since_promotion'])"
   ]
  },
  {
   "cell_type": "code",
   "execution_count": 10,
   "metadata": {},
   "outputs": [
    {
     "name": "stdout",
     "output_type": "stream",
     "text": [
      "Missing values: 0\n"
     ]
    },
    {
     "data": {
      "text/plain": [
       "(array([755., 631., 758., 631., 631., 780., 636., 794., 652., 732.]),\n",
       " array([20. , 25.4, 30.8, 36.2, 41.6, 47. , 52.4, 57.8, 63.2, 68.6, 74. ]),\n",
       " <a list of 10 Patch objects>)"
      ]
     },
     "execution_count": 10,
     "metadata": {},
     "output_type": "execute_result"
    },
    {
     "data": {
      "image/png": "[encoded data removed]",
      "text/plain": [
       "<Figure size 432x288 with 1 Axes>"
      ]
     },
     "metadata": {
      "needs_background": "light"
     },
     "output_type": "display_data"
    }
   ],
   "source": [
    "# 'growth_rate' : Growth rate in percentage of an employee\n",
    "print('Missing values:',train_data['growth_rate'].isnull().sum()) #Check for missing value\n",
    "plt.hist(train_data['growth_rate'])"
   ]
  },
  {
   "cell_type": "code",
   "execution_count": 11,
   "metadata": {},
   "outputs": [
    {
     "name": "stdout",
     "output_type": "stream",
     "text": [
      "Missing values: 0\n"
     ]
    },
    {
     "data": {
      "text/plain": [
       "(array([2224.,    0.,    0.,    0.,    0., 3827.,    0.,    0.,    0.,\n",
       "         949.]),\n",
       " array([0. , 0.2, 0.4, 0.6, 0.8, 1. , 1.2, 1.4, 1.6, 1.8, 2. ]),\n",
       " <a list of 10 Patch objects>)"
      ]
     },
     "execution_count": 11,
     "metadata": {},
     "output_type": "execute_result"
    },
    {
     "data": {
      "image/png": "[encoded data removed]",
      "text/plain": [
       "<Figure size 432x288 with 1 Axes>"
      ]
     },
     "metadata": {
      "needs_background": "light"
     },
     "output_type": "display_data"
    }
   ],
   "source": [
    "# 'Travel_Rate' : Rating based on travel history(1-3)\n",
    "print('Missing values:',train_data['Travel_Rate'].isnull().sum()) #Check for missing value\n",
    "plt.hist(train_data['Travel_Rate'])"
   ]
  },
  {
   "cell_type": "code",
   "execution_count": 12,
   "metadata": {},
   "outputs": [
    {
     "name": "stdout",
     "output_type": "stream",
     "text": [
      "Missing values: 0\n"
     ]
    },
    {
     "data": {
      "text/plain": [
       "(array([1035.,    0., 1786.,    0.,    0., 2435.,    0., 1046.,    0.,\n",
       "         698.]),\n",
       " array([1. , 1.4, 1.8, 2.2, 2.6, 3. , 3.4, 3.8, 4.2, 4.6, 5. ]),\n",
       " <a list of 10 Patch objects>)"
      ]
     },
     "execution_count": 12,
     "metadata": {},
     "output_type": "execute_result"
    },
    {
     "data": {
      "image/png": "[encoded data removed]",
      "text/plain": [
       "<Figure size 432x288 with 1 Axes>"
      ]
     },
     "metadata": {
      "needs_background": "light"
     },
     "output_type": "display_data"
    }
   ],
   "source": [
    "# 'Post_Level' : Level of the post in an organization (1-5)\n",
    "print('Missing values:',train_data['Post_Level'].isnull().sum()) #Check for missing value\n",
    "plt.hist(train_data['Post_Level'])"
   ]
  },
  {
   "cell_type": "code",
   "execution_count": 13,
   "metadata": {},
   "outputs": [
    {
     "name": "stdout",
     "output_type": "stream",
     "text": [
      "Missing values: 9\n",
      "Unit\n",
      "Accounting and Finance       6.042339\n",
      "Human Resource Management    6.072674\n",
      "IT                           5.956210\n",
      "Logistics                    5.979470\n",
      "Marketing                    6.075472\n",
      "Operarions                   6.085227\n",
      "Production                   5.990521\n",
      "Purchasing                   6.081349\n",
      "Quality                      6.170984\n",
      "R&D                          5.939706\n",
      "Sales                        5.979809\n",
      "Security                     5.965278\n",
      "Name: Pay_Scale, dtype: float64\n",
      "Average_Pay_Scale 6.0062938063224145\n"
     ]
    }
   ],
   "source": [
    "#Pay_Scale: Rate in between 1 to 10\n",
    "print('Missing values:',train_data['Pay_Scale'].isnull().sum()) #Check for missing value\n",
    "print(train_data.groupby('Unit')['Pay_Scale'].mean()) #Check pay scale by Unit\n",
    "print(\"Average_Pay_Scale\",train_data['Pay_Scale'].mean())\n",
    "#Looks like the Average Pay_Scale in the company is close to the Unit Averages so replacing the missing values with average Pay_Scale of the company\n",
    "train_data['Pay_Scale'].fillna((train_data['Pay_Scale'].mean()), inplace=True)"
   ]
  },
  {
   "cell_type": "code",
   "execution_count": 14,
   "metadata": {},
   "outputs": [
    {
     "name": "stdout",
     "output_type": "stream",
     "text": [
      "Distribution of Compensation_and_Benefits: type2    3945\n",
      "type3    2382\n",
      "type4     353\n",
      "type0     187\n",
      "type1     133\n",
      "Name: Compensation_and_Benefits, dtype: int64\n",
      "Missing values: 0\n"
     ]
    }
   ],
   "source": [
    "# 'Compensation_and_Benefits'\n",
    "print('Distribution of Compensation_and_Benefits:',train_data['Compensation_and_Benefits'].value_counts()) #Distribution of the cateogorical variable\n",
    "print('Missing values:',train_data['Compensation_and_Benefits'].isnull().sum()) #Check for missing value\n",
    "#There are no missing values we need not treat missing values\n",
    "# As we are trying to implement Linear model we can one-hot encode the variable\n",
    "train_data = pd.get_dummies(train_data,columns = ['Compensation_and_Benefits'],prefix =['Compensation_and_Benefits'])"
   ]
  },
  {
   "cell_type": "code",
   "execution_count": 15,
   "metadata": {},
   "outputs": [
    {
     "name": "stdout",
     "output_type": "stream",
     "text": [
      "Missing values: 11\n",
      "Average_Work_Life_balance 2.3878952639862643\n",
      "Unit\n",
      "Accounting and Finance       2.458586\n",
      "Human Resource Management    2.299419\n",
      "IT                           2.418103\n",
      "Logistics                    2.389411\n",
      "Marketing                    2.438679\n",
      "Operarions                   2.345609\n",
      "Production                   2.347619\n",
      "Purchasing                   2.396000\n",
      "Quality                      2.290155\n",
      "R&D                          2.314706\n",
      "Sales                        2.412951\n",
      "Security                     2.527778\n",
      "Name: Work_Life_balance, dtype: float64\n"
     ]
    }
   ],
   "source": [
    "#Work_Life_balance: Rating for work-life balance given by an employee.\n",
    "print('Missing values:',train_data['Work_Life_balance'].isnull().sum())\n",
    "print(\"Average_Work_Life_balance\",train_data['Work_Life_balance'].mean())\n",
    "print(train_data.groupby('Unit')['Work_Life_balance'].mean()) #Check pay scale by Unit\n",
    "#Looks like the Average Work_Life_balance in the company is close to the Unit Averages so replacing the missing values with average Work_Life_balance of the company\n",
    "train_data['Work_Life_balance'].fillna((train_data['Work_Life_balance'].mean()), inplace=True)"
   ]
  },
  {
   "cell_type": "code",
   "execution_count": 16,
   "metadata": {},
   "outputs": [
    {
     "name": "stdout",
     "output_type": "stream",
     "text": [
      "Average_VAR2 -0.008125969173281976\n",
      "Unit\n",
      "Accounting and Finance       0.031625\n",
      "Human Resource Management   -0.099321\n",
      "IT                          -0.004438\n",
      "Logistics                    0.053069\n",
      "Marketing                    0.047361\n",
      "Operarions                  -0.041061\n",
      "Production                  -0.113668\n",
      "Purchasing                   0.020401\n",
      "Quality                     -0.050649\n",
      "R&D                         -0.025951\n",
      "Sales                       -0.033591\n",
      "Security                    -0.027524\n",
      "Name: VAR2, dtype: float64\n"
     ]
    },
    {
     "name": "stderr",
     "output_type": "stream",
     "text": [
      "C:\\Users\\kanum\\Anaconda3\\lib\\site-packages\\numpy\\lib\\histograms.py:839: RuntimeWarning: invalid value encountered in greater_equal\n",
      "  keep = (tmp_a >= first_edge)\n",
      "C:\\Users\\kanum\\Anaconda3\\lib\\site-packages\\numpy\\lib\\histograms.py:840: RuntimeWarning: invalid value encountered in less_equal\n",
      "  keep &= (tmp_a <= last_edge)\n"
     ]
    },
    {
     "data": {
      "image/png": "[encoded data removed]",
      "text/plain": [
       "<Figure size 432x288 with 1 Axes>"
      ]
     },
     "metadata": {
      "needs_background": "light"
     },
     "output_type": "display_data"
    }
   ],
   "source": [
    "train_data['VAR2'].isnull().sum()\n",
    "plt.hist(train_data[\"VAR2\"])\n",
    "print(\"Average_VAR2\",train_data['VAR2'].mean())\n",
    "print(train_data.groupby('Unit')['VAR2'].mean()) #Check pay scale by Unit\n",
    "train_data['VAR2'].fillna((train_data['VAR2'].mean()), inplace=True)"
   ]
  },
  {
   "cell_type": "code",
   "execution_count": 17,
   "metadata": {},
   "outputs": [
    {
     "name": "stdout",
     "output_type": "stream",
     "text": [
      "Average_VAR4 1.891078184110971\n",
      "Unit\n",
      "Accounting and Finance       1.906250\n",
      "Human Resource Management    1.917197\n",
      "IT                           1.866983\n",
      "Logistics                    1.903226\n",
      "Marketing                    1.834197\n",
      "Operarions                   1.893312\n",
      "Production                   1.840206\n",
      "Purchasing                   1.859611\n",
      "Quality                      1.898305\n",
      "R&D                          1.931707\n",
      "Sales                        1.896752\n",
      "Security                     1.932331\n",
      "Name: VAR4, dtype: float64\n"
     ]
    },
    {
     "data": {
      "image/png": "[encoded data removed]",
      "text/plain": [
       "<Figure size 432x288 with 1 Axes>"
      ]
     },
     "metadata": {
      "needs_background": "light"
     },
     "output_type": "display_data"
    }
   ],
   "source": [
    "train_data['VAR4'].isnull().sum()\n",
    "plt.hist(train_data[\"VAR4\"])\n",
    "print(\"Average_VAR4\",train_data['VAR4'].mean())\n",
    "print(train_data.groupby('Unit')['VAR4'].mean()) #Check pay scale by Unit\n",
    "train_data['VAR4'].fillna((train_data['VAR4'].mean()), inplace=True)"
   ]
  },
  {
   "cell_type": "code",
   "execution_count": 18,
   "metadata": {},
   "outputs": [
    {
     "name": "stdout",
     "output_type": "stream",
     "text": [
      "Missing values: 0\n"
     ]
    },
    {
     "data": {
      "image/png": "[encoded data removed]",
      "text/plain": [
       "<Figure size 432x288 with 1 Axes>"
      ]
     },
     "metadata": {
      "needs_background": "light"
     },
     "output_type": "display_data"
    }
   ],
   "source": [
    "#'Education_Level' : Rating of Qualification of an employee (1-5)\n",
    "# Make a histogram of all the ratings in the average_rating column.\n",
    "plt.hist(train_data[\"Education_Level\"])\n",
    "print('Missing values:',train_data['Education_Level'].isnull().sum())\n",
    "# Show the plot.plt.show()"
   ]
  },
  {
   "cell_type": "code",
   "execution_count": 19,
   "metadata": {},
   "outputs": [
    {
     "name": "stdout",
     "output_type": "stream",
     "text": [
      "Distribution of Relationship_Status: Married    4520\n",
      "Single     2480\n",
      "Name: Relationship_Status, dtype: int64\n",
      "Missing values: 0\n"
     ]
    }
   ],
   "source": [
    "# 'Relationship_Status'\n",
    "print('Distribution of Relationship_Status:',train_data['Relationship_Status'].value_counts()) #Distribution of the cateogorical variable\n",
    "print('Missing values:',train_data['Relationship_Status'].isnull().sum()) #Check for missing value\n",
    "#There are no missing values we need not treat missing values\n",
    "# As we are trying to implement Linear model we can one-hot encode the variable\n",
    "train_data = pd.get_dummies(train_data,columns = ['Relationship_Status'],prefix =['Relationship_Status'])"
   ]
  },
  {
   "cell_type": "code",
   "execution_count": 20,
   "metadata": {},
   "outputs": [
    {
     "name": "stdout",
     "output_type": "stream",
     "text": [
      "Distribution of Hometown: Lebanon        2070\n",
      "Springfield    1736\n",
      "Franklin       1523\n",
      "Washington     1106\n",
      "Clinton         565\n",
      "Name: Hometown, dtype: int64\n",
      "Missing values: 0\n"
     ]
    }
   ],
   "source": [
    "# 'Hometown'\n",
    "print('Distribution of Hometown:',train_data['Hometown'].value_counts()) #Distribution of the cateogorical variable\n",
    "print('Missing values:',train_data['Hometown'].isnull().sum()) #Check for missing value\n",
    "#There are no missing values we need not treat missing values\n",
    "# As we are trying to implement Linear model we can one-hot encode the variable\n",
    "train_data = pd.get_dummies(train_data,columns = ['Hometown'],prefix =['Hometown'])"
   ]
  },
  {
   "cell_type": "code",
   "execution_count": 21,
   "metadata": {},
   "outputs": [
    {
     "name": "stdout",
     "output_type": "stream",
     "text": [
      "Distribution of Unit: IT                           1394\n",
      "Logistics                    1173\n",
      "Sales                         943\n",
      "Operarions                    706\n",
      "R&D                           680\n",
      "Purchasing                    504\n",
      "Accounting and Finance        496\n",
      "Human Resource Management     344\n",
      "Marketing                     212\n",
      "Production                    211\n",
      "Quality                       193\n",
      "Security                      144\n",
      "Name: Unit, dtype: int64\n",
      "Missing values: 0\n"
     ]
    }
   ],
   "source": [
    "# 'Unit'\n",
    "print('Distribution of Unit:',train_data['Unit'].value_counts()) #Distribution of the cateogorical variable\n",
    "print('Missing values:',train_data['Unit'].isnull().sum()) #Check for missing value\n",
    "#There are no missing values we need not treat missing values\n",
    "# As we are trying to implement Linear model we can one-hot encode the variable\n",
    "train_data = pd.get_dummies(train_data,columns = ['Unit'],prefix =['Unit'])"
   ]
  },
  {
   "cell_type": "code",
   "execution_count": 22,
   "metadata": {},
   "outputs": [
    {
     "name": "stdout",
     "output_type": "stream",
     "text": [
      "Distribution of Unit: Conceptual    1756\n",
      "Analytical    1755\n",
      "Directive     1753\n",
      "Behavioral    1736\n",
      "Name: Decision_skill_possess, dtype: int64\n",
      "Missing values: 0\n"
     ]
    }
   ],
   "source": [
    "# 'Decision_skill_possess'\n",
    "print('Distribution of Unit:',train_data['Decision_skill_possess'].value_counts()) #Distribution of the cateogorical variable\n",
    "print('Missing values:',train_data['Decision_skill_possess'].isnull().sum()) #Check for missing value\n",
    "#There are no missing values we need not treat missing values\n",
    "# As we are trying to implement Linear model we can one-hot encode the variable\n",
    "train_data = pd.get_dummies(train_data,columns = ['Decision_skill_possess'],prefix =['Decision_skill_possess'])"
   ]
  },
  {
   "cell_type": "code",
   "execution_count": 23,
   "metadata": {},
   "outputs": [
    {
     "data": {
      "text/html": [
       "<div>\n",
       "<style scoped>\n",
       "    .dataframe tbody tr th:only-of-type {\n",
       "        vertical-align: middle;\n",
       "    }\n",
       "\n",
       "    .dataframe tbody tr th {\n",
       "        vertical-align: top;\n",
       "    }\n",
       "\n",
       "    .dataframe thead th {\n",
       "        text-align: right;\n",
       "    }\n",
       "</style>\n",
       "<table border=\"1\" class=\"dataframe\">\n",
       "  <thead>\n",
       "    <tr style=\"text-align: right;\">\n",
       "      <th></th>\n",
       "      <th>Age</th>\n",
       "      <th>Education_Level</th>\n",
       "      <th>Time_of_service</th>\n",
       "      <th>Time_since_promotion</th>\n",
       "      <th>growth_rate</th>\n",
       "      <th>Travel_Rate</th>\n",
       "      <th>Post_Level</th>\n",
       "      <th>Pay_Scale</th>\n",
       "      <th>Work_Life_balance</th>\n",
       "      <th>VAR1</th>\n",
       "      <th>VAR2</th>\n",
       "      <th>VAR3</th>\n",
       "      <th>VAR4</th>\n",
       "      <th>VAR5</th>\n",
       "      <th>VAR6</th>\n",
       "      <th>VAR7</th>\n",
       "      <th>Attrition_rate</th>\n",
       "      <th>Gender_F</th>\n",
       "      <th>Gender_M</th>\n",
       "      <th>Compensation_and_Benefits_type0</th>\n",
       "      <th>Compensation_and_Benefits_type1</th>\n",
       "      <th>Compensation_and_Benefits_type2</th>\n",
       "      <th>Compensation_and_Benefits_type3</th>\n",
       "      <th>Compensation_and_Benefits_type4</th>\n",
       "      <th>Relationship_Status_Married</th>\n",
       "      <th>Relationship_Status_Single</th>\n",
       "      <th>Hometown_Clinton</th>\n",
       "      <th>Hometown_Franklin</th>\n",
       "      <th>Hometown_Lebanon</th>\n",
       "      <th>Hometown_Springfield</th>\n",
       "      <th>Hometown_Washington</th>\n",
       "      <th>Unit_Accounting and Finance</th>\n",
       "      <th>Unit_Human Resource Management</th>\n",
       "      <th>Unit_IT</th>\n",
       "      <th>Unit_Logistics</th>\n",
       "      <th>Unit_Marketing</th>\n",
       "      <th>Unit_Operarions</th>\n",
       "      <th>Unit_Production</th>\n",
       "      <th>Unit_Purchasing</th>\n",
       "      <th>Unit_Quality</th>\n",
       "      <th>Unit_R&amp;D</th>\n",
       "      <th>Unit_Sales</th>\n",
       "      <th>Unit_Security</th>\n",
       "      <th>Decision_skill_possess_Analytical</th>\n",
       "      <th>Decision_skill_possess_Behavioral</th>\n",
       "      <th>Decision_skill_possess_Conceptual</th>\n",
       "      <th>Decision_skill_possess_Directive</th>\n",
       "    </tr>\n",
       "  </thead>\n",
       "  <tbody>\n",
       "    <tr>\n",
       "      <td>0</td>\n",
       "      <td>42.0</td>\n",
       "      <td>4</td>\n",
       "      <td>4.0</td>\n",
       "      <td>4</td>\n",
       "      <td>33</td>\n",
       "      <td>1</td>\n",
       "      <td>1</td>\n",
       "      <td>7.0</td>\n",
       "      <td>3.0</td>\n",
       "      <td>4</td>\n",
       "      <td>0.7516</td>\n",
       "      <td>1.8688</td>\n",
       "      <td>2.000000</td>\n",
       "      <td>4</td>\n",
       "      <td>5</td>\n",
       "      <td>3</td>\n",
       "      <td>0.1841</td>\n",
       "      <td>1</td>\n",
       "      <td>0</td>\n",
       "      <td>0</td>\n",
       "      <td>0</td>\n",
       "      <td>1</td>\n",
       "      <td>0</td>\n",
       "      <td>0</td>\n",
       "      <td>1</td>\n",
       "      <td>0</td>\n",
       "      <td>0</td>\n",
       "      <td>1</td>\n",
       "      <td>0</td>\n",
       "      <td>0</td>\n",
       "      <td>0</td>\n",
       "      <td>0</td>\n",
       "      <td>0</td>\n",
       "      <td>1</td>\n",
       "      <td>0</td>\n",
       "      <td>0</td>\n",
       "      <td>0</td>\n",
       "      <td>0</td>\n",
       "      <td>0</td>\n",
       "      <td>0</td>\n",
       "      <td>0</td>\n",
       "      <td>0</td>\n",
       "      <td>0</td>\n",
       "      <td>0</td>\n",
       "      <td>0</td>\n",
       "      <td>1</td>\n",
       "      <td>0</td>\n",
       "    </tr>\n",
       "    <tr>\n",
       "      <td>1</td>\n",
       "      <td>24.0</td>\n",
       "      <td>3</td>\n",
       "      <td>5.0</td>\n",
       "      <td>4</td>\n",
       "      <td>36</td>\n",
       "      <td>0</td>\n",
       "      <td>3</td>\n",
       "      <td>6.0</td>\n",
       "      <td>4.0</td>\n",
       "      <td>3</td>\n",
       "      <td>-0.9612</td>\n",
       "      <td>-0.4537</td>\n",
       "      <td>2.000000</td>\n",
       "      <td>3</td>\n",
       "      <td>5</td>\n",
       "      <td>3</td>\n",
       "      <td>0.0670</td>\n",
       "      <td>0</td>\n",
       "      <td>1</td>\n",
       "      <td>0</td>\n",
       "      <td>0</td>\n",
       "      <td>1</td>\n",
       "      <td>0</td>\n",
       "      <td>0</td>\n",
       "      <td>0</td>\n",
       "      <td>1</td>\n",
       "      <td>0</td>\n",
       "      <td>0</td>\n",
       "      <td>0</td>\n",
       "      <td>1</td>\n",
       "      <td>0</td>\n",
       "      <td>0</td>\n",
       "      <td>0</td>\n",
       "      <td>0</td>\n",
       "      <td>1</td>\n",
       "      <td>0</td>\n",
       "      <td>0</td>\n",
       "      <td>0</td>\n",
       "      <td>0</td>\n",
       "      <td>0</td>\n",
       "      <td>0</td>\n",
       "      <td>0</td>\n",
       "      <td>0</td>\n",
       "      <td>1</td>\n",
       "      <td>0</td>\n",
       "      <td>0</td>\n",
       "      <td>0</td>\n",
       "    </tr>\n",
       "    <tr>\n",
       "      <td>2</td>\n",
       "      <td>58.0</td>\n",
       "      <td>3</td>\n",
       "      <td>27.0</td>\n",
       "      <td>3</td>\n",
       "      <td>51</td>\n",
       "      <td>0</td>\n",
       "      <td>2</td>\n",
       "      <td>8.0</td>\n",
       "      <td>1.0</td>\n",
       "      <td>4</td>\n",
       "      <td>-0.9612</td>\n",
       "      <td>-0.4537</td>\n",
       "      <td>3.000000</td>\n",
       "      <td>3</td>\n",
       "      <td>8</td>\n",
       "      <td>3</td>\n",
       "      <td>0.0851</td>\n",
       "      <td>1</td>\n",
       "      <td>0</td>\n",
       "      <td>0</td>\n",
       "      <td>0</td>\n",
       "      <td>1</td>\n",
       "      <td>0</td>\n",
       "      <td>0</td>\n",
       "      <td>1</td>\n",
       "      <td>0</td>\n",
       "      <td>1</td>\n",
       "      <td>0</td>\n",
       "      <td>0</td>\n",
       "      <td>0</td>\n",
       "      <td>0</td>\n",
       "      <td>0</td>\n",
       "      <td>0</td>\n",
       "      <td>0</td>\n",
       "      <td>0</td>\n",
       "      <td>0</td>\n",
       "      <td>0</td>\n",
       "      <td>0</td>\n",
       "      <td>0</td>\n",
       "      <td>1</td>\n",
       "      <td>0</td>\n",
       "      <td>0</td>\n",
       "      <td>0</td>\n",
       "      <td>0</td>\n",
       "      <td>0</td>\n",
       "      <td>1</td>\n",
       "      <td>0</td>\n",
       "    </tr>\n",
       "    <tr>\n",
       "      <td>3</td>\n",
       "      <td>26.0</td>\n",
       "      <td>3</td>\n",
       "      <td>4.0</td>\n",
       "      <td>3</td>\n",
       "      <td>56</td>\n",
       "      <td>1</td>\n",
       "      <td>3</td>\n",
       "      <td>8.0</td>\n",
       "      <td>1.0</td>\n",
       "      <td>3</td>\n",
       "      <td>-1.8176</td>\n",
       "      <td>-0.4537</td>\n",
       "      <td>1.891078</td>\n",
       "      <td>3</td>\n",
       "      <td>7</td>\n",
       "      <td>3</td>\n",
       "      <td>0.0668</td>\n",
       "      <td>1</td>\n",
       "      <td>0</td>\n",
       "      <td>0</td>\n",
       "      <td>0</td>\n",
       "      <td>1</td>\n",
       "      <td>0</td>\n",
       "      <td>0</td>\n",
       "      <td>0</td>\n",
       "      <td>1</td>\n",
       "      <td>0</td>\n",
       "      <td>0</td>\n",
       "      <td>1</td>\n",
       "      <td>0</td>\n",
       "      <td>0</td>\n",
       "      <td>0</td>\n",
       "      <td>1</td>\n",
       "      <td>0</td>\n",
       "      <td>0</td>\n",
       "      <td>0</td>\n",
       "      <td>0</td>\n",
       "      <td>0</td>\n",
       "      <td>0</td>\n",
       "      <td>0</td>\n",
       "      <td>0</td>\n",
       "      <td>0</td>\n",
       "      <td>0</td>\n",
       "      <td>0</td>\n",
       "      <td>1</td>\n",
       "      <td>0</td>\n",
       "      <td>0</td>\n",
       "    </tr>\n",
       "    <tr>\n",
       "      <td>4</td>\n",
       "      <td>31.0</td>\n",
       "      <td>1</td>\n",
       "      <td>5.0</td>\n",
       "      <td>4</td>\n",
       "      <td>62</td>\n",
       "      <td>1</td>\n",
       "      <td>3</td>\n",
       "      <td>2.0</td>\n",
       "      <td>3.0</td>\n",
       "      <td>1</td>\n",
       "      <td>0.7516</td>\n",
       "      <td>-0.4537</td>\n",
       "      <td>2.000000</td>\n",
       "      <td>2</td>\n",
       "      <td>8</td>\n",
       "      <td>2</td>\n",
       "      <td>0.1827</td>\n",
       "      <td>1</td>\n",
       "      <td>0</td>\n",
       "      <td>0</td>\n",
       "      <td>0</td>\n",
       "      <td>0</td>\n",
       "      <td>1</td>\n",
       "      <td>0</td>\n",
       "      <td>1</td>\n",
       "      <td>0</td>\n",
       "      <td>0</td>\n",
       "      <td>0</td>\n",
       "      <td>0</td>\n",
       "      <td>1</td>\n",
       "      <td>0</td>\n",
       "      <td>0</td>\n",
       "      <td>0</td>\n",
       "      <td>0</td>\n",
       "      <td>1</td>\n",
       "      <td>0</td>\n",
       "      <td>0</td>\n",
       "      <td>0</td>\n",
       "      <td>0</td>\n",
       "      <td>0</td>\n",
       "      <td>0</td>\n",
       "      <td>0</td>\n",
       "      <td>0</td>\n",
       "      <td>0</td>\n",
       "      <td>0</td>\n",
       "      <td>1</td>\n",
       "      <td>0</td>\n",
       "    </tr>\n",
       "  </tbody>\n",
       "</table>\n",
       "</div>"
      ],
      "text/plain": [
       "    Age  Education_Level  Time_of_service  Time_since_promotion  growth_rate  \\\n",
       "0  42.0                4              4.0                     4           33   \n",
       "1  24.0                3              5.0                     4           36   \n",
       "2  58.0                3             27.0                     3           51   \n",
       "3  26.0                3              4.0                     3           56   \n",
       "4  31.0                1              5.0                     4           62   \n",
       "\n",
       "   Travel_Rate  Post_Level  Pay_Scale  Work_Life_balance  VAR1    VAR2  \\\n",
       "0            1           1        7.0                3.0     4  0.7516   \n",
       "1            0           3        6.0                4.0     3 -0.9612   \n",
       "2            0           2        8.0                1.0     4 -0.9612   \n",
       "3            1           3        8.0                1.0     3 -1.8176   \n",
       "4            1           3        2.0                3.0     1  0.7516   \n",
       "\n",
       "     VAR3      VAR4  VAR5  VAR6  VAR7  Attrition_rate  Gender_F  Gender_M  \\\n",
       "0  1.8688  2.000000     4     5     3          0.1841         1         0   \n",
       "1 -0.4537  2.000000     3     5     3          0.0670         0         1   \n",
       "2 -0.4537  3.000000     3     8     3          0.0851         1         0   \n",
       "3 -0.4537  1.891078     3     7     3          0.0668         1         0   \n",
       "4 -0.4537  2.000000     2     8     2          0.1827         1         0   \n",
       "\n",
       "   Compensation_and_Benefits_type0  Compensation_and_Benefits_type1  \\\n",
       "0                                0                                0   \n",
       "1                                0                                0   \n",
       "2                                0                                0   \n",
       "3                                0                                0   \n",
       "4                                0                                0   \n",
       "\n",
       "   Compensation_and_Benefits_type2  Compensation_and_Benefits_type3  \\\n",
       "0                                1                                0   \n",
       "1                                1                                0   \n",
       "2                                1                                0   \n",
       "3                                1                                0   \n",
       "4                                0                                1   \n",
       "\n",
       "   Compensation_and_Benefits_type4  Relationship_Status_Married  \\\n",
       "0                                0                            1   \n",
       "1                                0                            0   \n",
       "2                                0                            1   \n",
       "3                                0                            0   \n",
       "4                                0                            1   \n",
       "\n",
       "   Relationship_Status_Single  Hometown_Clinton  Hometown_Franklin  \\\n",
       "0                           0                 0                  1   \n",
       "1                           1                 0                  0   \n",
       "2                           0                 1                  0   \n",
       "3                           1                 0                  0   \n",
       "4                           0                 0                  0   \n",
       "\n",
       "   Hometown_Lebanon  Hometown_Springfield  Hometown_Washington  \\\n",
       "0                 0                     0                    0   \n",
       "1                 0                     1                    0   \n",
       "2                 0                     0                    0   \n",
       "3                 1                     0                    0   \n",
       "4                 0                     1                    0   \n",
       "\n",
       "   Unit_Accounting and Finance  Unit_Human Resource Management  Unit_IT  \\\n",
       "0                            0                               0        1   \n",
       "1                            0                               0        0   \n",
       "2                            0                               0        0   \n",
       "3                            0                               1        0   \n",
       "4                            0                               0        0   \n",
       "\n",
       "   Unit_Logistics  Unit_Marketing  Unit_Operarions  Unit_Production  \\\n",
       "0               0               0                0                0   \n",
       "1               1               0                0                0   \n",
       "2               0               0                0                0   \n",
       "3               0               0                0                0   \n",
       "4               1               0                0                0   \n",
       "\n",
       "   Unit_Purchasing  Unit_Quality  Unit_R&D  Unit_Sales  Unit_Security  \\\n",
       "0                0             0         0           0              0   \n",
       "1                0             0         0           0              0   \n",
       "2                0             1         0           0              0   \n",
       "3                0             0         0           0              0   \n",
       "4                0             0         0           0              0   \n",
       "\n",
       "   Decision_skill_possess_Analytical  Decision_skill_possess_Behavioral  \\\n",
       "0                                  0                                  0   \n",
       "1                                  1                                  0   \n",
       "2                                  0                                  0   \n",
       "3                                  0                                  1   \n",
       "4                                  0                                  0   \n",
       "\n",
       "   Decision_skill_possess_Conceptual  Decision_skill_possess_Directive  \n",
       "0                                  1                                 0  \n",
       "1                                  0                                 0  \n",
       "2                                  1                                 0  \n",
       "3                                  0                                 0  \n",
       "4                                  1                                 0  "
      ]
     },
     "execution_count": 23,
     "metadata": {},
     "output_type": "execute_result"
    }
   ],
   "source": [
    "train_data.head(5)"
   ]
  },
  {
   "cell_type": "code",
   "execution_count": 28,
   "metadata": {},
   "outputs": [],
   "source": [
    "X= train_data.drop('Attrition_rate',1)\n",
    "y = train_data.Attrition_rate"
   ]
  },
  {
   "cell_type": "code",
   "execution_count": 32,
   "metadata": {},
   "outputs": [
    {
     "data": {
      "text/plain": [
       "0    0.1841\n",
       "1    0.0670\n",
       "2    0.0851\n",
       "3    0.0668\n",
       "4    0.1827\n",
       "Name: Attrition_rate, dtype: float64"
      ]
     },
     "execution_count": 32,
     "metadata": {},
     "output_type": "execute_result"
    }
   ],
   "source": [
    "X.head(5)\n",
    "y.head(5)"
   ]
  },
  {
   "cell_type": "code",
   "execution_count": 33,
   "metadata": {},
   "outputs": [
    {
     "name": "stdout",
     "output_type": "stream",
     "text": [
      "(4900, 46)\n",
      "(4900,)\n",
      "(2100, 46)\n",
      "(2100,)\n"
     ]
    }
   ],
   "source": [
    "from sklearn.model_selection import train_test_split\n",
    "X_train,X_test,Y_train,Y_test = train_test_split(X,y,test_size =0.3, random_state = 24)\n",
    "print(X_train.shape)\n",
    "print(Y_train.shape)\n",
    "print(X_test.shape)\n",
    "print(Y_test.shape)"
   ]
  },
  {
   "cell_type": "code",
   "execution_count": 58,
   "metadata": {},
   "outputs": [],
   "source": [
    "#Implementing Lasso Regression\n",
    "from sklearn import linear_model\n",
    "lasso = linear_model.Lasso(alpha = 1.0,selection = 'random')\n",
    "lasso.fit(X_train,Y_train)\n",
    "Y_pred = lasso.predict(X_test)"
   ]
  },
  {
   "cell_type": "code",
   "execution_count": 59,
   "metadata": {},
   "outputs": [],
   "source": [
    "from sklearn.metrics import mean_squared_error\n",
    "def score(y_test,y_pred):\n",
    "    return 100*max(0,1-mean_squared_error(y_test,y_pred))"
   ]
  },
  {
   "cell_type": "code",
   "execution_count": 60,
   "metadata": {},
   "outputs": [
    {
     "data": {
      "text/plain": [
       "96.75299060152666"
      ]
     },
     "execution_count": 60,
     "metadata": {},
     "output_type": "execute_result"
    }
   ],
   "source": [
    "score(Y_test,Y_pred)"
   ]
  },
  {
   "cell_type": "code",
   "execution_count": 61,
   "metadata": {},
   "outputs": [
    {
     "data": {
      "text/html": [
       "<div>\n",
       "<style scoped>\n",
       "    .dataframe tbody tr th:only-of-type {\n",
       "        vertical-align: middle;\n",
       "    }\n",
       "\n",
       "    .dataframe tbody tr th {\n",
       "        vertical-align: top;\n",
       "    }\n",
       "\n",
       "    .dataframe thead th {\n",
       "        text-align: right;\n",
       "    }\n",
       "</style>\n",
       "<table border=\"1\" class=\"dataframe\">\n",
       "  <thead>\n",
       "    <tr style=\"text-align: right;\">\n",
       "      <th></th>\n",
       "      <th>Age</th>\n",
       "      <th>Education_Level</th>\n",
       "      <th>Time_of_service</th>\n",
       "      <th>Time_since_promotion</th>\n",
       "      <th>growth_rate</th>\n",
       "      <th>Travel_Rate</th>\n",
       "      <th>Post_Level</th>\n",
       "      <th>Pay_Scale</th>\n",
       "      <th>Work_Life_balance</th>\n",
       "      <th>VAR1</th>\n",
       "      <th>VAR2</th>\n",
       "      <th>VAR3</th>\n",
       "      <th>VAR4</th>\n",
       "      <th>VAR5</th>\n",
       "      <th>VAR6</th>\n",
       "      <th>VAR7</th>\n",
       "      <th>Gender_F</th>\n",
       "      <th>Gender_M</th>\n",
       "      <th>Relationship_Status_Married</th>\n",
       "      <th>Relationship_Status_Single</th>\n",
       "      <th>Hometown_Clinton</th>\n",
       "      <th>Hometown_Franklin</th>\n",
       "      <th>Hometown_Lebanon</th>\n",
       "      <th>Hometown_Springfield</th>\n",
       "      <th>Hometown_Washington</th>\n",
       "      <th>Unit_Accounting and Finance</th>\n",
       "      <th>Unit_Human Resource Management</th>\n",
       "      <th>Unit_IT</th>\n",
       "      <th>Unit_Logistics</th>\n",
       "      <th>Unit_Marketing</th>\n",
       "      <th>Unit_Operarions</th>\n",
       "      <th>Unit_Production</th>\n",
       "      <th>Unit_Purchasing</th>\n",
       "      <th>Unit_Quality</th>\n",
       "      <th>Unit_R&amp;D</th>\n",
       "      <th>Unit_Sales</th>\n",
       "      <th>Unit_Security</th>\n",
       "      <th>Decision_skill_possess_Analytical</th>\n",
       "      <th>Decision_skill_possess_Behavioral</th>\n",
       "      <th>Decision_skill_possess_Conceptual</th>\n",
       "      <th>Decision_skill_possess_Directive</th>\n",
       "      <th>Compensation_and_Benefits_type0</th>\n",
       "      <th>Compensation_and_Benefits_type1</th>\n",
       "      <th>Compensation_and_Benefits_type2</th>\n",
       "      <th>Compensation_and_Benefits_type3</th>\n",
       "      <th>Compensation_and_Benefits_type4</th>\n",
       "    </tr>\n",
       "  </thead>\n",
       "  <tbody>\n",
       "    <tr>\n",
       "      <td>0</td>\n",
       "      <td>32.0</td>\n",
       "      <td>5</td>\n",
       "      <td>7.0</td>\n",
       "      <td>4</td>\n",
       "      <td>30</td>\n",
       "      <td>1</td>\n",
       "      <td>5</td>\n",
       "      <td>4.0</td>\n",
       "      <td>1.0</td>\n",
       "      <td>3</td>\n",
       "      <td>-0.9612</td>\n",
       "      <td>-0.4537</td>\n",
       "      <td>2.0</td>\n",
       "      <td>1</td>\n",
       "      <td>8</td>\n",
       "      <td>4</td>\n",
       "      <td>1</td>\n",
       "      <td>0</td>\n",
       "      <td>0</td>\n",
       "      <td>1</td>\n",
       "      <td>0</td>\n",
       "      <td>0</td>\n",
       "      <td>0</td>\n",
       "      <td>1</td>\n",
       "      <td>0</td>\n",
       "      <td>0</td>\n",
       "      <td>0</td>\n",
       "      <td>0</td>\n",
       "      <td>0</td>\n",
       "      <td>0</td>\n",
       "      <td>0</td>\n",
       "      <td>0</td>\n",
       "      <td>0</td>\n",
       "      <td>0</td>\n",
       "      <td>1</td>\n",
       "      <td>0</td>\n",
       "      <td>0</td>\n",
       "      <td>0</td>\n",
       "      <td>0</td>\n",
       "      <td>1</td>\n",
       "      <td>0</td>\n",
       "      <td>0</td>\n",
       "      <td>0</td>\n",
       "      <td>1</td>\n",
       "      <td>0</td>\n",
       "      <td>0</td>\n",
       "    </tr>\n",
       "    <tr>\n",
       "      <td>1</td>\n",
       "      <td>65.0</td>\n",
       "      <td>2</td>\n",
       "      <td>41.0</td>\n",
       "      <td>2</td>\n",
       "      <td>72</td>\n",
       "      <td>1</td>\n",
       "      <td>1</td>\n",
       "      <td>1.0</td>\n",
       "      <td>1.0</td>\n",
       "      <td>4</td>\n",
       "      <td>-0.9612</td>\n",
       "      <td>0.7075</td>\n",
       "      <td>1.0</td>\n",
       "      <td>2</td>\n",
       "      <td>8</td>\n",
       "      <td>2</td>\n",
       "      <td>0</td>\n",
       "      <td>1</td>\n",
       "      <td>0</td>\n",
       "      <td>1</td>\n",
       "      <td>0</td>\n",
       "      <td>0</td>\n",
       "      <td>1</td>\n",
       "      <td>0</td>\n",
       "      <td>0</td>\n",
       "      <td>0</td>\n",
       "      <td>0</td>\n",
       "      <td>1</td>\n",
       "      <td>0</td>\n",
       "      <td>0</td>\n",
       "      <td>0</td>\n",
       "      <td>0</td>\n",
       "      <td>0</td>\n",
       "      <td>0</td>\n",
       "      <td>0</td>\n",
       "      <td>0</td>\n",
       "      <td>0</td>\n",
       "      <td>0</td>\n",
       "      <td>0</td>\n",
       "      <td>0</td>\n",
       "      <td>1</td>\n",
       "      <td>0</td>\n",
       "      <td>0</td>\n",
       "      <td>1</td>\n",
       "      <td>0</td>\n",
       "      <td>0</td>\n",
       "    </tr>\n",
       "    <tr>\n",
       "      <td>2</td>\n",
       "      <td>52.0</td>\n",
       "      <td>3</td>\n",
       "      <td>21.0</td>\n",
       "      <td>3</td>\n",
       "      <td>25</td>\n",
       "      <td>0</td>\n",
       "      <td>1</td>\n",
       "      <td>8.0</td>\n",
       "      <td>1.0</td>\n",
       "      <td>4</td>\n",
       "      <td>-0.1048</td>\n",
       "      <td>0.7075</td>\n",
       "      <td>2.0</td>\n",
       "      <td>1</td>\n",
       "      <td>9</td>\n",
       "      <td>3</td>\n",
       "      <td>0</td>\n",
       "      <td>1</td>\n",
       "      <td>1</td>\n",
       "      <td>0</td>\n",
       "      <td>0</td>\n",
       "      <td>0</td>\n",
       "      <td>0</td>\n",
       "      <td>1</td>\n",
       "      <td>0</td>\n",
       "      <td>0</td>\n",
       "      <td>0</td>\n",
       "      <td>0</td>\n",
       "      <td>0</td>\n",
       "      <td>0</td>\n",
       "      <td>0</td>\n",
       "      <td>0</td>\n",
       "      <td>0</td>\n",
       "      <td>0</td>\n",
       "      <td>0</td>\n",
       "      <td>1</td>\n",
       "      <td>0</td>\n",
       "      <td>0</td>\n",
       "      <td>0</td>\n",
       "      <td>0</td>\n",
       "      <td>1</td>\n",
       "      <td>0</td>\n",
       "      <td>0</td>\n",
       "      <td>0</td>\n",
       "      <td>1</td>\n",
       "      <td>0</td>\n",
       "    </tr>\n",
       "    <tr>\n",
       "      <td>3</td>\n",
       "      <td>50.0</td>\n",
       "      <td>5</td>\n",
       "      <td>11.0</td>\n",
       "      <td>4</td>\n",
       "      <td>28</td>\n",
       "      <td>1</td>\n",
       "      <td>1</td>\n",
       "      <td>2.0</td>\n",
       "      <td>4.0</td>\n",
       "      <td>3</td>\n",
       "      <td>-0.1048</td>\n",
       "      <td>0.7075</td>\n",
       "      <td>2.0</td>\n",
       "      <td>2</td>\n",
       "      <td>8</td>\n",
       "      <td>3</td>\n",
       "      <td>0</td>\n",
       "      <td>1</td>\n",
       "      <td>0</td>\n",
       "      <td>1</td>\n",
       "      <td>0</td>\n",
       "      <td>0</td>\n",
       "      <td>0</td>\n",
       "      <td>0</td>\n",
       "      <td>1</td>\n",
       "      <td>0</td>\n",
       "      <td>0</td>\n",
       "      <td>0</td>\n",
       "      <td>0</td>\n",
       "      <td>1</td>\n",
       "      <td>0</td>\n",
       "      <td>0</td>\n",
       "      <td>0</td>\n",
       "      <td>0</td>\n",
       "      <td>0</td>\n",
       "      <td>0</td>\n",
       "      <td>0</td>\n",
       "      <td>1</td>\n",
       "      <td>0</td>\n",
       "      <td>0</td>\n",
       "      <td>0</td>\n",
       "      <td>1</td>\n",
       "      <td>0</td>\n",
       "      <td>0</td>\n",
       "      <td>0</td>\n",
       "      <td>0</td>\n",
       "    </tr>\n",
       "    <tr>\n",
       "      <td>4</td>\n",
       "      <td>44.0</td>\n",
       "      <td>3</td>\n",
       "      <td>12.0</td>\n",
       "      <td>4</td>\n",
       "      <td>47</td>\n",
       "      <td>1</td>\n",
       "      <td>3</td>\n",
       "      <td>2.0</td>\n",
       "      <td>4.0</td>\n",
       "      <td>4</td>\n",
       "      <td>1.6081</td>\n",
       "      <td>0.7075</td>\n",
       "      <td>2.0</td>\n",
       "      <td>2</td>\n",
       "      <td>7</td>\n",
       "      <td>4</td>\n",
       "      <td>1</td>\n",
       "      <td>0</td>\n",
       "      <td>1</td>\n",
       "      <td>0</td>\n",
       "      <td>0</td>\n",
       "      <td>1</td>\n",
       "      <td>0</td>\n",
       "      <td>0</td>\n",
       "      <td>0</td>\n",
       "      <td>0</td>\n",
       "      <td>0</td>\n",
       "      <td>0</td>\n",
       "      <td>0</td>\n",
       "      <td>0</td>\n",
       "      <td>0</td>\n",
       "      <td>0</td>\n",
       "      <td>0</td>\n",
       "      <td>0</td>\n",
       "      <td>1</td>\n",
       "      <td>0</td>\n",
       "      <td>0</td>\n",
       "      <td>0</td>\n",
       "      <td>0</td>\n",
       "      <td>1</td>\n",
       "      <td>0</td>\n",
       "      <td>0</td>\n",
       "      <td>0</td>\n",
       "      <td>1</td>\n",
       "      <td>0</td>\n",
       "      <td>0</td>\n",
       "    </tr>\n",
       "  </tbody>\n",
       "</table>\n",
       "</div>"
      ],
      "text/plain": [
       "    Age  Education_Level  Time_of_service  Time_since_promotion  growth_rate  \\\n",
       "0  32.0                5              7.0                     4           30   \n",
       "1  65.0                2             41.0                     2           72   \n",
       "2  52.0                3             21.0                     3           25   \n",
       "3  50.0                5             11.0                     4           28   \n",
       "4  44.0                3             12.0                     4           47   \n",
       "\n",
       "   Travel_Rate  Post_Level  Pay_Scale  Work_Life_balance  VAR1    VAR2  \\\n",
       "0            1           5        4.0                1.0     3 -0.9612   \n",
       "1            1           1        1.0                1.0     4 -0.9612   \n",
       "2            0           1        8.0                1.0     4 -0.1048   \n",
       "3            1           1        2.0                4.0     3 -0.1048   \n",
       "4            1           3        2.0                4.0     4  1.6081   \n",
       "\n",
       "     VAR3  VAR4  VAR5  VAR6  VAR7  Gender_F  Gender_M  \\\n",
       "0 -0.4537   2.0     1     8     4         1         0   \n",
       "1  0.7075   1.0     2     8     2         0         1   \n",
       "2  0.7075   2.0     1     9     3         0         1   \n",
       "3  0.7075   2.0     2     8     3         0         1   \n",
       "4  0.7075   2.0     2     7     4         1         0   \n",
       "\n",
       "   Relationship_Status_Married  Relationship_Status_Single  Hometown_Clinton  \\\n",
       "0                            0                           1                 0   \n",
       "1                            0                           1                 0   \n",
       "2                            1                           0                 0   \n",
       "3                            0                           1                 0   \n",
       "4                            1                           0                 0   \n",
       "\n",
       "   Hometown_Franklin  Hometown_Lebanon  Hometown_Springfield  \\\n",
       "0                  0                 0                     1   \n",
       "1                  0                 1                     0   \n",
       "2                  0                 0                     1   \n",
       "3                  0                 0                     0   \n",
       "4                  1                 0                     0   \n",
       "\n",
       "   Hometown_Washington  Unit_Accounting and Finance  \\\n",
       "0                    0                            0   \n",
       "1                    0                            0   \n",
       "2                    0                            0   \n",
       "3                    1                            0   \n",
       "4                    0                            0   \n",
       "\n",
       "   Unit_Human Resource Management  Unit_IT  Unit_Logistics  Unit_Marketing  \\\n",
       "0                               0        0               0               0   \n",
       "1                               0        1               0               0   \n",
       "2                               0        0               0               0   \n",
       "3                               0        0               0               1   \n",
       "4                               0        0               0               0   \n",
       "\n",
       "   Unit_Operarions  Unit_Production  Unit_Purchasing  Unit_Quality  Unit_R&D  \\\n",
       "0                0                0                0             0         1   \n",
       "1                0                0                0             0         0   \n",
       "2                0                0                0             0         0   \n",
       "3                0                0                0             0         0   \n",
       "4                0                0                0             0         1   \n",
       "\n",
       "   Unit_Sales  Unit_Security  Decision_skill_possess_Analytical  \\\n",
       "0           0              0                                  0   \n",
       "1           0              0                                  0   \n",
       "2           1              0                                  0   \n",
       "3           0              0                                  1   \n",
       "4           0              0                                  0   \n",
       "\n",
       "   Decision_skill_possess_Behavioral  Decision_skill_possess_Conceptual  \\\n",
       "0                                  0                                  1   \n",
       "1                                  0                                  0   \n",
       "2                                  0                                  0   \n",
       "3                                  0                                  0   \n",
       "4                                  0                                  1   \n",
       "\n",
       "   Decision_skill_possess_Directive  Compensation_and_Benefits_type0  \\\n",
       "0                                 0                                0   \n",
       "1                                 1                                0   \n",
       "2                                 1                                0   \n",
       "3                                 0                                1   \n",
       "4                                 0                                0   \n",
       "\n",
       "   Compensation_and_Benefits_type1  Compensation_and_Benefits_type2  \\\n",
       "0                                0                                1   \n",
       "1                                0                                1   \n",
       "2                                0                                0   \n",
       "3                                0                                0   \n",
       "4                                0                                1   \n",
       "\n",
       "   Compensation_and_Benefits_type3  Compensation_and_Benefits_type4  \n",
       "0                                0                                0  \n",
       "1                                0                                0  \n",
       "2                                1                                0  \n",
       "3                                0                                0  \n",
       "4                                0                                0  "
      ]
     },
     "execution_count": 61,
     "metadata": {},
     "output_type": "execute_result"
    }
   ],
   "source": [
    "#Treating Test data\n",
    "test_data = test\n",
    "test_data = test_data.drop('Employee_ID',1)\n",
    "test_data = pd.get_dummies(test_data)\n",
    "#Replacing missing values in test with mean\n",
    "test_data.fillna(test_data.mean(),inplace = True)\n",
    "test_data.isnull().sum()\n",
    "test_data.head(5)"
   ]
  },
  {
   "cell_type": "code",
   "execution_count": 62,
   "metadata": {},
   "outputs": [],
   "source": [
    "test_predict = lasso.predict(test_data)"
   ]
  },
  {
   "cell_type": "code",
   "execution_count": 63,
   "metadata": {},
   "outputs": [
    {
     "data": {
      "text/plain": [
       "(3000,)"
      ]
     },
     "execution_count": 63,
     "metadata": {},
     "output_type": "execute_result"
    }
   ],
   "source": [
    "test_predict.shape"
   ]
  },
  {
   "cell_type": "code",
   "execution_count": 64,
   "metadata": {},
   "outputs": [],
   "source": [
    "submission=pd.DataFrame(test_predict, columns=['Attrition_rate']) "
   ]
  },
  {
   "cell_type": "code",
   "execution_count": 65,
   "metadata": {},
   "outputs": [
    {
     "data": {
      "text/html": [
       "<div>\n",
       "<style scoped>\n",
       "    .dataframe tbody tr th:only-of-type {\n",
       "        vertical-align: middle;\n",
       "    }\n",
       "\n",
       "    .dataframe tbody tr th {\n",
       "        vertical-align: top;\n",
       "    }\n",
       "\n",
       "    .dataframe thead th {\n",
       "        text-align: right;\n",
       "    }\n",
       "</style>\n",
       "<table border=\"1\" class=\"dataframe\">\n",
       "  <thead>\n",
       "    <tr style=\"text-align: right;\">\n",
       "      <th></th>\n",
       "      <th>Attrition_rate</th>\n",
       "      <th>Employee_ID</th>\n",
       "    </tr>\n",
       "  </thead>\n",
       "  <tbody>\n",
       "    <tr>\n",
       "      <td>0</td>\n",
       "      <td>0.192173</td>\n",
       "      <td>EID_22713</td>\n",
       "    </tr>\n",
       "    <tr>\n",
       "      <td>1</td>\n",
       "      <td>0.192173</td>\n",
       "      <td>EID_9658</td>\n",
       "    </tr>\n",
       "  </tbody>\n",
       "</table>\n",
       "</div>"
      ],
      "text/plain": [
       "   Attrition_rate Employee_ID\n",
       "0        0.192173   EID_22713\n",
       "1        0.192173    EID_9658"
      ]
     },
     "execution_count": 65,
     "metadata": {},
     "output_type": "execute_result"
    }
   ],
   "source": [
    "submission['Employee_ID']= test['Employee_ID']\n",
    "submission.head(2)"
   ]
  },
  {
   "cell_type": "code",
   "execution_count": 66,
   "metadata": {},
   "outputs": [],
   "source": [
    "pd.DataFrame(submission,columns = ['Employee_ID','Attrition_rate']).to_csv('Lasso.csv',index = False)"
   ]
  },
  {
   "cell_type": "code",
   "execution_count": null,
   "metadata": {},
   "outputs": [],
   "source": []
  },
  {
   "cell_type": "code",
   "execution_count": null,
   "metadata": {},
   "outputs": [],
   "source": []
  },
  {
   "cell_type": "code",
   "execution_count": null,
   "metadata": {},
   "outputs": [],
   "source": []
  },
  {
   "cell_type": "code",
   "execution_count": null,
   "metadata": {},
   "outputs": [],
   "source": []
  },
  {
   "cell_type": "code",
   "execution_count": null,
   "metadata": {},
   "outputs": [],
   "source": []
  },
  {
   "cell_type": "code",
   "execution_count": null,
   "metadata": {},
   "outputs": [],
   "source": []
  },
  {
   "cell_type": "code",
   "execution_count": null,
   "metadata": {},
   "outputs": [],
   "source": []
  },
  {
   "cell_type": "code",
   "execution_count": null,
   "metadata": {},
   "outputs": [],
   "source": []
  },
  {
   "cell_type": "code",
   "execution_count": null,
   "metadata": {},
   "outputs": [],
   "source": []
  },
  {
   "cell_type": "code",
   "execution_count": null,
   "metadata": {},
   "outputs": [],
   "source": []
  },
  {
   "cell_type": "code",
   "execution_count": null,
   "metadata": {},
   "outputs": [],
   "source": []
  },
  {
   "cell_type": "code",
   "execution_count": null,
   "metadata": {},
   "outputs": [],
   "source": []
  },
  {
   "cell_type": "code",
   "execution_count": null,
   "metadata": {},
   "outputs": [],
   "source": []
  },
  {
   "cell_type": "code",
   "execution_count": null,
   "metadata": {},
   "outputs": [],
   "source": []
  },
  {
   "cell_type": "code",
   "execution_count": null,
   "metadata": {},
   "outputs": [],
   "source": []
  },
  {
   "cell_type": "code",
   "execution_count": null,
   "metadata": {},
   "outputs": [],
   "source": []
  }
 ],
 "metadata": {
  "kernelspec": {
   "display_name": "Python 3",
   "language": "python",
   "name": "python3"
  },
  "language_info": {
   "codemirror_mode": {
    "name": "ipython",
    "version": 3
   },
   "file_extension": ".py",
   "mimetype": "text/x-python",
   "name": "python",
   "nbconvert_exporter": "python",
   "pygments_lexer": "ipython3",
   "version": "3.7.4"
  }
 },
 "nbformat": 4,
 "nbformat_minor": 2
}
