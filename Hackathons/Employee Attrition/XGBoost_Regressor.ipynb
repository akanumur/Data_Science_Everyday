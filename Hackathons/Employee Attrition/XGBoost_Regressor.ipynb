{
 "cells": [
  {
   "cell_type": "markdown",
   "metadata": {},
   "source": [
    "## Predict the employee attrition rate in organizations\n",
    "\n",
    "### ABOUT CHALLENGE\n",
    "\n",
    "### Problem statement\n",
    "\n",
    "Employees certainly are the most important asset of an organization. They are the ones working behind the scenes to ensure that your business functions seamlessly like a well-oiled machine. Hiring the best fit for an organization and ensuring that they stick with the company are two sides of the same coin. Employee attrition not only may lead to a minor hitch in the system, but it is also a major cost to the organization.\n",
    "\n",
    "The Human Resources department of your organization is determined to predict the employee attrition rate in advance and put a corrective plan of action in place. As a Machine Learning Specialist, the HR team has requested you to build a sophisticated model that predicts the organization’s attrition rate.\n",
    "\n",
    "### Dataset\n",
    "\n",
    "The dataset consists of various details such as gender and age of the employee, education and relationship status, pay scale, and other factors that may influence the attrition rate.\n",
    "\n",
    "The benefits of practicing this problem by using Machine Learning techniques are as follows:\n",
    "\n",
    "- This challenge will encourage you to apply your Machine Learning skills to build models that can predict employee attrition rates.\n",
    "- This challenge will help you enhance your knowledge of regression. Regression is one of the basic building blocks of Machine Learning.\n",
    "We challenge you to build a model that computes the attrition rate for an employee working in an organization.\n",
    "\n",
    "- Train.csv\n",
    "- Test.csv\n",
    "- sample_submission.csv\n",
    "\n",
    "### Data Description\n",
    "\n",
    "- __Employee_ID__:\tUnique ID of each employee\n",
    "- __Age__:\tAge of each employee\n",
    "- __Unit__:\tDepartment under which the employee work\n",
    "- __Education__:\tRating of Qualification of an employee (1-5)\n",
    "- __Gender__\tMale-0 or Female-1\n",
    "- __Decision_skill_possess__\tDecision skill that an employee possesses\n",
    "- __Post_Level__\tLevel of the post in an organization (1-5)\n",
    "- __Relationship_Status__\tCategorical Married or Single \n",
    "- __Pay_Scale__\tRate in between 1 to 10\n",
    "- __Time_of_service__\tYears in the organization\n",
    "- __growth_rate__\tGrowth rate in percentage of an employee\n",
    "- __Time_since_promotion__\tTime in years since the last promotion\n",
    "- __Work_Life_balance__\tRating for work-life balance given by an employee.\n",
    "- __Travel_Rate__\tRating based on travel history(1-3)\n",
    "- __Hometown__\tName of the city\n",
    "- __Compensation_and_Benefits__\tCategorical Variabe\n",
    "- __VAR1 - VAR5__\tAnominised variables\n",
    "- __Attrition_rate(TARGET VARIABLE)__\tAttrition rate of each employee\n",
    "\n",
    "### Submission format\n",
    "You are required to write your predictions in a .csv file that contain the following columns:\n",
    "\n",
    "Employee_ID\n",
    "\n",
    "Attrition_rate\n",
    "\n",
    "### Evaluation criteria\n",
    "The evaluation metric that is used for this problem is the root mean squared error. The formula is as follows:\n",
    " \n",
    " score = 100 * max(0,1 - root_mean_squared_error(actual_values,predicted_values))"
   ]
  },
  {
   "cell_type": "code",
   "execution_count": 1,
   "metadata": {},
   "outputs": [],
   "source": [
    "import numpy as np # linear algebra\n",
    "import pandas as pd # data processing, CSV file I/O (e.g. pd.read_csv)\n",
    "import xgboost\n",
    "import csv as csv\n",
    "from xgboost import plot_importance\n",
    "from matplotlib import pyplot\n",
    "from sklearn.model_selection import cross_val_score,KFold,train_test_split,GridSearchCV \n",
    "from sklearn.metrics import mean_absolute_error\n",
    "import matplotlib.pyplot as plt\n",
    "from scipy.stats import skew\n",
    "from collections import OrderedDict"
   ]
  },
  {
   "cell_type": "code",
   "execution_count": 2,
   "metadata": {},
   "outputs": [
    {
     "name": "stdout",
     "output_type": "stream",
     "text": [
      "Index(['Gender', 'Age', 'Education_Level', 'Relationship_Status', 'Hometown',\n",
      "       'Unit', 'Decision_skill_possess', 'Time_of_service',\n",
      "       'Time_since_promotion', 'growth_rate', 'Travel_Rate', 'Post_Level',\n",
      "       'Pay_Scale', 'Compensation_and_Benefits', 'Work_Life_balance', 'VAR1',\n",
      "       'VAR2', 'VAR3', 'VAR4', 'VAR5', 'VAR6', 'VAR7', 'Attrition_rate'],\n",
      "      dtype='object')\n",
      "            Gender   Age  Education_Level Relationship_Status     Hometown  \\\n",
      "Employee_ID                                                                  \n",
      "EID_23371        F  42.0                4             Married     Franklin   \n",
      "EID_18000        M  24.0                3              Single  Springfield   \n",
      "EID_3891         F  58.0                3             Married      Clinton   \n",
      "EID_17492        F  26.0                3              Single      Lebanon   \n",
      "EID_22534        F  31.0                1             Married  Springfield   \n",
      "\n",
      "                                  Unit Decision_skill_possess  \\\n",
      "Employee_ID                                                     \n",
      "EID_23371                           IT             Conceptual   \n",
      "EID_18000                    Logistics             Analytical   \n",
      "EID_3891                       Quality             Conceptual   \n",
      "EID_17492    Human Resource Management             Behavioral   \n",
      "EID_22534                    Logistics             Conceptual   \n",
      "\n",
      "             Time_of_service  Time_since_promotion  growth_rate  Travel_Rate  \\\n",
      "Employee_ID                                                                    \n",
      "EID_23371                4.0                     4           33            1   \n",
      "EID_18000                5.0                     4           36            0   \n",
      "EID_3891                27.0                     3           51            0   \n",
      "EID_17492                4.0                     3           56            1   \n",
      "EID_22534                5.0                     4           62            1   \n",
      "\n",
      "             Post_Level  Pay_Scale Compensation_and_Benefits  \\\n",
      "Employee_ID                                                    \n",
      "EID_23371             1        7.0                     type2   \n",
      "EID_18000             3        6.0                     type2   \n",
      "EID_3891              2        8.0                     type2   \n",
      "EID_17492             3        8.0                     type2   \n",
      "EID_22534             3        2.0                     type3   \n",
      "\n",
      "             Work_Life_balance  VAR1    VAR2    VAR3  VAR4  VAR5  VAR6  VAR7  \\\n",
      "Employee_ID                                                                    \n",
      "EID_23371                  3.0     4  0.7516  1.8688   2.0     4     5     3   \n",
      "EID_18000                  4.0     3 -0.9612 -0.4537   2.0     3     5     3   \n",
      "EID_3891                   1.0     4 -0.9612 -0.4537   3.0     3     8     3   \n",
      "EID_17492                  1.0     3 -1.8176 -0.4537   NaN     3     7     3   \n",
      "EID_22534                  3.0     1  0.7516 -0.4537   2.0     2     8     2   \n",
      "\n",
      "             Attrition_rate  \n",
      "Employee_ID                  \n",
      "EID_23371            0.1841  \n",
      "EID_18000            0.0670  \n",
      "EID_3891             0.0851  \n",
      "EID_17492            0.0668  \n",
      "EID_22534            0.1827  \n"
     ]
    }
   ],
   "source": [
    "#Importing the dataset\n",
    "train = pd.read_csv('./Dataset/Train.csv')\n",
    "pd.set_option('display.max_columns', None)\n",
    "train_data = train\n",
    "train_data.shape\n",
    "train_data.set_index('Employee_ID',inplace= True)\n",
    "print(train.columns)\n",
    "print(train.head())"
   ]
  },
  {
   "cell_type": "code",
   "execution_count": 3,
   "metadata": {},
   "outputs": [
    {
     "name": "stdout",
     "output_type": "stream",
     "text": [
      "Index(['Gender', 'Age', 'Education_Level', 'Relationship_Status', 'Hometown',\n",
      "       'Unit', 'Decision_skill_possess', 'Time_of_service',\n",
      "       'Time_since_promotion', 'growth_rate', 'Travel_Rate', 'Post_Level',\n",
      "       'Pay_Scale', 'Compensation_and_Benefits', 'Work_Life_balance', 'VAR1',\n",
      "       'VAR2', 'VAR3', 'VAR4', 'VAR5', 'VAR6', 'VAR7', 'Attrition_rate'],\n",
      "      dtype='object')\n",
      "            Gender   Age  Education_Level Relationship_Status     Hometown  \\\n",
      "Employee_ID                                                                  \n",
      "EID_22713        F  32.0                5              Single  Springfield   \n",
      "EID_9658         M  65.0                2              Single      Lebanon   \n",
      "EID_22203        M  52.0                3             Married  Springfield   \n",
      "EID_7652         M  50.0                5              Single   Washington   \n",
      "EID_6516         F  44.0                3             Married     Franklin   \n",
      "\n",
      "                  Unit Decision_skill_possess  Time_of_service  \\\n",
      "Employee_ID                                                      \n",
      "EID_22713          R&D             Conceptual              7.0   \n",
      "EID_9658            IT              Directive             41.0   \n",
      "EID_22203        Sales              Directive             21.0   \n",
      "EID_7652     Marketing             Analytical             11.0   \n",
      "EID_6516           R&D             Conceptual             12.0   \n",
      "\n",
      "             Time_since_promotion  growth_rate  Travel_Rate  Post_Level  \\\n",
      "Employee_ID                                                               \n",
      "EID_22713                       4           30            1           5   \n",
      "EID_9658                        2           72            1           1   \n",
      "EID_22203                       3           25            0           1   \n",
      "EID_7652                        4           28            1           1   \n",
      "EID_6516                        4           47            1           3   \n",
      "\n",
      "             Pay_Scale Compensation_and_Benefits  Work_Life_balance  VAR1  \\\n",
      "Employee_ID                                                                 \n",
      "EID_22713          4.0                     type2                1.0     3   \n",
      "EID_9658           1.0                     type2                1.0     4   \n",
      "EID_22203          8.0                     type3                1.0     4   \n",
      "EID_7652           2.0                     type0                4.0     3   \n",
      "EID_6516           2.0                     type2                4.0     4   \n",
      "\n",
      "               VAR2    VAR3  VAR4  VAR5  VAR6  VAR7  Attrition_rate  \n",
      "Employee_ID                                                          \n",
      "EID_22713   -0.9612 -0.4537   2.0     1     8     4               0  \n",
      "EID_9658    -0.9612  0.7075   1.0     2     8     2               0  \n",
      "EID_22203   -0.1048  0.7075   2.0     1     9     3               0  \n",
      "EID_7652    -0.1048  0.7075   2.0     2     8     3               0  \n",
      "EID_6516     1.6081  0.7075   2.0     2     7     4               0  \n"
     ]
    }
   ],
   "source": [
    "#Read the test datasets\n",
    "test = pd.read_csv('./Dataset/Test.csv')\n",
    "pd.set_option('display.max_columns', None)\n",
    "test_data = test\n",
    "test_data.shape\n",
    "test_data.set_index('Employee_ID',inplace= True)\n",
    "#Creating a fake value for attrition_rate\n",
    "test_data['Attrition_rate'] = 0\n",
    "print(test.columns)\n",
    "print(test.head())"
   ]
  },
  {
   "cell_type": "code",
   "execution_count": 4,
   "metadata": {},
   "outputs": [
    {
     "data": {
      "text/plain": [
       "(10000, 23)"
      ]
     },
     "execution_count": 4,
     "metadata": {},
     "output_type": "execute_result"
    }
   ],
   "source": [
    "##Merging the train and test dataset\n",
    "complete = pd.concat([train_data,test_data])\n",
    "complete.shape"
   ]
  },
  {
   "cell_type": "code",
   "execution_count": 5,
   "metadata": {},
   "outputs": [
    {
     "data": {
      "text/plain": [
       "count     10000\n",
       "unique        2\n",
       "top           F\n",
       "freq       5842\n",
       "Name: Gender, dtype: object"
      ]
     },
     "execution_count": 5,
     "metadata": {},
     "output_type": "execute_result"
    }
   ],
   "source": [
    "complete['Gender'].describe()"
   ]
  },
  {
   "cell_type": "code",
   "execution_count": 6,
   "metadata": {},
   "outputs": [
    {
     "name": "stdout",
     "output_type": "stream",
     "text": [
      "573\n"
     ]
    },
    {
     "data": {
      "text/plain": [
       "count    9427.000000\n",
       "mean       39.675507\n",
       "std        13.574856\n",
       "min        19.000000\n",
       "25%        27.000000\n",
       "50%        38.000000\n",
       "75%        52.000000\n",
       "max        65.000000\n",
       "Name: Age, dtype: float64"
      ]
     },
     "execution_count": 6,
     "metadata": {},
     "output_type": "execute_result"
    }
   ],
   "source": [
    "print(complete['Age'].isnull().sum()) #There are 573 missing values in Age column\n",
    "complete['Age'].describe()"
   ]
  },
  {
   "cell_type": "code",
   "execution_count": 7,
   "metadata": {},
   "outputs": [],
   "source": [
    "#Instead of Age let us consider Age_band based on the above output\n",
    "def findBand(Age):\n",
    "    if Age <=27:\n",
    "        return 1\n",
    "    elif Age>27 and Age<=38:\n",
    "        return 2\n",
    "    elif Age>38 and Age<=52:\n",
    "        return 3\n",
    "    else:\n",
    "        return 4\n",
    "    \n",
    "complete['band'] = complete['Age'].apply(findBand)"
   ]
  },
  {
   "cell_type": "code",
   "execution_count": 8,
   "metadata": {},
   "outputs": [
    {
     "name": "stdout",
     "output_type": "stream",
     "text": [
      "0\n"
     ]
    },
    {
     "data": {
      "text/plain": [
       "count    10000.000000\n",
       "mean         3.199400\n",
       "std          1.065436\n",
       "min          1.000000\n",
       "25%          3.000000\n",
       "50%          3.000000\n",
       "75%          4.000000\n",
       "max          5.000000\n",
       "Name: Education_Level, dtype: float64"
      ]
     },
     "execution_count": 8,
     "metadata": {},
     "output_type": "execute_result"
    }
   ],
   "source": [
    "print(complete['Education_Level'].isnull().sum()) #There are 573 missing values in Age column\n",
    "complete['Education_Level'].describe()"
   ]
  },
  {
   "cell_type": "code",
   "execution_count": 9,
   "metadata": {},
   "outputs": [
    {
     "name": "stdout",
     "output_type": "stream",
     "text": [
      "0\n"
     ]
    },
    {
     "data": {
      "text/plain": [
       "count       10000\n",
       "unique          2\n",
       "top       Married\n",
       "freq         6461\n",
       "Name: Relationship_Status, dtype: object"
      ]
     },
     "execution_count": 9,
     "metadata": {},
     "output_type": "execute_result"
    }
   ],
   "source": [
    "print(complete['Relationship_Status'].isnull().sum()) #There are no missing values in Relationship_Status column\n",
    "complete['Relationship_Status'].describe()"
   ]
  },
  {
   "cell_type": "code",
   "execution_count": 10,
   "metadata": {},
   "outputs": [
    {
     "name": "stdout",
     "output_type": "stream",
     "text": [
      "0\n"
     ]
    },
    {
     "data": {
      "text/plain": [
       "count       10000\n",
       "unique          2\n",
       "top       Married\n",
       "freq         6461\n",
       "Name: Relationship_Status, dtype: object"
      ]
     },
     "execution_count": 10,
     "metadata": {},
     "output_type": "execute_result"
    }
   ],
   "source": [
    "print(complete['Relationship_Status'].isnull().sum()) #There are no missing values in Relationship_Status column\n",
    "complete['Relationship_Status'].describe()"
   ]
  },
  {
   "cell_type": "code",
   "execution_count": 11,
   "metadata": {},
   "outputs": [
    {
     "name": "stdout",
     "output_type": "stream",
     "text": [
      "0\n"
     ]
    },
    {
     "data": {
      "text/plain": [
       "count       10000\n",
       "unique          5\n",
       "top       Lebanon\n",
       "freq         2953\n",
       "Name: Hometown, dtype: object"
      ]
     },
     "execution_count": 11,
     "metadata": {},
     "output_type": "execute_result"
    }
   ],
   "source": [
    "print(complete['Hometown'].isnull().sum()) #There are no missing values in Relationship_Status column\n",
    "complete['Hometown'].describe()"
   ]
  },
  {
   "cell_type": "code",
   "execution_count": 12,
   "metadata": {},
   "outputs": [
    {
     "name": "stdout",
     "output_type": "stream",
     "text": [
      "0\n"
     ]
    },
    {
     "data": {
      "text/plain": [
       "count     10000\n",
       "unique       12\n",
       "top          IT\n",
       "freq       1963\n",
       "Name: Unit, dtype: object"
      ]
     },
     "execution_count": 12,
     "metadata": {},
     "output_type": "execute_result"
    }
   ],
   "source": [
    "print(complete['Unit'].isnull().sum()) #There are no missing values in Relationship_Status column\n",
    "complete['Unit'].describe()"
   ]
  },
  {
   "cell_type": "code",
   "execution_count": 13,
   "metadata": {},
   "outputs": [
    {
     "name": "stdout",
     "output_type": "stream",
     "text": [
      "0\n"
     ]
    },
    {
     "data": {
      "text/plain": [
       "count          10000\n",
       "unique             4\n",
       "top       Behavioral\n",
       "freq            2535\n",
       "Name: Decision_skill_possess, dtype: object"
      ]
     },
     "execution_count": 13,
     "metadata": {},
     "output_type": "execute_result"
    }
   ],
   "source": [
    "print(complete['Decision_skill_possess'].isnull().sum())\n",
    "complete['Decision_skill_possess'].describe()"
   ]
  },
  {
   "cell_type": "code",
   "execution_count": 14,
   "metadata": {},
   "outputs": [
    {
     "name": "stdout",
     "output_type": "stream",
     "text": [
      "196\n",
      "0\n"
     ]
    }
   ],
   "source": [
    "print(complete['Time_of_service'].isnull().sum()) #There are 196 missing values\n",
    "complete['Time_of_service'].describe()\n",
    "complete['Time_of_service'].fillna((complete['Time_of_service'].mean()), inplace=True)\n",
    "print(complete['Time_of_service'].isnull().sum())"
   ]
  },
  {
   "cell_type": "code",
   "execution_count": 15,
   "metadata": {},
   "outputs": [
    {
     "name": "stdout",
     "output_type": "stream",
     "text": [
      "Missing values: 0\n"
     ]
    },
    {
     "data": {
      "text/plain": [
       "count    10000.00000\n",
       "mean         2.37860\n",
       "std          1.14978\n",
       "min          0.00000\n",
       "25%          1.00000\n",
       "50%          2.00000\n",
       "75%          3.00000\n",
       "max          4.00000\n",
       "Name: Time_since_promotion, dtype: float64"
      ]
     },
     "execution_count": 15,
     "metadata": {},
     "output_type": "execute_result"
    }
   ],
   "source": [
    "print('Missing values:',complete['Time_since_promotion'].isnull().sum()) #There are 196 missing values\n",
    "complete['Time_since_promotion'].describe()"
   ]
  },
  {
   "cell_type": "code",
   "execution_count": 16,
   "metadata": {},
   "outputs": [
    {
     "name": "stdout",
     "output_type": "stream",
     "text": [
      "Missing values: 0\n"
     ]
    },
    {
     "data": {
      "text/plain": [
       "count    10000.000000\n",
       "mean        47.008400\n",
       "std         15.848553\n",
       "min         20.000000\n",
       "25%         33.000000\n",
       "50%         47.000000\n",
       "75%         61.000000\n",
       "max         74.000000\n",
       "Name: growth_rate, dtype: float64"
      ]
     },
     "execution_count": 16,
     "metadata": {},
     "output_type": "execute_result"
    }
   ],
   "source": [
    "print('Missing values:',complete['growth_rate'].isnull().sum()) #There are 196 missing values\n",
    "complete['growth_rate'].describe()"
   ]
  },
  {
   "cell_type": "code",
   "execution_count": 17,
   "metadata": {},
   "outputs": [
    {
     "name": "stdout",
     "output_type": "stream",
     "text": [
      "Missing values: 0\n"
     ]
    },
    {
     "data": {
      "text/plain": [
       "count    10000.000000\n",
       "mean         0.820700\n",
       "std          0.646524\n",
       "min          0.000000\n",
       "25%          0.000000\n",
       "50%          1.000000\n",
       "75%          1.000000\n",
       "max          2.000000\n",
       "Name: Travel_Rate, dtype: float64"
      ]
     },
     "execution_count": 17,
     "metadata": {},
     "output_type": "execute_result"
    }
   ],
   "source": [
    "print('Missing values:',complete['Travel_Rate'].isnull().sum()) #There are 196 missing values\n",
    "complete['Travel_Rate'].describe()"
   ]
  },
  {
   "cell_type": "code",
   "execution_count": 18,
   "metadata": {},
   "outputs": [
    {
     "name": "stdout",
     "output_type": "stream",
     "text": [
      "Missing values: 0\n"
     ]
    },
    {
     "data": {
      "text/plain": [
       "count    10000.000000\n",
       "mean         2.797000\n",
       "std          1.171037\n",
       "min          1.000000\n",
       "25%          2.000000\n",
       "50%          3.000000\n",
       "75%          4.000000\n",
       "max          5.000000\n",
       "Name: Post_Level, dtype: float64"
      ]
     },
     "execution_count": 18,
     "metadata": {},
     "output_type": "execute_result"
    }
   ],
   "source": [
    "print('Missing values:',complete['Post_Level'].isnull().sum()) #There are 196 missing values\n",
    "complete['Post_Level'].describe()"
   ]
  },
  {
   "cell_type": "code",
   "execution_count": 19,
   "metadata": {},
   "outputs": [
    {
     "name": "stdout",
     "output_type": "stream",
     "text": [
      "Missing values: 12\n",
      "count    9988.000000\n",
      "mean        6.022627\n",
      "std         2.070087\n",
      "min         1.000000\n",
      "25%         5.000000\n",
      "50%         6.000000\n",
      "75%         8.000000\n",
      "max        10.000000\n",
      "Name: Pay_Scale, dtype: float64\n"
     ]
    }
   ],
   "source": [
    "print('Missing values:',complete['Pay_Scale'].isnull().sum()) #There are 196 missing values\n",
    "print(complete['Pay_Scale'].describe())\n",
    "complete['Pay_Scale'].fillna(6.0, inplace=True) #Replacing with most common value"
   ]
  },
  {
   "cell_type": "code",
   "execution_count": 20,
   "metadata": {},
   "outputs": [
    {
     "name": "stdout",
     "output_type": "stream",
     "text": [
      "Missing values: 0\n"
     ]
    },
    {
     "data": {
      "text/plain": [
       "count     10000\n",
       "unique        5\n",
       "top       type2\n",
       "freq       5686\n",
       "Name: Compensation_and_Benefits, dtype: object"
      ]
     },
     "execution_count": 20,
     "metadata": {},
     "output_type": "execute_result"
    }
   ],
   "source": [
    "print('Missing values:',complete['Compensation_and_Benefits'].isnull().sum()) #There are 0 missing values\n",
    "complete['Compensation_and_Benefits'].describe()"
   ]
  },
  {
   "cell_type": "code",
   "execution_count": 21,
   "metadata": {},
   "outputs": [
    {
     "name": "stdout",
     "output_type": "stream",
     "text": [
      "Missing values: 16\n"
     ]
    }
   ],
   "source": [
    "print('Missing values:',complete['Work_Life_balance'].isnull().sum()) #There are 16 missing values\n",
    "complete['Work_Life_balance'].describe()\n",
    "complete['Work_Life_balance'].fillna(2.0, inplace=True) #Replacing with most common value"
   ]
  },
  {
   "cell_type": "code",
   "execution_count": 22,
   "metadata": {},
   "outputs": [
    {
     "name": "stdout",
     "output_type": "stream",
     "text": [
      "Missing values: 0\n"
     ]
    },
    {
     "data": {
      "text/plain": [
       "count    10000.000000\n",
       "mean         3.089100\n",
       "std          0.831884\n",
       "min          1.000000\n",
       "25%          3.000000\n",
       "50%          3.000000\n",
       "75%          3.000000\n",
       "max          5.000000\n",
       "Name: VAR1, dtype: float64"
      ]
     },
     "execution_count": 22,
     "metadata": {},
     "output_type": "execute_result"
    }
   ],
   "source": [
    "print('Missing values:',complete['VAR1'].isnull().sum()) #There are 0 missing values\n",
    "complete['VAR1'].describe()"
   ]
  },
  {
   "cell_type": "code",
   "execution_count": 23,
   "metadata": {},
   "outputs": [
    {
     "name": "stdout",
     "output_type": "stream",
     "text": [
      "Missing values: 794\n"
     ]
    },
    {
     "name": "stderr",
     "output_type": "stream",
     "text": [
      "C:\\Users\\kanum\\Anaconda3\\lib\\site-packages\\numpy\\lib\\histograms.py:839: RuntimeWarning: invalid value encountered in greater_equal\n",
      "  keep = (tmp_a >= first_edge)\n",
      "C:\\Users\\kanum\\Anaconda3\\lib\\site-packages\\numpy\\lib\\histograms.py:840: RuntimeWarning: invalid value encountered in less_equal\n",
      "  keep &= (tmp_a <= last_edge)\n"
     ]
    },
    {
     "data": {
      "image/png": "[encoded data removed]",
      "text/plain": [
       "<Figure size 432x288 with 1 Axes>"
      ]
     },
     "metadata": {
      "needs_background": "light"
     },
     "output_type": "display_data"
    }
   ],
   "source": [
    "print('Missing values:',complete['VAR2'].isnull().sum()) #There are 794 missing values\n",
    "complete['VAR2'].describe()\n",
    "plt.hist(complete['VAR2'])\n",
    "complete['VAR2'].fillna(0.002653, inplace=True) #Replacing with most common value"
   ]
  },
  {
   "cell_type": "code",
   "execution_count": 24,
   "metadata": {},
   "outputs": [
    {
     "name": "stdout",
     "output_type": "stream",
     "text": [
      "Missing values: 954\n",
      "count    9046.000000\n",
      "mean        1.895976\n",
      "std         0.533987\n",
      "min         1.000000\n",
      "25%         2.000000\n",
      "50%         2.000000\n",
      "75%         2.000000\n",
      "max         3.000000\n",
      "Name: VAR4, dtype: float64\n"
     ]
    },
    {
     "data": {
      "image/png": "[encoded data removed]",
      "text/plain": [
       "<Figure size 432x288 with 1 Axes>"
      ]
     },
     "metadata": {
      "needs_background": "light"
     },
     "output_type": "display_data"
    }
   ],
   "source": [
    "print('Missing values:',complete['VAR4'].isnull().sum()) #There are 954 missing values\n",
    "print(complete['VAR4'].describe())\n",
    "plt.hist(complete['VAR4'])\n",
    "complete['VAR4'].fillna(1.895976, inplace=True) #Replacing with most common value"
   ]
  },
  {
   "cell_type": "code",
   "execution_count": 25,
   "metadata": {},
   "outputs": [],
   "source": [
    "##One hot encoding\n",
    "complete = pd.get_dummies(complete,columns = ['Gender','Relationship_Status', 'Hometown', 'Unit', 'Decision_skill_possess','Compensation_and_Benefits'],prefix =['Gender','Relationship_Status', 'Hometown', 'Unit', 'Decision_skill_possess','Compensation_and_Benefits'])\n",
    "complete = complete.drop(['Age'],1)"
   ]
  },
  {
   "cell_type": "code",
   "execution_count": 26,
   "metadata": {},
   "outputs": [
    {
     "data": {
      "text/html": [
       "<div>\n",
       "<style scoped>\n",
       "    .dataframe tbody tr th:only-of-type {\n",
       "        vertical-align: middle;\n",
       "    }\n",
       "\n",
       "    .dataframe tbody tr th {\n",
       "        vertical-align: top;\n",
       "    }\n",
       "\n",
       "    .dataframe thead th {\n",
       "        text-align: right;\n",
       "    }\n",
       "</style>\n",
       "<table border=\"1\" class=\"dataframe\">\n",
       "  <thead>\n",
       "    <tr style=\"text-align: right;\">\n",
       "      <th></th>\n",
       "      <th>Education_Level</th>\n",
       "      <th>Time_of_service</th>\n",
       "      <th>Time_since_promotion</th>\n",
       "      <th>growth_rate</th>\n",
       "      <th>Travel_Rate</th>\n",
       "      <th>Post_Level</th>\n",
       "      <th>Pay_Scale</th>\n",
       "      <th>Work_Life_balance</th>\n",
       "      <th>VAR1</th>\n",
       "      <th>VAR2</th>\n",
       "      <th>VAR3</th>\n",
       "      <th>VAR4</th>\n",
       "      <th>VAR5</th>\n",
       "      <th>VAR6</th>\n",
       "      <th>VAR7</th>\n",
       "      <th>Attrition_rate</th>\n",
       "      <th>band</th>\n",
       "      <th>Gender_F</th>\n",
       "      <th>Gender_M</th>\n",
       "      <th>Relationship_Status_Married</th>\n",
       "      <th>Relationship_Status_Single</th>\n",
       "      <th>Hometown_Clinton</th>\n",
       "      <th>Hometown_Franklin</th>\n",
       "      <th>Hometown_Lebanon</th>\n",
       "      <th>Hometown_Springfield</th>\n",
       "      <th>Hometown_Washington</th>\n",
       "      <th>Unit_Accounting and Finance</th>\n",
       "      <th>Unit_Human Resource Management</th>\n",
       "      <th>Unit_IT</th>\n",
       "      <th>Unit_Logistics</th>\n",
       "      <th>Unit_Marketing</th>\n",
       "      <th>Unit_Operarions</th>\n",
       "      <th>Unit_Production</th>\n",
       "      <th>Unit_Purchasing</th>\n",
       "      <th>Unit_Quality</th>\n",
       "      <th>Unit_R&amp;D</th>\n",
       "      <th>Unit_Sales</th>\n",
       "      <th>Unit_Security</th>\n",
       "      <th>Decision_skill_possess_Analytical</th>\n",
       "      <th>Decision_skill_possess_Behavioral</th>\n",
       "      <th>Decision_skill_possess_Conceptual</th>\n",
       "      <th>Decision_skill_possess_Directive</th>\n",
       "      <th>Compensation_and_Benefits_type0</th>\n",
       "      <th>Compensation_and_Benefits_type1</th>\n",
       "      <th>Compensation_and_Benefits_type2</th>\n",
       "      <th>Compensation_and_Benefits_type3</th>\n",
       "      <th>Compensation_and_Benefits_type4</th>\n",
       "    </tr>\n",
       "    <tr>\n",
       "      <th>Employee_ID</th>\n",
       "      <th></th>\n",
       "      <th></th>\n",
       "      <th></th>\n",
       "      <th></th>\n",
       "      <th></th>\n",
       "      <th></th>\n",
       "      <th></th>\n",
       "      <th></th>\n",
       "      <th></th>\n",
       "      <th></th>\n",
       "      <th></th>\n",
       "      <th></th>\n",
       "      <th></th>\n",
       "      <th></th>\n",
       "      <th></th>\n",
       "      <th></th>\n",
       "      <th></th>\n",
       "      <th></th>\n",
       "      <th></th>\n",
       "      <th></th>\n",
       "      <th></th>\n",
       "      <th></th>\n",
       "      <th></th>\n",
       "      <th></th>\n",
       "      <th></th>\n",
       "      <th></th>\n",
       "      <th></th>\n",
       "      <th></th>\n",
       "      <th></th>\n",
       "      <th></th>\n",
       "      <th></th>\n",
       "      <th></th>\n",
       "      <th></th>\n",
       "      <th></th>\n",
       "      <th></th>\n",
       "      <th></th>\n",
       "      <th></th>\n",
       "      <th></th>\n",
       "      <th></th>\n",
       "      <th></th>\n",
       "      <th></th>\n",
       "      <th></th>\n",
       "      <th></th>\n",
       "      <th></th>\n",
       "      <th></th>\n",
       "      <th></th>\n",
       "      <th></th>\n",
       "    </tr>\n",
       "  </thead>\n",
       "  <tbody>\n",
       "    <tr>\n",
       "      <td>EID_23371</td>\n",
       "      <td>4</td>\n",
       "      <td>4.0</td>\n",
       "      <td>4</td>\n",
       "      <td>33</td>\n",
       "      <td>1</td>\n",
       "      <td>1</td>\n",
       "      <td>7.0</td>\n",
       "      <td>3.0</td>\n",
       "      <td>4</td>\n",
       "      <td>0.7516</td>\n",
       "      <td>1.8688</td>\n",
       "      <td>2.000000</td>\n",
       "      <td>4</td>\n",
       "      <td>5</td>\n",
       "      <td>3</td>\n",
       "      <td>0.1841</td>\n",
       "      <td>3</td>\n",
       "      <td>1</td>\n",
       "      <td>0</td>\n",
       "      <td>1</td>\n",
       "      <td>0</td>\n",
       "      <td>0</td>\n",
       "      <td>1</td>\n",
       "      <td>0</td>\n",
       "      <td>0</td>\n",
       "      <td>0</td>\n",
       "      <td>0</td>\n",
       "      <td>0</td>\n",
       "      <td>1</td>\n",
       "      <td>0</td>\n",
       "      <td>0</td>\n",
       "      <td>0</td>\n",
       "      <td>0</td>\n",
       "      <td>0</td>\n",
       "      <td>0</td>\n",
       "      <td>0</td>\n",
       "      <td>0</td>\n",
       "      <td>0</td>\n",
       "      <td>0</td>\n",
       "      <td>0</td>\n",
       "      <td>1</td>\n",
       "      <td>0</td>\n",
       "      <td>0</td>\n",
       "      <td>0</td>\n",
       "      <td>1</td>\n",
       "      <td>0</td>\n",
       "      <td>0</td>\n",
       "    </tr>\n",
       "    <tr>\n",
       "      <td>EID_18000</td>\n",
       "      <td>3</td>\n",
       "      <td>5.0</td>\n",
       "      <td>4</td>\n",
       "      <td>36</td>\n",
       "      <td>0</td>\n",
       "      <td>3</td>\n",
       "      <td>6.0</td>\n",
       "      <td>4.0</td>\n",
       "      <td>3</td>\n",
       "      <td>-0.9612</td>\n",
       "      <td>-0.4537</td>\n",
       "      <td>2.000000</td>\n",
       "      <td>3</td>\n",
       "      <td>5</td>\n",
       "      <td>3</td>\n",
       "      <td>0.0670</td>\n",
       "      <td>1</td>\n",
       "      <td>0</td>\n",
       "      <td>1</td>\n",
       "      <td>0</td>\n",
       "      <td>1</td>\n",
       "      <td>0</td>\n",
       "      <td>0</td>\n",
       "      <td>0</td>\n",
       "      <td>1</td>\n",
       "      <td>0</td>\n",
       "      <td>0</td>\n",
       "      <td>0</td>\n",
       "      <td>0</td>\n",
       "      <td>1</td>\n",
       "      <td>0</td>\n",
       "      <td>0</td>\n",
       "      <td>0</td>\n",
       "      <td>0</td>\n",
       "      <td>0</td>\n",
       "      <td>0</td>\n",
       "      <td>0</td>\n",
       "      <td>0</td>\n",
       "      <td>1</td>\n",
       "      <td>0</td>\n",
       "      <td>0</td>\n",
       "      <td>0</td>\n",
       "      <td>0</td>\n",
       "      <td>0</td>\n",
       "      <td>1</td>\n",
       "      <td>0</td>\n",
       "      <td>0</td>\n",
       "    </tr>\n",
       "    <tr>\n",
       "      <td>EID_3891</td>\n",
       "      <td>3</td>\n",
       "      <td>27.0</td>\n",
       "      <td>3</td>\n",
       "      <td>51</td>\n",
       "      <td>0</td>\n",
       "      <td>2</td>\n",
       "      <td>8.0</td>\n",
       "      <td>1.0</td>\n",
       "      <td>4</td>\n",
       "      <td>-0.9612</td>\n",
       "      <td>-0.4537</td>\n",
       "      <td>3.000000</td>\n",
       "      <td>3</td>\n",
       "      <td>8</td>\n",
       "      <td>3</td>\n",
       "      <td>0.0851</td>\n",
       "      <td>4</td>\n",
       "      <td>1</td>\n",
       "      <td>0</td>\n",
       "      <td>1</td>\n",
       "      <td>0</td>\n",
       "      <td>1</td>\n",
       "      <td>0</td>\n",
       "      <td>0</td>\n",
       "      <td>0</td>\n",
       "      <td>0</td>\n",
       "      <td>0</td>\n",
       "      <td>0</td>\n",
       "      <td>0</td>\n",
       "      <td>0</td>\n",
       "      <td>0</td>\n",
       "      <td>0</td>\n",
       "      <td>0</td>\n",
       "      <td>0</td>\n",
       "      <td>1</td>\n",
       "      <td>0</td>\n",
       "      <td>0</td>\n",
       "      <td>0</td>\n",
       "      <td>0</td>\n",
       "      <td>0</td>\n",
       "      <td>1</td>\n",
       "      <td>0</td>\n",
       "      <td>0</td>\n",
       "      <td>0</td>\n",
       "      <td>1</td>\n",
       "      <td>0</td>\n",
       "      <td>0</td>\n",
       "    </tr>\n",
       "    <tr>\n",
       "      <td>EID_17492</td>\n",
       "      <td>3</td>\n",
       "      <td>4.0</td>\n",
       "      <td>3</td>\n",
       "      <td>56</td>\n",
       "      <td>1</td>\n",
       "      <td>3</td>\n",
       "      <td>8.0</td>\n",
       "      <td>1.0</td>\n",
       "      <td>3</td>\n",
       "      <td>-1.8176</td>\n",
       "      <td>-0.4537</td>\n",
       "      <td>1.895976</td>\n",
       "      <td>3</td>\n",
       "      <td>7</td>\n",
       "      <td>3</td>\n",
       "      <td>0.0668</td>\n",
       "      <td>1</td>\n",
       "      <td>1</td>\n",
       "      <td>0</td>\n",
       "      <td>0</td>\n",
       "      <td>1</td>\n",
       "      <td>0</td>\n",
       "      <td>0</td>\n",
       "      <td>1</td>\n",
       "      <td>0</td>\n",
       "      <td>0</td>\n",
       "      <td>0</td>\n",
       "      <td>1</td>\n",
       "      <td>0</td>\n",
       "      <td>0</td>\n",
       "      <td>0</td>\n",
       "      <td>0</td>\n",
       "      <td>0</td>\n",
       "      <td>0</td>\n",
       "      <td>0</td>\n",
       "      <td>0</td>\n",
       "      <td>0</td>\n",
       "      <td>0</td>\n",
       "      <td>0</td>\n",
       "      <td>1</td>\n",
       "      <td>0</td>\n",
       "      <td>0</td>\n",
       "      <td>0</td>\n",
       "      <td>0</td>\n",
       "      <td>1</td>\n",
       "      <td>0</td>\n",
       "      <td>0</td>\n",
       "    </tr>\n",
       "    <tr>\n",
       "      <td>EID_22534</td>\n",
       "      <td>1</td>\n",
       "      <td>5.0</td>\n",
       "      <td>4</td>\n",
       "      <td>62</td>\n",
       "      <td>1</td>\n",
       "      <td>3</td>\n",
       "      <td>2.0</td>\n",
       "      <td>3.0</td>\n",
       "      <td>1</td>\n",
       "      <td>0.7516</td>\n",
       "      <td>-0.4537</td>\n",
       "      <td>2.000000</td>\n",
       "      <td>2</td>\n",
       "      <td>8</td>\n",
       "      <td>2</td>\n",
       "      <td>0.1827</td>\n",
       "      <td>2</td>\n",
       "      <td>1</td>\n",
       "      <td>0</td>\n",
       "      <td>1</td>\n",
       "      <td>0</td>\n",
       "      <td>0</td>\n",
       "      <td>0</td>\n",
       "      <td>0</td>\n",
       "      <td>1</td>\n",
       "      <td>0</td>\n",
       "      <td>0</td>\n",
       "      <td>0</td>\n",
       "      <td>0</td>\n",
       "      <td>1</td>\n",
       "      <td>0</td>\n",
       "      <td>0</td>\n",
       "      <td>0</td>\n",
       "      <td>0</td>\n",
       "      <td>0</td>\n",
       "      <td>0</td>\n",
       "      <td>0</td>\n",
       "      <td>0</td>\n",
       "      <td>0</td>\n",
       "      <td>0</td>\n",
       "      <td>1</td>\n",
       "      <td>0</td>\n",
       "      <td>0</td>\n",
       "      <td>0</td>\n",
       "      <td>0</td>\n",
       "      <td>1</td>\n",
       "      <td>0</td>\n",
       "    </tr>\n",
       "  </tbody>\n",
       "</table>\n",
       "</div>"
      ],
      "text/plain": [
       "             Education_Level  Time_of_service  Time_since_promotion  \\\n",
       "Employee_ID                                                           \n",
       "EID_23371                  4              4.0                     4   \n",
       "EID_18000                  3              5.0                     4   \n",
       "EID_3891                   3             27.0                     3   \n",
       "EID_17492                  3              4.0                     3   \n",
       "EID_22534                  1              5.0                     4   \n",
       "\n",
       "             growth_rate  Travel_Rate  Post_Level  Pay_Scale  \\\n",
       "Employee_ID                                                    \n",
       "EID_23371             33            1           1        7.0   \n",
       "EID_18000             36            0           3        6.0   \n",
       "EID_3891              51            0           2        8.0   \n",
       "EID_17492             56            1           3        8.0   \n",
       "EID_22534             62            1           3        2.0   \n",
       "\n",
       "             Work_Life_balance  VAR1    VAR2    VAR3      VAR4  VAR5  VAR6  \\\n",
       "Employee_ID                                                                  \n",
       "EID_23371                  3.0     4  0.7516  1.8688  2.000000     4     5   \n",
       "EID_18000                  4.0     3 -0.9612 -0.4537  2.000000     3     5   \n",
       "EID_3891                   1.0     4 -0.9612 -0.4537  3.000000     3     8   \n",
       "EID_17492                  1.0     3 -1.8176 -0.4537  1.895976     3     7   \n",
       "EID_22534                  3.0     1  0.7516 -0.4537  2.000000     2     8   \n",
       "\n",
       "             VAR7  Attrition_rate  band  Gender_F  Gender_M  \\\n",
       "Employee_ID                                                   \n",
       "EID_23371       3          0.1841     3         1         0   \n",
       "EID_18000       3          0.0670     1         0         1   \n",
       "EID_3891        3          0.0851     4         1         0   \n",
       "EID_17492       3          0.0668     1         1         0   \n",
       "EID_22534       2          0.1827     2         1         0   \n",
       "\n",
       "             Relationship_Status_Married  Relationship_Status_Single  \\\n",
       "Employee_ID                                                            \n",
       "EID_23371                              1                           0   \n",
       "EID_18000                              0                           1   \n",
       "EID_3891                               1                           0   \n",
       "EID_17492                              0                           1   \n",
       "EID_22534                              1                           0   \n",
       "\n",
       "             Hometown_Clinton  Hometown_Franklin  Hometown_Lebanon  \\\n",
       "Employee_ID                                                          \n",
       "EID_23371                   0                  1                 0   \n",
       "EID_18000                   0                  0                 0   \n",
       "EID_3891                    1                  0                 0   \n",
       "EID_17492                   0                  0                 1   \n",
       "EID_22534                   0                  0                 0   \n",
       "\n",
       "             Hometown_Springfield  Hometown_Washington  \\\n",
       "Employee_ID                                              \n",
       "EID_23371                       0                    0   \n",
       "EID_18000                       1                    0   \n",
       "EID_3891                        0                    0   \n",
       "EID_17492                       0                    0   \n",
       "EID_22534                       1                    0   \n",
       "\n",
       "             Unit_Accounting and Finance  Unit_Human Resource Management  \\\n",
       "Employee_ID                                                                \n",
       "EID_23371                              0                               0   \n",
       "EID_18000                              0                               0   \n",
       "EID_3891                               0                               0   \n",
       "EID_17492                              0                               1   \n",
       "EID_22534                              0                               0   \n",
       "\n",
       "             Unit_IT  Unit_Logistics  Unit_Marketing  Unit_Operarions  \\\n",
       "Employee_ID                                                             \n",
       "EID_23371          1               0               0                0   \n",
       "EID_18000          0               1               0                0   \n",
       "EID_3891           0               0               0                0   \n",
       "EID_17492          0               0               0                0   \n",
       "EID_22534          0               1               0                0   \n",
       "\n",
       "             Unit_Production  Unit_Purchasing  Unit_Quality  Unit_R&D  \\\n",
       "Employee_ID                                                             \n",
       "EID_23371                  0                0             0         0   \n",
       "EID_18000                  0                0             0         0   \n",
       "EID_3891                   0                0             1         0   \n",
       "EID_17492                  0                0             0         0   \n",
       "EID_22534                  0                0             0         0   \n",
       "\n",
       "             Unit_Sales  Unit_Security  Decision_skill_possess_Analytical  \\\n",
       "Employee_ID                                                                 \n",
       "EID_23371             0              0                                  0   \n",
       "EID_18000             0              0                                  1   \n",
       "EID_3891              0              0                                  0   \n",
       "EID_17492             0              0                                  0   \n",
       "EID_22534             0              0                                  0   \n",
       "\n",
       "             Decision_skill_possess_Behavioral  \\\n",
       "Employee_ID                                      \n",
       "EID_23371                                    0   \n",
       "EID_18000                                    0   \n",
       "EID_3891                                     0   \n",
       "EID_17492                                    1   \n",
       "EID_22534                                    0   \n",
       "\n",
       "             Decision_skill_possess_Conceptual  \\\n",
       "Employee_ID                                      \n",
       "EID_23371                                    1   \n",
       "EID_18000                                    0   \n",
       "EID_3891                                     1   \n",
       "EID_17492                                    0   \n",
       "EID_22534                                    1   \n",
       "\n",
       "             Decision_skill_possess_Directive  \\\n",
       "Employee_ID                                     \n",
       "EID_23371                                   0   \n",
       "EID_18000                                   0   \n",
       "EID_3891                                    0   \n",
       "EID_17492                                   0   \n",
       "EID_22534                                   0   \n",
       "\n",
       "             Compensation_and_Benefits_type0  Compensation_and_Benefits_type1  \\\n",
       "Employee_ID                                                                     \n",
       "EID_23371                                  0                                0   \n",
       "EID_18000                                  0                                0   \n",
       "EID_3891                                   0                                0   \n",
       "EID_17492                                  0                                0   \n",
       "EID_22534                                  0                                0   \n",
       "\n",
       "             Compensation_and_Benefits_type2  Compensation_and_Benefits_type3  \\\n",
       "Employee_ID                                                                     \n",
       "EID_23371                                  1                                0   \n",
       "EID_18000                                  1                                0   \n",
       "EID_3891                                   1                                0   \n",
       "EID_17492                                  1                                0   \n",
       "EID_22534                                  0                                1   \n",
       "\n",
       "             Compensation_and_Benefits_type4  \n",
       "Employee_ID                                   \n",
       "EID_23371                                  0  \n",
       "EID_18000                                  0  \n",
       "EID_3891                                   0  \n",
       "EID_17492                                  0  \n",
       "EID_22534                                  0  "
      ]
     },
     "execution_count": 26,
     "metadata": {},
     "output_type": "execute_result"
    }
   ],
   "source": [
    "complete.head(5)"
   ]
  },
  {
   "cell_type": "code",
   "execution_count": 27,
   "metadata": {},
   "outputs": [],
   "source": [
    "Test_data = complete[7000:]\n",
    "train_data = complete[0:7000]"
   ]
  },
  {
   "cell_type": "code",
   "execution_count": 31,
   "metadata": {},
   "outputs": [
    {
     "data": {
      "text/html": [
       "<div>\n",
       "<style scoped>\n",
       "    .dataframe tbody tr th:only-of-type {\n",
       "        vertical-align: middle;\n",
       "    }\n",
       "\n",
       "    .dataframe tbody tr th {\n",
       "        vertical-align: top;\n",
       "    }\n",
       "\n",
       "    .dataframe thead th {\n",
       "        text-align: right;\n",
       "    }\n",
       "</style>\n",
       "<table border=\"1\" class=\"dataframe\">\n",
       "  <thead>\n",
       "    <tr style=\"text-align: right;\">\n",
       "      <th></th>\n",
       "      <th>Education_Level</th>\n",
       "      <th>Time_of_service</th>\n",
       "      <th>Time_since_promotion</th>\n",
       "      <th>growth_rate</th>\n",
       "      <th>Travel_Rate</th>\n",
       "      <th>Post_Level</th>\n",
       "      <th>Pay_Scale</th>\n",
       "      <th>Work_Life_balance</th>\n",
       "      <th>VAR1</th>\n",
       "      <th>VAR2</th>\n",
       "      <th>VAR3</th>\n",
       "      <th>VAR4</th>\n",
       "      <th>VAR5</th>\n",
       "      <th>VAR6</th>\n",
       "      <th>VAR7</th>\n",
       "      <th>Attrition_rate</th>\n",
       "      <th>band</th>\n",
       "      <th>Gender_F</th>\n",
       "      <th>Gender_M</th>\n",
       "      <th>Relationship_Status_Married</th>\n",
       "      <th>Relationship_Status_Single</th>\n",
       "      <th>Hometown_Clinton</th>\n",
       "      <th>Hometown_Franklin</th>\n",
       "      <th>Hometown_Lebanon</th>\n",
       "      <th>Hometown_Springfield</th>\n",
       "      <th>Hometown_Washington</th>\n",
       "      <th>Unit_Accounting and Finance</th>\n",
       "      <th>Unit_Human Resource Management</th>\n",
       "      <th>Unit_IT</th>\n",
       "      <th>Unit_Logistics</th>\n",
       "      <th>Unit_Marketing</th>\n",
       "      <th>Unit_Operarions</th>\n",
       "      <th>Unit_Production</th>\n",
       "      <th>Unit_Purchasing</th>\n",
       "      <th>Unit_Quality</th>\n",
       "      <th>Unit_R&amp;D</th>\n",
       "      <th>Unit_Sales</th>\n",
       "      <th>Unit_Security</th>\n",
       "      <th>Decision_skill_possess_Analytical</th>\n",
       "      <th>Decision_skill_possess_Behavioral</th>\n",
       "      <th>Decision_skill_possess_Conceptual</th>\n",
       "      <th>Decision_skill_possess_Directive</th>\n",
       "      <th>Compensation_and_Benefits_type0</th>\n",
       "      <th>Compensation_and_Benefits_type1</th>\n",
       "      <th>Compensation_and_Benefits_type2</th>\n",
       "      <th>Compensation_and_Benefits_type3</th>\n",
       "      <th>Compensation_and_Benefits_type4</th>\n",
       "    </tr>\n",
       "    <tr>\n",
       "      <th>Employee_ID</th>\n",
       "      <th></th>\n",
       "      <th></th>\n",
       "      <th></th>\n",
       "      <th></th>\n",
       "      <th></th>\n",
       "      <th></th>\n",
       "      <th></th>\n",
       "      <th></th>\n",
       "      <th></th>\n",
       "      <th></th>\n",
       "      <th></th>\n",
       "      <th></th>\n",
       "      <th></th>\n",
       "      <th></th>\n",
       "      <th></th>\n",
       "      <th></th>\n",
       "      <th></th>\n",
       "      <th></th>\n",
       "      <th></th>\n",
       "      <th></th>\n",
       "      <th></th>\n",
       "      <th></th>\n",
       "      <th></th>\n",
       "      <th></th>\n",
       "      <th></th>\n",
       "      <th></th>\n",
       "      <th></th>\n",
       "      <th></th>\n",
       "      <th></th>\n",
       "      <th></th>\n",
       "      <th></th>\n",
       "      <th></th>\n",
       "      <th></th>\n",
       "      <th></th>\n",
       "      <th></th>\n",
       "      <th></th>\n",
       "      <th></th>\n",
       "      <th></th>\n",
       "      <th></th>\n",
       "      <th></th>\n",
       "      <th></th>\n",
       "      <th></th>\n",
       "      <th></th>\n",
       "      <th></th>\n",
       "      <th></th>\n",
       "      <th></th>\n",
       "      <th></th>\n",
       "    </tr>\n",
       "  </thead>\n",
       "  <tbody>\n",
       "    <tr>\n",
       "      <td>EID_23371</td>\n",
       "      <td>4</td>\n",
       "      <td>4.0</td>\n",
       "      <td>4</td>\n",
       "      <td>33</td>\n",
       "      <td>1</td>\n",
       "      <td>1</td>\n",
       "      <td>7.0</td>\n",
       "      <td>3.0</td>\n",
       "      <td>4</td>\n",
       "      <td>0.7516</td>\n",
       "      <td>1.8688</td>\n",
       "      <td>2.000000</td>\n",
       "      <td>4</td>\n",
       "      <td>5</td>\n",
       "      <td>3</td>\n",
       "      <td>0.1841</td>\n",
       "      <td>3</td>\n",
       "      <td>1</td>\n",
       "      <td>0</td>\n",
       "      <td>1</td>\n",
       "      <td>0</td>\n",
       "      <td>0</td>\n",
       "      <td>1</td>\n",
       "      <td>0</td>\n",
       "      <td>0</td>\n",
       "      <td>0</td>\n",
       "      <td>0</td>\n",
       "      <td>0</td>\n",
       "      <td>1</td>\n",
       "      <td>0</td>\n",
       "      <td>0</td>\n",
       "      <td>0</td>\n",
       "      <td>0</td>\n",
       "      <td>0</td>\n",
       "      <td>0</td>\n",
       "      <td>0</td>\n",
       "      <td>0</td>\n",
       "      <td>0</td>\n",
       "      <td>0</td>\n",
       "      <td>0</td>\n",
       "      <td>1</td>\n",
       "      <td>0</td>\n",
       "      <td>0</td>\n",
       "      <td>0</td>\n",
       "      <td>1</td>\n",
       "      <td>0</td>\n",
       "      <td>0</td>\n",
       "    </tr>\n",
       "    <tr>\n",
       "      <td>EID_18000</td>\n",
       "      <td>3</td>\n",
       "      <td>5.0</td>\n",
       "      <td>4</td>\n",
       "      <td>36</td>\n",
       "      <td>0</td>\n",
       "      <td>3</td>\n",
       "      <td>6.0</td>\n",
       "      <td>4.0</td>\n",
       "      <td>3</td>\n",
       "      <td>-0.9612</td>\n",
       "      <td>-0.4537</td>\n",
       "      <td>2.000000</td>\n",
       "      <td>3</td>\n",
       "      <td>5</td>\n",
       "      <td>3</td>\n",
       "      <td>0.0670</td>\n",
       "      <td>1</td>\n",
       "      <td>0</td>\n",
       "      <td>1</td>\n",
       "      <td>0</td>\n",
       "      <td>1</td>\n",
       "      <td>0</td>\n",
       "      <td>0</td>\n",
       "      <td>0</td>\n",
       "      <td>1</td>\n",
       "      <td>0</td>\n",
       "      <td>0</td>\n",
       "      <td>0</td>\n",
       "      <td>0</td>\n",
       "      <td>1</td>\n",
       "      <td>0</td>\n",
       "      <td>0</td>\n",
       "      <td>0</td>\n",
       "      <td>0</td>\n",
       "      <td>0</td>\n",
       "      <td>0</td>\n",
       "      <td>0</td>\n",
       "      <td>0</td>\n",
       "      <td>1</td>\n",
       "      <td>0</td>\n",
       "      <td>0</td>\n",
       "      <td>0</td>\n",
       "      <td>0</td>\n",
       "      <td>0</td>\n",
       "      <td>1</td>\n",
       "      <td>0</td>\n",
       "      <td>0</td>\n",
       "    </tr>\n",
       "    <tr>\n",
       "      <td>EID_3891</td>\n",
       "      <td>3</td>\n",
       "      <td>27.0</td>\n",
       "      <td>3</td>\n",
       "      <td>51</td>\n",
       "      <td>0</td>\n",
       "      <td>2</td>\n",
       "      <td>8.0</td>\n",
       "      <td>1.0</td>\n",
       "      <td>4</td>\n",
       "      <td>-0.9612</td>\n",
       "      <td>-0.4537</td>\n",
       "      <td>3.000000</td>\n",
       "      <td>3</td>\n",
       "      <td>8</td>\n",
       "      <td>3</td>\n",
       "      <td>0.0851</td>\n",
       "      <td>4</td>\n",
       "      <td>1</td>\n",
       "      <td>0</td>\n",
       "      <td>1</td>\n",
       "      <td>0</td>\n",
       "      <td>1</td>\n",
       "      <td>0</td>\n",
       "      <td>0</td>\n",
       "      <td>0</td>\n",
       "      <td>0</td>\n",
       "      <td>0</td>\n",
       "      <td>0</td>\n",
       "      <td>0</td>\n",
       "      <td>0</td>\n",
       "      <td>0</td>\n",
       "      <td>0</td>\n",
       "      <td>0</td>\n",
       "      <td>0</td>\n",
       "      <td>1</td>\n",
       "      <td>0</td>\n",
       "      <td>0</td>\n",
       "      <td>0</td>\n",
       "      <td>0</td>\n",
       "      <td>0</td>\n",
       "      <td>1</td>\n",
       "      <td>0</td>\n",
       "      <td>0</td>\n",
       "      <td>0</td>\n",
       "      <td>1</td>\n",
       "      <td>0</td>\n",
       "      <td>0</td>\n",
       "    </tr>\n",
       "    <tr>\n",
       "      <td>EID_17492</td>\n",
       "      <td>3</td>\n",
       "      <td>4.0</td>\n",
       "      <td>3</td>\n",
       "      <td>56</td>\n",
       "      <td>1</td>\n",
       "      <td>3</td>\n",
       "      <td>8.0</td>\n",
       "      <td>1.0</td>\n",
       "      <td>3</td>\n",
       "      <td>-1.8176</td>\n",
       "      <td>-0.4537</td>\n",
       "      <td>1.895976</td>\n",
       "      <td>3</td>\n",
       "      <td>7</td>\n",
       "      <td>3</td>\n",
       "      <td>0.0668</td>\n",
       "      <td>1</td>\n",
       "      <td>1</td>\n",
       "      <td>0</td>\n",
       "      <td>0</td>\n",
       "      <td>1</td>\n",
       "      <td>0</td>\n",
       "      <td>0</td>\n",
       "      <td>1</td>\n",
       "      <td>0</td>\n",
       "      <td>0</td>\n",
       "      <td>0</td>\n",
       "      <td>1</td>\n",
       "      <td>0</td>\n",
       "      <td>0</td>\n",
       "      <td>0</td>\n",
       "      <td>0</td>\n",
       "      <td>0</td>\n",
       "      <td>0</td>\n",
       "      <td>0</td>\n",
       "      <td>0</td>\n",
       "      <td>0</td>\n",
       "      <td>0</td>\n",
       "      <td>0</td>\n",
       "      <td>1</td>\n",
       "      <td>0</td>\n",
       "      <td>0</td>\n",
       "      <td>0</td>\n",
       "      <td>0</td>\n",
       "      <td>1</td>\n",
       "      <td>0</td>\n",
       "      <td>0</td>\n",
       "    </tr>\n",
       "    <tr>\n",
       "      <td>EID_22534</td>\n",
       "      <td>1</td>\n",
       "      <td>5.0</td>\n",
       "      <td>4</td>\n",
       "      <td>62</td>\n",
       "      <td>1</td>\n",
       "      <td>3</td>\n",
       "      <td>2.0</td>\n",
       "      <td>3.0</td>\n",
       "      <td>1</td>\n",
       "      <td>0.7516</td>\n",
       "      <td>-0.4537</td>\n",
       "      <td>2.000000</td>\n",
       "      <td>2</td>\n",
       "      <td>8</td>\n",
       "      <td>2</td>\n",
       "      <td>0.1827</td>\n",
       "      <td>2</td>\n",
       "      <td>1</td>\n",
       "      <td>0</td>\n",
       "      <td>1</td>\n",
       "      <td>0</td>\n",
       "      <td>0</td>\n",
       "      <td>0</td>\n",
       "      <td>0</td>\n",
       "      <td>1</td>\n",
       "      <td>0</td>\n",
       "      <td>0</td>\n",
       "      <td>0</td>\n",
       "      <td>0</td>\n",
       "      <td>1</td>\n",
       "      <td>0</td>\n",
       "      <td>0</td>\n",
       "      <td>0</td>\n",
       "      <td>0</td>\n",
       "      <td>0</td>\n",
       "      <td>0</td>\n",
       "      <td>0</td>\n",
       "      <td>0</td>\n",
       "      <td>0</td>\n",
       "      <td>0</td>\n",
       "      <td>1</td>\n",
       "      <td>0</td>\n",
       "      <td>0</td>\n",
       "      <td>0</td>\n",
       "      <td>0</td>\n",
       "      <td>1</td>\n",
       "      <td>0</td>\n",
       "    </tr>\n",
       "  </tbody>\n",
       "</table>\n",
       "</div>"
      ],
      "text/plain": [
       "             Education_Level  Time_of_service  Time_since_promotion  \\\n",
       "Employee_ID                                                           \n",
       "EID_23371                  4              4.0                     4   \n",
       "EID_18000                  3              5.0                     4   \n",
       "EID_3891                   3             27.0                     3   \n",
       "EID_17492                  3              4.0                     3   \n",
       "EID_22534                  1              5.0                     4   \n",
       "\n",
       "             growth_rate  Travel_Rate  Post_Level  Pay_Scale  \\\n",
       "Employee_ID                                                    \n",
       "EID_23371             33            1           1        7.0   \n",
       "EID_18000             36            0           3        6.0   \n",
       "EID_3891              51            0           2        8.0   \n",
       "EID_17492             56            1           3        8.0   \n",
       "EID_22534             62            1           3        2.0   \n",
       "\n",
       "             Work_Life_balance  VAR1    VAR2    VAR3      VAR4  VAR5  VAR6  \\\n",
       "Employee_ID                                                                  \n",
       "EID_23371                  3.0     4  0.7516  1.8688  2.000000     4     5   \n",
       "EID_18000                  4.0     3 -0.9612 -0.4537  2.000000     3     5   \n",
       "EID_3891                   1.0     4 -0.9612 -0.4537  3.000000     3     8   \n",
       "EID_17492                  1.0     3 -1.8176 -0.4537  1.895976     3     7   \n",
       "EID_22534                  3.0     1  0.7516 -0.4537  2.000000     2     8   \n",
       "\n",
       "             VAR7  Attrition_rate  band  Gender_F  Gender_M  \\\n",
       "Employee_ID                                                   \n",
       "EID_23371       3          0.1841     3         1         0   \n",
       "EID_18000       3          0.0670     1         0         1   \n",
       "EID_3891        3          0.0851     4         1         0   \n",
       "EID_17492       3          0.0668     1         1         0   \n",
       "EID_22534       2          0.1827     2         1         0   \n",
       "\n",
       "             Relationship_Status_Married  Relationship_Status_Single  \\\n",
       "Employee_ID                                                            \n",
       "EID_23371                              1                           0   \n",
       "EID_18000                              0                           1   \n",
       "EID_3891                               1                           0   \n",
       "EID_17492                              0                           1   \n",
       "EID_22534                              1                           0   \n",
       "\n",
       "             Hometown_Clinton  Hometown_Franklin  Hometown_Lebanon  \\\n",
       "Employee_ID                                                          \n",
       "EID_23371                   0                  1                 0   \n",
       "EID_18000                   0                  0                 0   \n",
       "EID_3891                    1                  0                 0   \n",
       "EID_17492                   0                  0                 1   \n",
       "EID_22534                   0                  0                 0   \n",
       "\n",
       "             Hometown_Springfield  Hometown_Washington  \\\n",
       "Employee_ID                                              \n",
       "EID_23371                       0                    0   \n",
       "EID_18000                       1                    0   \n",
       "EID_3891                        0                    0   \n",
       "EID_17492                       0                    0   \n",
       "EID_22534                       1                    0   \n",
       "\n",
       "             Unit_Accounting and Finance  Unit_Human Resource Management  \\\n",
       "Employee_ID                                                                \n",
       "EID_23371                              0                               0   \n",
       "EID_18000                              0                               0   \n",
       "EID_3891                               0                               0   \n",
       "EID_17492                              0                               1   \n",
       "EID_22534                              0                               0   \n",
       "\n",
       "             Unit_IT  Unit_Logistics  Unit_Marketing  Unit_Operarions  \\\n",
       "Employee_ID                                                             \n",
       "EID_23371          1               0               0                0   \n",
       "EID_18000          0               1               0                0   \n",
       "EID_3891           0               0               0                0   \n",
       "EID_17492          0               0               0                0   \n",
       "EID_22534          0               1               0                0   \n",
       "\n",
       "             Unit_Production  Unit_Purchasing  Unit_Quality  Unit_R&D  \\\n",
       "Employee_ID                                                             \n",
       "EID_23371                  0                0             0         0   \n",
       "EID_18000                  0                0             0         0   \n",
       "EID_3891                   0                0             1         0   \n",
       "EID_17492                  0                0             0         0   \n",
       "EID_22534                  0                0             0         0   \n",
       "\n",
       "             Unit_Sales  Unit_Security  Decision_skill_possess_Analytical  \\\n",
       "Employee_ID                                                                 \n",
       "EID_23371             0              0                                  0   \n",
       "EID_18000             0              0                                  1   \n",
       "EID_3891              0              0                                  0   \n",
       "EID_17492             0              0                                  0   \n",
       "EID_22534             0              0                                  0   \n",
       "\n",
       "             Decision_skill_possess_Behavioral  \\\n",
       "Employee_ID                                      \n",
       "EID_23371                                    0   \n",
       "EID_18000                                    0   \n",
       "EID_3891                                     0   \n",
       "EID_17492                                    1   \n",
       "EID_22534                                    0   \n",
       "\n",
       "             Decision_skill_possess_Conceptual  \\\n",
       "Employee_ID                                      \n",
       "EID_23371                                    1   \n",
       "EID_18000                                    0   \n",
       "EID_3891                                     1   \n",
       "EID_17492                                    0   \n",
       "EID_22534                                    1   \n",
       "\n",
       "             Decision_skill_possess_Directive  \\\n",
       "Employee_ID                                     \n",
       "EID_23371                                   0   \n",
       "EID_18000                                   0   \n",
       "EID_3891                                    0   \n",
       "EID_17492                                   0   \n",
       "EID_22534                                   0   \n",
       "\n",
       "             Compensation_and_Benefits_type0  Compensation_and_Benefits_type1  \\\n",
       "Employee_ID                                                                     \n",
       "EID_23371                                  0                                0   \n",
       "EID_18000                                  0                                0   \n",
       "EID_3891                                   0                                0   \n",
       "EID_17492                                  0                                0   \n",
       "EID_22534                                  0                                0   \n",
       "\n",
       "             Compensation_and_Benefits_type2  Compensation_and_Benefits_type3  \\\n",
       "Employee_ID                                                                     \n",
       "EID_23371                                  1                                0   \n",
       "EID_18000                                  1                                0   \n",
       "EID_3891                                   1                                0   \n",
       "EID_17492                                  1                                0   \n",
       "EID_22534                                  0                                1   \n",
       "\n",
       "             Compensation_and_Benefits_type4  \n",
       "Employee_ID                                   \n",
       "EID_23371                                  0  \n",
       "EID_18000                                  0  \n",
       "EID_3891                                   0  \n",
       "EID_17492                                  0  \n",
       "EID_22534                                  0  "
      ]
     },
     "execution_count": 31,
     "metadata": {},
     "output_type": "execute_result"
    }
   ],
   "source": [
    "train_data.head()"
   ]
  },
  {
   "cell_type": "code",
   "execution_count": 49,
   "metadata": {},
   "outputs": [],
   "source": [
    "#Looking for most relevant features\n",
    "#Intializing the model\n",
    "model = xgboost.XGBRegressor(colsample_bytree=0.4,\n",
    "                 gamma=0,                 \n",
    "                 learning_rate=0.1,\n",
    "                 max_depth=3,\n",
    "                 min_child_weight=1.5,\n",
    "                 n_estimators=10000,                                                                    \n",
    "                 reg_alpha=0.75,\n",
    "                 reg_lambda=0.45,\n",
    "                 subsample=0.6,\n",
    "                 seed=42) "
   ]
  },
  {
   "cell_type": "code",
   "execution_count": 34,
   "metadata": {},
   "outputs": [
    {
     "name": "stdout",
     "output_type": "stream",
     "text": [
      "(5250, 46)\n",
      "(5250,)\n",
      "(1750, 46)\n",
      "(1750,)\n"
     ]
    }
   ],
   "source": [
    "X= train_data.drop('Attrition_rate',1)\n",
    "y = train_data.Attrition_rate\n",
    "X_train, X_test, y_train, y_test = train_test_split(X, y)\n",
    "print(X_train.shape)\n",
    "print(y_train.shape)\n",
    "print(X_test.shape)\n",
    "print(y_test.shape)"
   ]
  },
  {
   "cell_type": "code",
   "execution_count": 50,
   "metadata": {},
   "outputs": [
    {
     "name": "stderr",
     "output_type": "stream",
     "text": [
      "C:\\Users\\kanum\\Anaconda3\\lib\\site-packages\\xgboost\\core.py:587: FutureWarning: Series.base is deprecated and will be removed in a future version\n",
      "  if getattr(data, 'base', None) is not None and \\\n"
     ]
    },
    {
     "name": "stdout",
     "output_type": "stream",
     "text": [
      "[19:31:20] WARNING: C:/Jenkins/workspace/xgboost-win64_release_0.90/src/objective/regression_obj.cu:152: reg:linear is now deprecated in favor of reg:squarederror.\n"
     ]
    },
    {
     "data": {
      "text/plain": [
       "XGBRegressor(base_score=0.5, booster='gbtree', colsample_bylevel=1,\n",
       "             colsample_bynode=1, colsample_bytree=0.4, gamma=0,\n",
       "             importance_type='gain', learning_rate=0.1, max_delta_step=0,\n",
       "             max_depth=3, min_child_weight=1.5, missing=None,\n",
       "             n_estimators=10000, n_jobs=1, nthread=None, objective='reg:linear',\n",
       "             random_state=0, reg_alpha=0.75, reg_lambda=0.45,\n",
       "             scale_pos_weight=1, seed=42, silent=None, subsample=0.6,\n",
       "             verbosity=1)"
      ]
     },
     "execution_count": 50,
     "metadata": {},
     "output_type": "execute_result"
    }
   ],
   "source": [
    "model.fit(X_train, y_train)"
   ]
  },
  {
   "cell_type": "code",
   "execution_count": 51,
   "metadata": {},
   "outputs": [],
   "source": [
    "y_pred = model.predict(X_test)"
   ]
  },
  {
   "cell_type": "code",
   "execution_count": 52,
   "metadata": {},
   "outputs": [],
   "source": [
    "from sklearn.metrics import mean_squared_error\n",
    "def score(y_test,y_pred):\n",
    "    return 100*max(0,1-mean_squared_error(y_test,y_pred))"
   ]
  },
  {
   "cell_type": "code",
   "execution_count": 53,
   "metadata": {},
   "outputs": [
    {
     "data": {
      "text/plain": [
       "95.47181451616879"
      ]
     },
     "execution_count": 53,
     "metadata": {},
     "output_type": "execute_result"
    }
   ],
   "source": [
    "score(y_test,y_pred)"
   ]
  },
  {
   "cell_type": "code",
   "execution_count": 54,
   "metadata": {},
   "outputs": [
    {
     "data": {
      "text/plain": [
       "array([0.18663475, 0.29879946, 0.40124175, ..., 0.148049  , 0.08715537,\n",
       "       0.11978972], dtype=float32)"
      ]
     },
     "execution_count": 54,
     "metadata": {},
     "output_type": "execute_result"
    }
   ],
   "source": [
    "test_data = Test_data.drop('Attrition_rate',1)\n",
    "test_predict = model.predict(test_data)\n",
    "test_predict.shape\n",
    "test_predict"
   ]
  },
  {
   "cell_type": "code",
   "execution_count": 55,
   "metadata": {},
   "outputs": [],
   "source": [
    "test = pd.read_csv('./Dataset/Test.csv')"
   ]
  },
  {
   "cell_type": "code",
   "execution_count": 56,
   "metadata": {},
   "outputs": [],
   "source": [
    "submission=pd.DataFrame(test_predict, columns=['Attrition_rate']) \n",
    "submission['Employee_ID']= test['Employee_ID']\n",
    "submission.head(2)\n",
    "pd.DataFrame(submission,columns = ['Employee_ID','Attrition_rate']).to_csv('xgb.csv',index = False)"
   ]
  }
 ],
 "metadata": {
  "kernelspec": {
   "display_name": "Python 3",
   "language": "python",
   "name": "python3"
  },
  "language_info": {
   "codemirror_mode": {
    "name": "ipython",
    "version": 3
   },
   "file_extension": ".py",
   "mimetype": "text/x-python",
   "name": "python",
   "nbconvert_exporter": "python",
   "pygments_lexer": "ipython3",
   "version": "3.7.4"
  }
 },
 "nbformat": 4,
 "nbformat_minor": 2
}
